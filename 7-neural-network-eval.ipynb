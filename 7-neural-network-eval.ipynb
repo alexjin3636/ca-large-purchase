{
 "cells": [
  {
   "cell_type": "code",
   "execution_count": 47,
   "id": "62ae1cf0-891d-46cb-8f14-126807a7f799",
   "metadata": {
    "tags": []
   },
   "outputs": [],
   "source": [
    "import torch\n",
    "import os\n",
    "import datetime\n",
    "import numpy as np\n",
    "import pandas as pd\n",
    "import math\n",
    "from tqdm.notebook import tqdm\n",
    "from torch.utils.data import Dataset, DataLoader\n",
    "import torch.nn.functional as Fun\n",
    "from utils import price_to_log_cat, get_date_to_month_buckets, quantity_to_log_cat"
   ]
  },
  {
   "cell_type": "code",
   "execution_count": 108,
   "id": "446cab5d-c330-4d37-af02-2e444822a1c1",
   "metadata": {
    "tags": []
   },
   "outputs": [
    {
     "data": {
      "application/vnd.jupyter.widget-view+json": {
       "model_id": "77662e94bba24713aa4affa8cc34947d",
       "version_major": 2,
       "version_minor": 0
      },
      "text/plain": [
       "  0%|          | 0/100 [00:00<?, ?it/s]"
      ]
     },
     "metadata": {},
     "output_type": "display_data"
    },
    {
     "name": "stdout",
     "output_type": "stream",
     "text": [
      "Found 0 embeddings: (1000, 1536)\n"
     ]
    }
   ],
   "source": [
    "total_tasks = 100\n",
    "per_task = 10\n",
    "embeddings = np.empty(0)\n",
    "embedding_indices = set()\n",
    "\n",
    "for i in tqdm(range(total_tasks)):\n",
    "    emb_f = f'test_embeddings/test_embeddings_{i}.npy'\n",
    "    if os.path.isfile(emb_f):\n",
    "        embedding = np.load(emb_f)\n",
    "        if embeddings.size == 0:\n",
    "            embeddings = embedding[:,1:]\n",
    "        else:\n",
    "            embeddings = np.vstack((embeddings, embedding[:,1:]))\n",
    "    else:\n",
    "        print(f'Missing embedding file: {emb_f}')\n",
    "\n",
    "print(f'Found {len(embedding_indices)} embeddings: {embeddings.shape}')\n",
    "test_df = pd.read_csv('test.csv', index_col=0)\n",
    "train_df = pd.read_csv('train.csv', index_col=0)"
   ]
  },
  {
   "cell_type": "code",
   "execution_count": 109,
   "id": "f2d4a72f-2c26-4b8a-be99-91b87f90f4b9",
   "metadata": {
    "tags": []
   },
   "outputs": [],
   "source": [
    "concealed_index = np.load('test_conceal_index.npy')\n",
    "train_df['Creation Date'] = pd.to_datetime(train_df['Creation Date'], format='%m/%d/%Y')\n",
    "date_to_month_buckets = get_date_to_month_buckets(train_df['Creation Date'].min())"
   ]
  },
  {
   "cell_type": "code",
   "execution_count": 5,
   "id": "c720962b-2c3e-45fb-9576-064cbf40145b",
   "metadata": {},
   "outputs": [],
   "source": [
    "class MultiTask_Network(torch.nn.Module):\n",
    "    def __init__(self, input_dim, \n",
    "                 output_dim_0 : int = 1,\n",
    "                 output_dim_1 : int = 1,\n",
    "                 output_dim_2 : int = 1,\n",
    "                 output_dim_3 : int = 1,\n",
    "                 output_dim_4 : int = 1,\n",
    "                 hidden_dim : int = 2048):\n",
    "        \n",
    "        super(MultiTask_Network, self).__init__()\n",
    "        self.input_dim = input_dim\n",
    "        self.output_dim_0 = output_dim_0\n",
    "        self.output_dim_1 = output_dim_1\n",
    "        self.output_dim_2 = output_dim_2\n",
    "        self.output_dim_3 = output_dim_3\n",
    "        self.output_dim_4 = output_dim_4\n",
    "        self.hidden_dim = hidden_dim\n",
    "        \n",
    "        self.hidden0 = torch.nn.Linear(self.input_dim, self.hidden_dim)\n",
    "        self.hidden1 = torch.nn.Linear(self.hidden_dim, self.hidden_dim)\n",
    "        self.hidden2 = torch.nn.Linear(self.hidden_dim, self.hidden_dim)\n",
    "        self.final_0 = torch.nn.Linear(self.hidden_dim, self.output_dim_0)\n",
    "        self.final_1 = torch.nn.Linear(self.hidden_dim, self.output_dim_1)\n",
    "        self.final_2 = torch.nn.Linear(self.hidden_dim, self.output_dim_2)\n",
    "        self.final_3 = torch.nn.Linear(self.hidden_dim, self.output_dim_3)\n",
    "        self.final_4 = torch.nn.Linear(self.hidden_dim, self.output_dim_4)\n",
    "        \n",
    "    def forward(self, x : torch.Tensor, task_id : int):\n",
    "        x = self.hidden0(x)\n",
    "        x = torch.relu(x)\n",
    "        x = self.hidden1(x)\n",
    "        x = torch.relu(x)\n",
    "        x = self.hidden2(x)\n",
    "        x = torch.relu(x)\n",
    "        if task_id == 0:\n",
    "            x = self.final_0(x)\n",
    "        elif task_id == 1:\n",
    "            x = self.final_1(x)\n",
    "        elif task_id == 2:\n",
    "            x = self.final_2(x)\n",
    "        elif task_id == 3:\n",
    "            x = self.final_3(x)\n",
    "        elif task_id == 4:\n",
    "            x = self.final_4(x)\n",
    "        else:\n",
    "            assert False, 'Bad Task ID passed'\n",
    "        \n",
    "        return x"
   ]
  },
  {
   "cell_type": "code",
   "execution_count": 115,
   "id": "3b976356-59c6-4846-a6df-d19f9480924f",
   "metadata": {
    "tags": []
   },
   "outputs": [
    {
     "data": {
      "text/plain": [
       "MultiTask_Network(\n",
       "  (hidden0): Linear(in_features=1536, out_features=2048, bias=True)\n",
       "  (hidden1): Linear(in_features=2048, out_features=2048, bias=True)\n",
       "  (hidden2): Linear(in_features=2048, out_features=2048, bias=True)\n",
       "  (final_0): Linear(in_features=2048, out_features=13, bias=True)\n",
       "  (final_1): Linear(in_features=2048, out_features=13, bias=True)\n",
       "  (final_2): Linear(in_features=2048, out_features=39, bias=True)\n",
       "  (final_3): Linear(in_features=2048, out_features=75, bias=True)\n",
       "  (final_4): Linear(in_features=2048, out_features=19, bias=True)\n",
       ")"
      ]
     },
     "execution_count": 115,
     "metadata": {},
     "output_type": "execute_result"
    }
   ],
   "source": [
    "model = MultiTask_Network(1536,\n",
    "                          output_dim_0 = 13,\n",
    "                          output_dim_1 = 13,\n",
    "                          output_dim_2 = 39,\n",
    "                          output_dim_3 = 75,\n",
    "                          output_dim_4 = 19)\n",
    "model.load_state_dict(torch.load('./ckpt2'))\n",
    "model.eval()"
   ]
  },
  {
   "cell_type": "code",
   "execution_count": 116,
   "id": "652e413a-b30e-4138-b248-0b8abc409448",
   "metadata": {
    "tags": []
   },
   "outputs": [],
   "source": [
    "concealed_entries = []\n",
    "actual_bin = []\n",
    "actual_bin_value = []\n",
    "pred_bin = []\n",
    "pred_bin_value = []\n",
    "correct = []\n",
    "for i in range(1000):\n",
    "    ci = concealed_index[i]\n",
    "    pred = int(model(torch.from_numpy(embeddings[i:i+1]).float().squeeze(), task_id=ci).argmax())\n",
    "    task_correct = [0]*5\n",
    "    task_total = [0]*5\n",
    "    if ci == 0:\n",
    "        # Total Price\n",
    "        if pred == 0:\n",
    "            total_price = 'NaN'\n",
    "        elif pred == 1:\n",
    "            total_price = 'negative'\n",
    "        elif pred == 2:\n",
    "            total_price = '$0 - $1'\n",
    "        else:\n",
    "            total_price = f'${10**(pred-3)} - ${10**(pred-2)}'\n",
    "        actual = test_df.iloc[i][\"Total Price\"]\n",
    "        y = price_to_log_cat(actual)\n",
    "        concealed_entries.append('Total Price')\n",
    "        # print(f'Concealed entry = Total Price. Actual: bin {y} ({actual}) Predicted: bin {pred} ({total_price})')\n",
    "    elif ci == 1:\n",
    "        # Unit Price\n",
    "        if pred == 0:\n",
    "            unit_price = 'NaN'\n",
    "        elif pred == 1:\n",
    "            unit_price = 'negative'\n",
    "        elif pred == 2:\n",
    "            unit_price = '$0 - $1'\n",
    "        else:\n",
    "            unit_price = f'${10**(pred-3)} - ${10**(pred-2)}'\n",
    "        actual = test_df.iloc[i][\"Unit Price\"]\n",
    "        y = price_to_log_cat(actual)\n",
    "        concealed_entries.append('Unit Price')\n",
    "        # print(f'Concealed entry = Unit Price. Actual: bin {y} ({actual}) Predicted: bin {pred} ({unit_price})')\n",
    "    elif ci == 2:\n",
    "        # Creation Date\n",
    "        if pred == 0:\n",
    "            creation_date = 'NaN'\n",
    "        elif pred == 1:\n",
    "            creation_date = 'before 2012-07-02'\n",
    "        elif pred == 2:\n",
    "            date_start = pd.Timestamp(train_df['Creation Date'].min() + datetime.timedelta(days=0)).strftime('%m/%d/%Y')\n",
    "            date_end = pd.Timestamp(train_df['Creation Date'].min() + datetime.timedelta(days=15)).strftime('%m/%d/%Y')\n",
    "            creation_date = f'{date_start} - {date_end}'\n",
    "        else:\n",
    "            month_delta = pred - 2\n",
    "            date_start = pd.Timestamp(train_df['Creation Date'].min() + datetime.timedelta(days=month_delta*30-15)).strftime('%m/%d/%Y')\n",
    "            date_end = pd.Timestamp(train_df['Creation Date'].min() + datetime.timedelta(days=month_delta*30+15)).strftime('%m/%d/%Y')\n",
    "            creation_date = f'{date_start} - {date_end}'\n",
    "        actual = test_df.iloc[i][\"Creation Date\"]\n",
    "        y = date_to_month_buckets(pd.to_datetime(actual, format='%m/%d/%Y'))\n",
    "        concealed_entries.append('Creation Date')\n",
    "        # print(f'Concealed entry = Creation Date. Actual: bin {y} ({actual}) Predicted: bin {pred} ({creation_date})')\n",
    "    elif ci == 3:\n",
    "        # Purchase Date\n",
    "        if pred == 0:\n",
    "            purchase_date = 'NaN'\n",
    "        elif pred == 1:\n",
    "            purchase_date = 'before 2012-07-02'\n",
    "        elif pred == 2:\n",
    "            date_start = pd.Timestamp(train_df['Creation Date'].min() + datetime.timedelta(days=0)).strftime('%m/%d/%Y')\n",
    "            date_end = pd.Timestamp(train_df['Creation Date'].min() + datetime.timedelta(days=15)).strftime('%m/%d/%Y')\n",
    "            purchase_date = f'{date_start} - {date_end}'\n",
    "        else:\n",
    "            month_delta = pred - 2\n",
    "            date_start = pd.Timestamp(train_df['Creation Date'].min() + datetime.timedelta(days=month_delta*30-15)).strftime('%m/%d/%Y')\n",
    "            date_end = pd.Timestamp(train_df['Creation Date'].min() + datetime.timedelta(days=month_delta*30+15)).strftime('%m/%d/%Y')\n",
    "            purchase_date = f'{date_start} - {date_end}'\n",
    "        actual = test_df.iloc[i][\"Creation Date\"]\n",
    "        y = date_to_month_buckets(pd.to_datetime(actual, format='%m/%d/%Y'))\n",
    "        concealed_entries.append('Purchase Date')\n",
    "        # print(f'Concealed entry = Purchase Date. Actual: bin {y} ({actual}) Predicted: bin {pred} ({purchase_date})')\n",
    "    elif ci == 4:\n",
    "        # Quantity\n",
    "        if pred == 0:\n",
    "            quantity = 'NaN'\n",
    "        elif pred == 1:\n",
    "            quantity = '<=1'\n",
    "        else:\n",
    "            quantity = f'{2**(pred-2)} - {2**(pred-1)}'\n",
    "        actual = test_df.iloc[i][\"Quantity\"]\n",
    "        y = quantity_to_log_cat(actual)\n",
    "        concealed_entries.append('Quantity')\n",
    "        # print(f'Concealed entry = Quantity. Actual: bin {y} ({actual}) Predicted: bin {pred} ({quantity})')\n",
    "    else:\n",
    "        raise Exception\n",
    "    if ci == 2 or ci == 3:\n",
    "        if abs(pred-y) <= 1:\n",
    "            correct.append(1)\n",
    "        else:\n",
    "            correct.append(0)\n",
    "    else:\n",
    "        if pred == y:\n",
    "            correct.append(1)\n",
    "        else:\n",
    "            correct.append(0)\n",
    "    actual_bin.append(y)\n",
    "    actual_bin_value.append(str(actual))\n",
    "    pred_bin.append(pred)\n",
    "    if ci == 0:\n",
    "        pred_bin_value.append(total_price)\n",
    "    elif ci == 1:\n",
    "        pred_bin_value.append(unit_price)\n",
    "    elif ci == 2:\n",
    "        pred_bin_value.append(creation_date)\n",
    "    elif ci == 3:\n",
    "        pred_bin_value.append(purchase_date)\n",
    "    elif ci == 4:\n",
    "        pred_bin_value.append(quantity)"
   ]
  },
  {
   "cell_type": "code",
   "execution_count": 117,
   "id": "a5adc781-e3e0-4e90-b02c-2e29fd302ccf",
   "metadata": {
    "tags": []
   },
   "outputs": [
    {
     "data": {
      "text/plain": [
       "0.7"
      ]
     },
     "execution_count": 117,
     "metadata": {},
     "output_type": "execute_result"
    }
   ],
   "source": [
    "sum(correct)/1000"
   ]
  },
  {
   "cell_type": "code",
   "execution_count": 112,
   "id": "881bc4f1-602d-401a-8dad-74c8ff9ac7f3",
   "metadata": {
    "tags": []
   },
   "outputs": [],
   "source": [
    "test_df.insert(0, \"correct\", correct, True)\n",
    "test_df.insert(0, \"pred_bin_value\", pred_bin_value, True)\n",
    "test_df.insert(0, \"pred_bin\", pred_bin, True)\n",
    "test_df.insert(0, \"actual_bin_value\", actual_bin_value, True)\n",
    "test_df.insert(0, \"actual_bin\", actual_bin, True)\n",
    "test_df.insert(0, \"concealed_entries\", concealed_entries, True)"
   ]
  },
  {
   "cell_type": "code",
   "execution_count": 114,
   "id": "fa1d27f4-1975-4946-beca-61adba951aae",
   "metadata": {
    "tags": []
   },
   "outputs": [],
   "source": [
    "test_df.to_csv('test_.csv', sep=',')"
   ]
  },
  {
   "cell_type": "code",
   "execution_count": null,
   "id": "a8bd333f-1a4d-4dbe-b073-6b168f74f548",
   "metadata": {},
   "outputs": [],
   "source": []
  }
 ],
 "metadata": {
  "kernelspec": {
   "display_name": "Python 3 (ipykernel)",
   "language": "python",
   "name": "python3"
  },
  "language_info": {
   "codemirror_mode": {
    "name": "ipython",
    "version": 3
   },
   "file_extension": ".py",
   "mimetype": "text/x-python",
   "name": "python",
   "nbconvert_exporter": "python",
   "pygments_lexer": "ipython3",
   "version": "3.9.6"
  }
 },
 "nbformat": 4,
 "nbformat_minor": 5
}
