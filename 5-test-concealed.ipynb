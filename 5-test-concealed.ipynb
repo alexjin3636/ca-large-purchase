{
 "cells": [
  {
   "cell_type": "code",
   "execution_count": 4,
   "id": "cfbe226e-15d7-4a56-a22f-1de7d0612f32",
   "metadata": {
    "tags": []
   },
   "outputs": [],
   "source": [
    "import numpy as np\n",
    "import pandas as pd"
   ]
  },
  {
   "cell_type": "code",
   "execution_count": 2,
   "id": "f956caf9-e1d1-4fd6-955a-1105af32bc51",
   "metadata": {
    "tags": []
   },
   "outputs": [],
   "source": [
    "df = pd.read_csv('test.csv', index_col=0)"
   ]
  },
  {
   "cell_type": "code",
   "execution_count": 3,
   "id": "fa1f3f12-c5d8-4b8c-b417-a9084d8f1bb7",
   "metadata": {
    "tags": []
   },
   "outputs": [
    {
     "data": {
      "text/plain": [
       "(1000, 31)"
      ]
     },
     "execution_count": 3,
     "metadata": {},
     "output_type": "execute_result"
    }
   ],
   "source": [
    "df.shape"
   ]
  },
  {
   "cell_type": "code",
   "execution_count": 10,
   "id": "fa1b44cc-6dbe-4f1f-b77f-a5dabc21716e",
   "metadata": {
    "tags": []
   },
   "outputs": [],
   "source": [
    "np.random.seed(42)\n",
    "concealed_index = np.random.choice(5, df.shape[0])"
   ]
  },
  {
   "cell_type": "code",
   "execution_count": 12,
   "id": "b4b31b4d-07f8-4329-972e-c34522bffbb4",
   "metadata": {
    "tags": []
   },
   "outputs": [],
   "source": [
    "np.save('test_conceal_index.npy', concealed_index)"
   ]
  },
  {
   "cell_type": "code",
   "execution_count": null,
   "id": "69f38bed-ea40-4ddf-92b8-cd1e9dff1bb5",
   "metadata": {},
   "outputs": [],
   "source": []
  }
 ],
 "metadata": {
  "kernelspec": {
   "display_name": "Python 3 (ipykernel)",
   "language": "python",
   "name": "python3"
  },
  "language_info": {
   "codemirror_mode": {
    "name": "ipython",
    "version": 3
   },
   "file_extension": ".py",
   "mimetype": "text/x-python",
   "name": "python",
   "nbconvert_exporter": "python",
   "pygments_lexer": "ipython3",
   "version": "3.9.6"
  }
 },
 "nbformat": 4,
 "nbformat_minor": 5
}
