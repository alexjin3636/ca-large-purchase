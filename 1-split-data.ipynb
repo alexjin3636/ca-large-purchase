{
 "cells": [
  {
   "cell_type": "code",
   "execution_count": 1,
   "id": "cfbe226e-15d7-4a56-a22f-1de7d0612f32",
   "metadata": {
    "tags": []
   },
   "outputs": [],
   "source": [
    "import pandas as pd\n",
    "from sklearn.model_selection import train_test_split"
   ]
  },
  {
   "cell_type": "code",
   "execution_count": 2,
   "id": "f956caf9-e1d1-4fd6-955a-1105af32bc51",
   "metadata": {
    "tags": []
   },
   "outputs": [],
   "source": [
    "df = pd.read_csv('PURCHASE ORDER DATA EXTRACT 2012-2015_0.csv')"
   ]
  },
  {
   "cell_type": "code",
   "execution_count": 3,
   "id": "fa1f3f12-c5d8-4b8c-b417-a9084d8f1bb7",
   "metadata": {
    "tags": []
   },
   "outputs": [
    {
     "name": "stdout",
     "output_type": "stream",
     "text": [
      "(345018, 31)\n",
      "(1000, 31)\n"
     ]
    }
   ],
   "source": [
    "train_df, test_df = train_test_split(df, test_size=1000, random_state=42)\n",
    "train_df = train_df.sort_index()\n",
    "test_df = test_df.sort_index()\n",
    "print(train_df.shape)\n",
    "print(test_df.shape)"
   ]
  },
  {
   "cell_type": "code",
   "execution_count": 4,
   "id": "fa1b44cc-6dbe-4f1f-b77f-a5dabc21716e",
   "metadata": {
    "tags": []
   },
   "outputs": [],
   "source": [
    "train_df.to_csv('train.csv', sep=',')\n",
    "test_df.to_csv('test.csv', sep=',')"
   ]
  }
 ],
 "metadata": {
  "kernelspec": {
   "display_name": "Python 3 (ipykernel)",
   "language": "python",
   "name": "python3"
  },
  "language_info": {
   "codemirror_mode": {
    "name": "ipython",
    "version": 3
   },
   "file_extension": ".py",
   "mimetype": "text/x-python",
   "name": "python",
   "nbconvert_exporter": "python",
   "pygments_lexer": "ipython3",
   "version": "3.9.6"
  }
 },
 "nbformat": 4,
 "nbformat_minor": 5
}
