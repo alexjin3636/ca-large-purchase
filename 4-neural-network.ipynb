{
 "cells": [
  {
   "cell_type": "code",
   "execution_count": 1,
   "id": "62ae1cf0-891d-46cb-8f14-126807a7f799",
   "metadata": {
    "tags": []
   },
   "outputs": [],
   "source": [
    "import torch\n",
    "import os\n",
    "import numpy as np\n",
    "import pandas as pd\n",
    "import math\n",
    "from tqdm.notebook import tqdm\n",
    "from torch.utils.data import Dataset, DataLoader\n",
    "import torch.nn.functional as Fun\n",
    "from utils import price_to_log_cat, get_date_to_month_buckets, quantity_to_log_cat"
   ]
  },
  {
   "cell_type": "code",
   "execution_count": 2,
   "id": "446cab5d-c330-4d37-af02-2e444822a1c1",
   "metadata": {
    "tags": []
   },
   "outputs": [
    {
     "data": {
      "application/vnd.jupyter.widget-view+json": {
       "model_id": "c5b1277a53ae492f994cca4ced439c5c",
       "version_major": 2,
       "version_minor": 0
      },
      "text/plain": [
       "  0%|          | 0/3460 [00:00<?, ?it/s]"
      ]
     },
     "metadata": {},
     "output_type": "display_data"
    },
    {
     "name": "stdout",
     "output_type": "stream",
     "text": [
      "Found 0 embeddings: (345018, 1536)\n"
     ]
    },
    {
     "data": {
      "text/plain": [
       "(345018, 31)"
      ]
     },
     "execution_count": 2,
     "metadata": {},
     "output_type": "execute_result"
    }
   ],
   "source": [
    "# total_tasks = 3460\n",
    "total_tasks = 3460\n",
    "per_task = 100\n",
    "embeddings = np.empty(0)\n",
    "embedding_indices = set()\n",
    "\n",
    "for i in tqdm(range(total_tasks)):\n",
    "    emb_f = f'training_embeddings/training_embeddings_{i}.npy'\n",
    "    if os.path.isfile(emb_f):\n",
    "        embedding = np.load(emb_f)\n",
    "        if embeddings.size == 0:\n",
    "            embeddings = embedding[:,1:]\n",
    "        else:\n",
    "            embeddings = np.vstack((embeddings, embedding[:,1:]))\n",
    "    else:\n",
    "        print(f'Missing embedding file: {emb_f}')\n",
    "\n",
    "print(f'Found {len(embedding_indices)} embeddings: {embeddings.shape}')\n",
    "train_df = pd.read_csv('train.csv', index_col=0)\n",
    "train_df.shape"
   ]
  },
  {
   "cell_type": "code",
   "execution_count": 3,
   "id": "badfa478-69a0-4c86-ba06-a6acfca343fd",
   "metadata": {
    "tags": []
   },
   "outputs": [],
   "source": [
    "train_df['Total Price'] = train_df['Total Price'].apply(price_to_log_cat).to_numpy()\n",
    "train_df['Unit Price'] = train_df['Unit Price'].apply(price_to_log_cat).to_numpy()"
   ]
  },
  {
   "cell_type": "code",
   "execution_count": 4,
   "id": "7928b77d-1341-426c-8aab-87f78eac5601",
   "metadata": {},
   "outputs": [],
   "source": [
    "# Improve date sanitization with GPT cleaning\n",
    "train_df['Purchase Date'] = pd.to_datetime([date[:-4]+'20'+date[-2:] if type(date) == str else date for date in train_df['Purchase Date'].values], format='%m/%d/%Y')\n",
    "train_df['Creation Date'] = pd.to_datetime(train_df['Creation Date'], format='%m/%d/%Y')\n",
    "date_to_month_buckets = get_date_to_month_buckets(train_df['Creation Date'].min())\n",
    "train_df['Creation Date'] = train_df['Creation Date'].apply(date_to_month_buckets).to_numpy()\n",
    "train_df['Purchase Date'] = train_df['Purchase Date'].apply(date_to_month_buckets).to_numpy()"
   ]
  },
  {
   "cell_type": "code",
   "execution_count": 5,
   "id": "0f73f11e-f7e7-4f08-bee4-40ede6318a1f",
   "metadata": {},
   "outputs": [],
   "source": [
    "train_df['Quantity'] = train_df['Quantity'].apply(quantity_to_log_cat).to_numpy()"
   ]
  },
  {
   "cell_type": "code",
   "execution_count": 6,
   "id": "08d51de2-a877-4a64-bd00-c1b15d23212f",
   "metadata": {
    "tags": []
   },
   "outputs": [],
   "source": [
    "class Task_Dataset(Dataset):\n",
    "    def __init__(self, X : np.ndarray, \n",
    "                       y : np.ndarray):\n",
    "        self.X = X\n",
    "        self.y = Fun.one_hot(torch.from_numpy(y).to(torch.int64))\n",
    "        assert self.X.shape[0] == self.y.shape[0]\n",
    "        \n",
    "    def __len__(self):\n",
    "        return len(self.y)\n",
    "    \n",
    "    def __getitem__(self, idx):    \n",
    "        X = torch.from_numpy(self.X[idx,:]).float().squeeze()\n",
    "        y = self.y[idx]\n",
    "        return X, y"
   ]
  },
  {
   "cell_type": "code",
   "execution_count": 7,
   "id": "c0c73576-9ed9-4780-a38b-ee459f5ead67",
   "metadata": {
    "tags": []
   },
   "outputs": [],
   "source": [
    "total_price_ds = Task_Dataset(embeddings, train_df.iloc[:total_tasks*per_task]['Total Price'].to_numpy())\n",
    "total_price_dl = DataLoader(total_price_ds, batch_size = 64, shuffle = True)\n",
    "\n",
    "unit_price_ds = Task_Dataset(embeddings, train_df.iloc[:total_tasks*per_task]['Unit Price'].to_numpy())\n",
    "unit_price_dl = DataLoader(unit_price_ds, batch_size = 64, shuffle = True)\n",
    "\n",
    "creation_date_ds = Task_Dataset(embeddings, train_df.iloc[:total_tasks*per_task]['Creation Date'].to_numpy())\n",
    "creation_date_dl = DataLoader(creation_date_ds, batch_size = 64, shuffle = True)\n",
    "\n",
    "purchase_date_ds = Task_Dataset(embeddings, train_df.iloc[:total_tasks*per_task]['Purchase Date'].to_numpy())\n",
    "purchase_date_dl = DataLoader(purchase_date_ds, batch_size = 64, shuffle = True)\n",
    "\n",
    "quantity_ds = Task_Dataset(embeddings, train_df.iloc[:total_tasks*per_task]['Quantity'].to_numpy())\n",
    "quantity_dl = DataLoader(quantity_ds, batch_size = 64, shuffle = True)"
   ]
  },
  {
   "cell_type": "code",
   "execution_count": 8,
   "id": "c720962b-2c3e-45fb-9576-064cbf40145b",
   "metadata": {},
   "outputs": [],
   "source": [
    "class MultiTask_Network(torch.nn.Module):\n",
    "    def __init__(self, input_dim, \n",
    "                 output_dim_0 : int = 1,\n",
    "                 output_dim_1 : int = 1,\n",
    "                 output_dim_2 : int = 1,\n",
    "                 output_dim_3 : int = 1,\n",
    "                 output_dim_4 : int = 1,\n",
    "                 hidden_dim : int = 2048):\n",
    "        \n",
    "        super(MultiTask_Network, self).__init__()\n",
    "        self.input_dim = input_dim\n",
    "        self.output_dim_0 = output_dim_0\n",
    "        self.output_dim_1 = output_dim_1\n",
    "        self.output_dim_2 = output_dim_2\n",
    "        self.output_dim_3 = output_dim_3\n",
    "        self.output_dim_4 = output_dim_4\n",
    "        self.hidden_dim = hidden_dim\n",
    "        \n",
    "        self.hidden0 = torch.nn.Linear(self.input_dim, self.hidden_dim)\n",
    "        self.hidden1 = torch.nn.Linear(self.hidden_dim, self.hidden_dim)\n",
    "        self.hidden2 = torch.nn.Linear(self.hidden_dim, self.hidden_dim)\n",
    "        self.final_0 = torch.nn.Linear(self.hidden_dim, self.output_dim_0)\n",
    "        self.final_1 = torch.nn.Linear(self.hidden_dim, self.output_dim_1)\n",
    "        self.final_2 = torch.nn.Linear(self.hidden_dim, self.output_dim_2)\n",
    "        self.final_3 = torch.nn.Linear(self.hidden_dim, self.output_dim_3)\n",
    "        self.final_4 = torch.nn.Linear(self.hidden_dim, self.output_dim_4)\n",
    "        \n",
    "    def forward(self, x : torch.Tensor, task_id : int):\n",
    "        x = self.hidden0(x)\n",
    "        x = torch.relu(x)\n",
    "        x = self.hidden1(x)\n",
    "        x = torch.relu(x)\n",
    "        x = self.hidden2(x)\n",
    "        x = torch.relu(x)\n",
    "        if task_id == 0:\n",
    "            x = self.final_0(x)\n",
    "        elif task_id == 1:\n",
    "            x = self.final_1(x)\n",
    "        elif task_id == 2:\n",
    "            x = self.final_2(x)\n",
    "        elif task_id == 3:\n",
    "            x = self.final_3(x)\n",
    "        elif task_id == 4:\n",
    "            x = self.final_4(x)\n",
    "        else:\n",
    "            assert False, 'Bad Task ID passed'\n",
    "        \n",
    "        return x"
   ]
  },
  {
   "cell_type": "code",
   "execution_count": 9,
   "id": "3b976356-59c6-4846-a6df-d19f9480924f",
   "metadata": {
    "tags": []
   },
   "outputs": [],
   "source": [
    "model = MultiTask_Network(total_price_ds.X.shape[1],\n",
    "                          output_dim_0 = total_price_ds.y.shape[1],\n",
    "                          output_dim_1 = unit_price_ds.y.shape[1],\n",
    "                          output_dim_2 = creation_date_ds.y.shape[1],\n",
    "                          output_dim_3 = purchase_date_ds.y.shape[1],\n",
    "                          output_dim_4 = quantity_ds.y.shape[1])\n",
    "optimizer = torch.optim.Adam(model.parameters(), lr = 1e-4)\n",
    "loss_fn_0 = torch.nn.CrossEntropyLoss()\n",
    "loss_fn_1 = torch.nn.CrossEntropyLoss()\n",
    "loss_fn_2 = torch.nn.CrossEntropyLoss()\n",
    "loss_fn_3 = torch.nn.CrossEntropyLoss()\n",
    "loss_fn_4 = torch.nn.CrossEntropyLoss()"
   ]
  },
  {
   "cell_type": "code",
   "execution_count": 21,
   "id": "d15deec1-6092-486a-ba32-ba79f65f1fb8",
   "metadata": {
    "tags": []
   },
   "outputs": [
    {
     "name": "stdout",
     "output_type": "stream",
     "text": [
      "1536 13 13 39 75 19\n"
     ]
    }
   ],
   "source": [
    "print(total_price_ds.X.shape[1],\n",
    "                          total_price_ds.y.shape[1],\n",
    "                          unit_price_ds.y.shape[1],\n",
    "                          creation_date_ds.y.shape[1],\n",
    "                          purchase_date_ds.y.shape[1],\n",
    "                          quantity_ds.y.shape[1])"
   ]
  },
  {
   "cell_type": "code",
   "execution_count": 10,
   "id": "48082c3e-f7e9-4de0-a32d-383dd522ea55",
   "metadata": {
    "tags": []
   },
   "outputs": [
    {
     "data": {
      "application/vnd.jupyter.widget-view+json": {
       "model_id": "8ddde4abedd34646a61da3498046b419",
       "version_major": 2,
       "version_minor": 0
      },
      "text/plain": [
       "  0%|          | 0/5391 [00:00<?, ?batch/s]"
      ]
     },
     "metadata": {},
     "output_type": "display_data"
    },
    {
     "data": {
      "application/vnd.jupyter.widget-view+json": {
       "model_id": "dddc893b5f8d43b085c258eae06c08e6",
       "version_major": 2,
       "version_minor": 0
      },
      "text/plain": [
       "  0%|          | 0/5391 [00:00<?, ?batch/s]"
      ]
     },
     "metadata": {},
     "output_type": "display_data"
    },
    {
     "name": "stdout",
     "output_type": "stream",
     "text": [
      "Epoch 0 accuracy: total_price=61.706345755873606 unit_price=58.213484513851455 creation_date=19.404784677900864 purchase_date=23.401967433583177 quantity_dl=70.27082644963451\n"
     ]
    },
    {
     "data": {
      "application/vnd.jupyter.widget-view+json": {
       "model_id": "f5160a183e024459b5e4de0e567d6587",
       "version_major": 2,
       "version_minor": 0
      },
      "text/plain": [
       "  0%|          | 0/5391 [00:00<?, ?batch/s]"
      ]
     },
     "metadata": {},
     "output_type": "display_data"
    },
    {
     "data": {
      "application/vnd.jupyter.widget-view+json": {
       "model_id": "a369d9fad44e46498a4dbc51f4f0868f",
       "version_major": 2,
       "version_minor": 0
      },
      "text/plain": [
       "  0%|          | 0/5391 [00:00<?, ?batch/s]"
      ]
     },
     "metadata": {},
     "output_type": "display_data"
    },
    {
     "name": "stdout",
     "output_type": "stream",
     "text": [
      "Epoch 1 accuracy: total_price=67.05708107982773 unit_price=65.15283260583506 creation_date=34.28255917082587 purchase_date=37.233419705638546 quantity_dl=73.801366885206\n"
     ]
    },
    {
     "data": {
      "application/vnd.jupyter.widget-view+json": {
       "model_id": "042d69f6135b4466965087b0c9ab8447",
       "version_major": 2,
       "version_minor": 0
      },
      "text/plain": [
       "  0%|          | 0/5391 [00:00<?, ?batch/s]"
      ]
     },
     "metadata": {},
     "output_type": "display_data"
    },
    {
     "data": {
      "application/vnd.jupyter.widget-view+json": {
       "model_id": "77bf4db7a5cd42829df2973ae88c93c1",
       "version_major": 2,
       "version_minor": 0
      },
      "text/plain": [
       "  0%|          | 0/5391 [00:00<?, ?batch/s]"
      ]
     },
     "metadata": {},
     "output_type": "display_data"
    },
    {
     "name": "stdout",
     "output_type": "stream",
     "text": [
      "Epoch 2 accuracy: total_price=70.74587412830635 unit_price=70.68529757867705 creation_date=46.162519056976734 purchase_date=46.863931736894884 quantity_dl=76.2650064634309\n"
     ]
    },
    {
     "data": {
      "application/vnd.jupyter.widget-view+json": {
       "model_id": "75fe0df2248a44fab3699ce1ad0deda2",
       "version_major": 2,
       "version_minor": 0
      },
      "text/plain": [
       "  0%|          | 0/5391 [00:00<?, ?batch/s]"
      ]
     },
     "metadata": {},
     "output_type": "display_data"
    },
    {
     "data": {
      "application/vnd.jupyter.widget-view+json": {
       "model_id": "0b6e8923256a4f30b8cc758b75cd9740",
       "version_major": 2,
       "version_minor": 0
      },
      "text/plain": [
       "  0%|          | 0/5391 [00:00<?, ?batch/s]"
      ]
     },
     "metadata": {},
     "output_type": "display_data"
    },
    {
     "name": "stdout",
     "output_type": "stream",
     "text": [
      "Epoch 3 accuracy: total_price=73.0724194100018 unit_price=73.35182512216754 creation_date=55.674776388478286 purchase_date=54.33861421722924 quantity_dl=77.93158617811244\n"
     ]
    },
    {
     "data": {
      "application/vnd.jupyter.widget-view+json": {
       "model_id": "0f9e9f11373b4a4ead837c6bd7af54ed",
       "version_major": 2,
       "version_minor": 0
      },
      "text/plain": [
       "  0%|          | 0/5391 [00:00<?, ?batch/s]"
      ]
     },
     "metadata": {},
     "output_type": "display_data"
    },
    {
     "data": {
      "application/vnd.jupyter.widget-view+json": {
       "model_id": "36dc2b9b65cb4634a6b7cfc349e08a11",
       "version_major": 2,
       "version_minor": 0
      },
      "text/plain": [
       "  0%|          | 0/5391 [00:00<?, ?batch/s]"
      ]
     },
     "metadata": {},
     "output_type": "display_data"
    },
    {
     "name": "stdout",
     "output_type": "stream",
     "text": [
      "Epoch 4 accuracy: total_price=72.87011112463698 unit_price=74.3851045452701 creation_date=59.40008927070471 purchase_date=56.67269533763456 quantity_dl=80.22248114591123\n"
     ]
    },
    {
     "data": {
      "application/vnd.jupyter.widget-view+json": {
       "model_id": "60d561e183054dcca09f443983780ca9",
       "version_major": 2,
       "version_minor": 0
      },
      "text/plain": [
       "  0%|          | 0/5391 [00:00<?, ?batch/s]"
      ]
     },
     "metadata": {},
     "output_type": "display_data"
    },
    {
     "data": {
      "application/vnd.jupyter.widget-view+json": {
       "model_id": "f5dda4c9f26e45ad91e4374238da2804",
       "version_major": 2,
       "version_minor": 0
      },
      "text/plain": [
       "  0%|          | 0/5391 [00:00<?, ?batch/s]"
      ]
     },
     "metadata": {},
     "output_type": "display_data"
    },
    {
     "name": "stdout",
     "output_type": "stream",
     "text": [
      "Epoch 5 accuracy: total_price=76.9559849051354 unit_price=78.03998631955434 creation_date=63.42451698172269 purchase_date=60.96754372235651 quantity_dl=81.21895089531561\n"
     ]
    },
    {
     "data": {
      "application/vnd.jupyter.widget-view+json": {
       "model_id": "0787aa5bb38c41aea574e6a632356d64",
       "version_major": 2,
       "version_minor": 0
      },
      "text/plain": [
       "  0%|          | 0/5391 [00:00<?, ?batch/s]"
      ]
     },
     "metadata": {},
     "output_type": "display_data"
    },
    {
     "data": {
      "application/vnd.jupyter.widget-view+json": {
       "model_id": "d80f4831a303435793f158d9b23b847b",
       "version_major": 2,
       "version_minor": 0
      },
      "text/plain": [
       "  0%|          | 0/5391 [00:00<?, ?batch/s]"
      ]
     },
     "metadata": {},
     "output_type": "display_data"
    },
    {
     "name": "stdout",
     "output_type": "stream",
     "text": [
      "Epoch 6 accuracy: total_price=79.01095015332533 unit_price=80.43841190894389 creation_date=67.3585146282223 purchase_date=63.69667669512895 quantity_dl=82.85335837550505\n"
     ]
    },
    {
     "data": {
      "application/vnd.jupyter.widget-view+json": {
       "model_id": "bf2a815be387481092d9abc8d0ff9a09",
       "version_major": 2,
       "version_minor": 0
      },
      "text/plain": [
       "  0%|          | 0/5391 [00:00<?, ?batch/s]"
      ]
     },
     "metadata": {},
     "output_type": "display_data"
    },
    {
     "data": {
      "application/vnd.jupyter.widget-view+json": {
       "model_id": "afebc9090ab64ce996d1bc5b6947a58a",
       "version_major": 2,
       "version_minor": 0
      },
      "text/plain": [
       "  0%|          | 0/5391 [00:00<?, ?batch/s]"
      ]
     },
     "metadata": {},
     "output_type": "display_data"
    },
    {
     "name": "stdout",
     "output_type": "stream",
     "text": [
      "Epoch 7 accuracy: total_price=78.11041742749654 unit_price=79.71265267319386 creation_date=70.28010132804665 purchase_date=66.7069544197694 quantity_dl=83.5927400889229\n"
     ]
    },
    {
     "data": {
      "application/vnd.jupyter.widget-view+json": {
       "model_id": "2e70ed7aa6a54a3d905fd73e2a5d943a",
       "version_major": 2,
       "version_minor": 0
      },
      "text/plain": [
       "  0%|          | 0/5391 [00:00<?, ?batch/s]"
      ]
     },
     "metadata": {},
     "output_type": "display_data"
    },
    {
     "data": {
      "application/vnd.jupyter.widget-view+json": {
       "model_id": "c2072579a5bf4dc69b1d4a406cc795cf",
       "version_major": 2,
       "version_minor": 0
      },
      "text/plain": [
       "  0%|          | 0/5391 [00:00<?, ?batch/s]"
      ]
     },
     "metadata": {},
     "output_type": "display_data"
    },
    {
     "name": "stdout",
     "output_type": "stream",
     "text": [
      "Epoch 8 accuracy: total_price=81.64501562237334 unit_price=83.48549930728252 creation_date=72.06986302163945 purchase_date=68.1845584868036 quantity_dl=84.76050524900151\n"
     ]
    },
    {
     "data": {
      "application/vnd.jupyter.widget-view+json": {
       "model_id": "d580039b94024b2899cfe561c12dba7d",
       "version_major": 2,
       "version_minor": 0
      },
      "text/plain": [
       "  0%|          | 0/5391 [00:00<?, ?batch/s]"
      ]
     },
     "metadata": {},
     "output_type": "display_data"
    },
    {
     "data": {
      "application/vnd.jupyter.widget-view+json": {
       "model_id": "1a4357f92d614782bd9fb310f424ccba",
       "version_major": 2,
       "version_minor": 0
      },
      "text/plain": [
       "  0%|          | 0/5391 [00:00<?, ?batch/s]"
      ]
     },
     "metadata": {},
     "output_type": "display_data"
    },
    {
     "name": "stdout",
     "output_type": "stream",
     "text": [
      "Epoch 9 accuracy: total_price=82.62583401445721 unit_price=85.1770052576967 creation_date=73.283422893878 purchase_date=69.9418581059539 quantity_dl=85.9453709661525\n"
     ]
    }
   ],
   "source": [
    "for i in range(10):\n",
    "    zipped_dls = zip(total_price_dl, unit_price_dl, creation_date_dl, purchase_date_dl, quantity_dl)\n",
    "    for j, ((batch_X_0, batch_y_0), (batch_X_1, batch_y_1), (batch_X_2, batch_y_2), (batch_X_3, batch_y_3), (batch_X_4, batch_y_4)) in (pbar := tqdm(enumerate(zipped_dls), unit=\"batch\", total=len(total_price_dl))):\n",
    "        preds_0 = model(batch_X_0, task_id=0)\n",
    "        loss_0 = loss_fn_0(preds_0, batch_y_0.float())\n",
    "        preds_1 = model(batch_X_1, task_id=1)\n",
    "        loss_1 = loss_fn_1(preds_1, batch_y_1.float())\n",
    "        preds_2 = model(batch_X_2, task_id=2)\n",
    "        loss_2 = loss_fn_2(preds_2, batch_y_2.float())\n",
    "        preds_3 = model(batch_X_3, task_id=3)\n",
    "        loss_3 = loss_fn_3(preds_3, batch_y_3.float())\n",
    "        preds_4 = model(batch_X_4, task_id=4)\n",
    "        loss_4 = loss_fn_4(preds_4, batch_y_4.float())\n",
    "        loss = loss_0 + loss_1 + loss_2 + loss_3 + loss_4\n",
    "        pbar.set_description(\"Loss = \" + f\"{loss:.4f}\"[:6])\n",
    "        \n",
    "        optimizer.zero_grad()\n",
    "        loss.backward()\n",
    "        optimizer.step()\n",
    "    n_correct = [0]*5\n",
    "    n_test = [0]*5\n",
    "    zipped_dls = zip(total_price_dl, unit_price_dl, creation_date_dl, purchase_date_dl, quantity_dl)\n",
    "    for j, ((batch_X_0, batch_y_0), (batch_X_1, batch_y_1), (batch_X_2, batch_y_2), (batch_X_3, batch_y_3), (batch_X_4, batch_y_4)) in (pbar := tqdm(enumerate(zipped_dls), unit=\"batch\", total=len(total_price_dl))):\n",
    "        preds_0 = model(batch_X_0, task_id=0)\n",
    "        preds_1 = model(batch_X_1, task_id=1)\n",
    "        preds_2 = model(batch_X_2, task_id=2)\n",
    "        preds_3 = model(batch_X_3, task_id=3)\n",
    "        preds_4 = model(batch_X_4, task_id=4)\n",
    "        n_correct[0] += (preds_0.detach().numpy().argmax(axis=1) == batch_y_0.numpy().argmax(axis=1)).sum()\n",
    "        n_correct[1] += (preds_1.detach().numpy().argmax(axis=1) == batch_y_1.numpy().argmax(axis=1)).sum()\n",
    "        n_correct[2] += (preds_2.detach().numpy().argmax(axis=1) == batch_y_2.numpy().argmax(axis=1)).sum()\n",
    "        n_correct[3] += (preds_3.detach().numpy().argmax(axis=1) == batch_y_3.numpy().argmax(axis=1)).sum()\n",
    "        n_correct[4] += (preds_4.detach().numpy().argmax(axis=1) == batch_y_4.numpy().argmax(axis=1)).sum()\n",
    "        n_test[0] += preds_0.shape[0]\n",
    "        n_test[1] += preds_1.shape[0]\n",
    "        n_test[2] += preds_2.shape[0]\n",
    "        n_test[3] += preds_3.shape[0]\n",
    "        n_test[4] += preds_4.shape[0]\n",
    "    print(f'Epoch {i} accuracy: total_price={n_correct[0]/n_test[0]*100} unit_price={n_correct[1]/n_test[1]*100} creation_date={n_correct[2]/n_test[2]*100} purchase_date={n_correct[3]/n_test[3]*100} quantity_dl={n_correct[4]/n_test[4]*100}')\n"
   ]
  },
  {
   "cell_type": "code",
   "execution_count": 12,
   "id": "0ff748d8-65df-45f6-a700-5c069ab193ca",
   "metadata": {
    "tags": []
   },
   "outputs": [
    {
     "data": {
      "application/vnd.jupyter.widget-view+json": {
       "model_id": "a22be0ee4df64df4be176158dc86e650",
       "version_major": 2,
       "version_minor": 0
      },
      "text/plain": [
       "  0%|          | 0/5391 [00:00<?, ?batch/s]"
      ]
     },
     "metadata": {},
     "output_type": "display_data"
    },
    {
     "data": {
      "application/vnd.jupyter.widget-view+json": {
       "model_id": "a3fa12c18b314f7b9cadd5bca58d70bd",
       "version_major": 2,
       "version_minor": 0
      },
      "text/plain": [
       "  0%|          | 0/5391 [00:00<?, ?batch/s]"
      ]
     },
     "metadata": {},
     "output_type": "display_data"
    },
    {
     "name": "stdout",
     "output_type": "stream",
     "text": [
      "Epoch 0 accuracy: total_price=83.2182668730327 unit_price=85.8424777837678 creation_date=76.51513834060832 purchase_date=72.47332023256757 quantity_dl=87.11226660637996\n"
     ]
    },
    {
     "data": {
      "application/vnd.jupyter.widget-view+json": {
       "model_id": "f27d60a6763d4853b0672e285b0c1bcd",
       "version_major": 2,
       "version_minor": 0
      },
      "text/plain": [
       "  0%|          | 0/5391 [00:00<?, ?batch/s]"
      ]
     },
     "metadata": {},
     "output_type": "display_data"
    },
    {
     "data": {
      "application/vnd.jupyter.widget-view+json": {
       "model_id": "23214dfd398d4eee98718a4c16d98c13",
       "version_major": 2,
       "version_minor": 0
      },
      "text/plain": [
       "  0%|          | 0/5391 [00:00<?, ?batch/s]"
      ]
     },
     "metadata": {},
     "output_type": "display_data"
    },
    {
     "name": "stdout",
     "output_type": "stream",
     "text": [
      "Epoch 1 accuracy: total_price=84.58370287927006 unit_price=86.97691134955278 creation_date=75.0126080378415 purchase_date=70.77109020398936 quantity_dl=87.5661559686741\n"
     ]
    },
    {
     "data": {
      "application/vnd.jupyter.widget-view+json": {
       "model_id": "4cb334aef66145ebb3c7cd2e5e6be1f3",
       "version_major": 2,
       "version_minor": 0
      },
      "text/plain": [
       "  0%|          | 0/5391 [00:00<?, ?batch/s]"
      ]
     },
     "metadata": {},
     "output_type": "display_data"
    },
    {
     "data": {
      "application/vnd.jupyter.widget-view+json": {
       "model_id": "52bafe90a53d43d8b44ccabf7d0c66cc",
       "version_major": 2,
       "version_minor": 0
      },
      "text/plain": [
       "  0%|          | 0/5391 [00:00<?, ?batch/s]"
      ]
     },
     "metadata": {},
     "output_type": "display_data"
    },
    {
     "name": "stdout",
     "output_type": "stream",
     "text": [
      "Epoch 2 accuracy: total_price=85.35438730732889 unit_price=87.4803633433618 creation_date=78.44315369053209 purchase_date=73.99961741126549 quantity_dl=88.37104151087769\n"
     ]
    },
    {
     "data": {
      "application/vnd.jupyter.widget-view+json": {
       "model_id": "8f63266beae949688fa613b081b7d478",
       "version_major": 2,
       "version_minor": 0
      },
      "text/plain": [
       "  0%|          | 0/5391 [00:00<?, ?batch/s]"
      ]
     },
     "metadata": {},
     "output_type": "display_data"
    },
    {
     "data": {
      "application/vnd.jupyter.widget-view+json": {
       "model_id": "83de28d526824316ab39aba4d85298ac",
       "version_major": 2,
       "version_minor": 0
      },
      "text/plain": [
       "  0%|          | 0/5391 [00:00<?, ?batch/s]"
      ]
     },
     "metadata": {},
     "output_type": "display_data"
    },
    {
     "name": "stdout",
     "output_type": "stream",
     "text": [
      "Epoch 3 accuracy: total_price=85.58712878748355 unit_price=88.78638215977136 creation_date=80.49637989901977 purchase_date=76.18385127732466 quantity_dl=87.81918624535533\n"
     ]
    },
    {
     "data": {
      "application/vnd.jupyter.widget-view+json": {
       "model_id": "3011890d7f26464abd0ffb121f1c4fea",
       "version_major": 2,
       "version_minor": 0
      },
      "text/plain": [
       "  0%|          | 0/5391 [00:00<?, ?batch/s]"
      ]
     },
     "metadata": {},
     "output_type": "display_data"
    },
    {
     "data": {
      "application/vnd.jupyter.widget-view+json": {
       "model_id": "4548119925b543e092c0d6608173c392",
       "version_major": 2,
       "version_minor": 0
      },
      "text/plain": [
       "  0%|          | 0/5391 [00:00<?, ?batch/s]"
      ]
     },
     "metadata": {},
     "output_type": "display_data"
    },
    {
     "name": "stdout",
     "output_type": "stream",
     "text": [
      "Epoch 4 accuracy: total_price=86.94328991530877 unit_price=89.32316574787403 creation_date=79.60599157145424 purchase_date=75.30708542742698 quantity_dl=88.77710728135924\n"
     ]
    }
   ],
   "source": [
    "for i in range(5):\n",
    "    zipped_dls = zip(total_price_dl, unit_price_dl, creation_date_dl, purchase_date_dl, quantity_dl)\n",
    "    for j, ((batch_X_0, batch_y_0), (batch_X_1, batch_y_1), (batch_X_2, batch_y_2), (batch_X_3, batch_y_3), (batch_X_4, batch_y_4)) in (pbar := tqdm(enumerate(zipped_dls), unit=\"batch\", total=len(total_price_dl))):\n",
    "        preds_0 = model(batch_X_0, task_id=0)\n",
    "        loss_0 = loss_fn_0(preds_0, batch_y_0.float())\n",
    "        preds_1 = model(batch_X_1, task_id=1)\n",
    "        loss_1 = loss_fn_1(preds_1, batch_y_1.float())\n",
    "        preds_2 = model(batch_X_2, task_id=2)\n",
    "        loss_2 = loss_fn_2(preds_2, batch_y_2.float())\n",
    "        preds_3 = model(batch_X_3, task_id=3)\n",
    "        loss_3 = loss_fn_3(preds_3, batch_y_3.float())\n",
    "        preds_4 = model(batch_X_4, task_id=4)\n",
    "        loss_4 = loss_fn_4(preds_4, batch_y_4.float())\n",
    "        loss = loss_0 + loss_1 + loss_2 + loss_3 + loss_4\n",
    "        pbar.set_description(\"Loss = \" + f\"{loss:.4f}\"[:6])\n",
    "        \n",
    "        optimizer.zero_grad()\n",
    "        loss.backward()\n",
    "        optimizer.step()\n",
    "    n_correct = [0]*5\n",
    "    n_test = [0]*5\n",
    "    zipped_dls = zip(total_price_dl, unit_price_dl, creation_date_dl, purchase_date_dl, quantity_dl)\n",
    "    for j, ((batch_X_0, batch_y_0), (batch_X_1, batch_y_1), (batch_X_2, batch_y_2), (batch_X_3, batch_y_3), (batch_X_4, batch_y_4)) in (pbar := tqdm(enumerate(zipped_dls), unit=\"batch\", total=len(total_price_dl))):\n",
    "        preds_0 = model(batch_X_0, task_id=0)\n",
    "        preds_1 = model(batch_X_1, task_id=1)\n",
    "        preds_2 = model(batch_X_2, task_id=2)\n",
    "        preds_3 = model(batch_X_3, task_id=3)\n",
    "        preds_4 = model(batch_X_4, task_id=4)\n",
    "        n_correct[0] += (preds_0.detach().numpy().argmax(axis=1) == batch_y_0.numpy().argmax(axis=1)).sum()\n",
    "        n_correct[1] += (preds_1.detach().numpy().argmax(axis=1) == batch_y_1.numpy().argmax(axis=1)).sum()\n",
    "        n_correct[2] += (preds_2.detach().numpy().argmax(axis=1) == batch_y_2.numpy().argmax(axis=1)).sum()\n",
    "        n_correct[3] += (preds_3.detach().numpy().argmax(axis=1) == batch_y_3.numpy().argmax(axis=1)).sum()\n",
    "        n_correct[4] += (preds_4.detach().numpy().argmax(axis=1) == batch_y_4.numpy().argmax(axis=1)).sum()\n",
    "        n_test[0] += preds_0.shape[0]\n",
    "        n_test[1] += preds_1.shape[0]\n",
    "        n_test[2] += preds_2.shape[0]\n",
    "        n_test[3] += preds_3.shape[0]\n",
    "        n_test[4] += preds_4.shape[0]\n",
    "    print(f'Epoch {i} accuracy: total_price={n_correct[0]/n_test[0]*100} unit_price={n_correct[1]/n_test[1]*100} creation_date={n_correct[2]/n_test[2]*100} purchase_date={n_correct[3]/n_test[3]*100} quantity_dl={n_correct[4]/n_test[4]*100}')\n"
   ]
  },
  {
   "cell_type": "code",
   "execution_count": 13,
   "id": "a176cc2a-338f-4ee3-93b6-615633fec313",
   "metadata": {
    "tags": []
   },
   "outputs": [
    {
     "data": {
      "application/vnd.jupyter.widget-view+json": {
       "model_id": "d5077257f83f48d1b84a6a10e53c254a",
       "version_major": 2,
       "version_minor": 0
      },
      "text/plain": [
       "  0%|          | 0/5391 [00:00<?, ?batch/s]"
      ]
     },
     "metadata": {},
     "output_type": "display_data"
    },
    {
     "data": {
      "application/vnd.jupyter.widget-view+json": {
       "model_id": "ad5bcd30be7b4603a232e8e76c5b0053",
       "version_major": 2,
       "version_minor": 0
      },
      "text/plain": [
       "  0%|          | 0/5391 [00:00<?, ?batch/s]"
      ]
     },
     "metadata": {},
     "output_type": "display_data"
    },
    {
     "name": "stdout",
     "output_type": "stream",
     "text": [
      "Epoch 0 accuracy: total_price=86.19637236318106 unit_price=88.48002133222035 creation_date=82.46381348219514 purchase_date=78.29475563593785 quantity_dl=89.9019761287817\n"
     ]
    },
    {
     "data": {
      "application/vnd.jupyter.widget-view+json": {
       "model_id": "29b87b0035844fd3b083f2e557e7a54e",
       "version_major": 2,
       "version_minor": 0
      },
      "text/plain": [
       "  0%|          | 0/5391 [00:00<?, ?batch/s]"
      ]
     },
     "metadata": {},
     "output_type": "display_data"
    },
    {
     "data": {
      "application/vnd.jupyter.widget-view+json": {
       "model_id": "8be69a5bb1d744d0ac0deb32816b3fb2",
       "version_major": 2,
       "version_minor": 0
      },
      "text/plain": [
       "  0%|          | 0/5391 [00:00<?, ?batch/s]"
      ]
     },
     "metadata": {},
     "output_type": "display_data"
    },
    {
     "name": "stdout",
     "output_type": "stream",
     "text": [
      "Epoch 1 accuracy: total_price=87.62412395874998 unit_price=89.7034357627718 creation_date=83.09015761496502 purchase_date=78.79125147093775 quantity_dl=90.61034496750894\n"
     ]
    },
    {
     "data": {
      "application/vnd.jupyter.widget-view+json": {
       "model_id": "6c325613d39a46eb9fb0ad065a5f2312",
       "version_major": 2,
       "version_minor": 0
      },
      "text/plain": [
       "  0%|          | 0/5391 [00:00<?, ?batch/s]"
      ]
     },
     "metadata": {},
     "output_type": "display_data"
    },
    {
     "data": {
      "application/vnd.jupyter.widget-view+json": {
       "model_id": "cdbd9557c1bf44b79f654e93899499d2",
       "version_major": 2,
       "version_minor": 0
      },
      "text/plain": [
       "  0%|          | 0/5391 [00:00<?, ?batch/s]"
      ]
     },
     "metadata": {},
     "output_type": "display_data"
    },
    {
     "name": "stdout",
     "output_type": "stream",
     "text": [
      "Epoch 2 accuracy: total_price=85.27207276142114 unit_price=87.87599487562969 creation_date=84.5677616819992 purchase_date=80.32595400819667 quantity_dl=90.86018700473598\n"
     ]
    },
    {
     "data": {
      "application/vnd.jupyter.widget-view+json": {
       "model_id": "101c1aab03954d62bd58c43b638cf7d8",
       "version_major": 2,
       "version_minor": 0
      },
      "text/plain": [
       "  0%|          | 0/5391 [00:00<?, ?batch/s]"
      ]
     },
     "metadata": {},
     "output_type": "display_data"
    },
    {
     "data": {
      "application/vnd.jupyter.widget-view+json": {
       "model_id": "c873665ff50b4e52b4b54559520251c6",
       "version_major": 2,
       "version_minor": 0
      },
      "text/plain": [
       "  0%|          | 0/5391 [00:00<?, ?batch/s]"
      ]
     },
     "metadata": {},
     "output_type": "display_data"
    },
    {
     "name": "stdout",
     "output_type": "stream",
     "text": [
      "Epoch 3 accuracy: total_price=86.71721475401284 unit_price=89.91936652580446 creation_date=83.93764962987437 purchase_date=79.44686943869596 quantity_dl=91.31610524668278\n"
     ]
    },
    {
     "data": {
      "application/vnd.jupyter.widget-view+json": {
       "model_id": "fb8516d828314535aec9db3587dea5e9",
       "version_major": 2,
       "version_minor": 0
      },
      "text/plain": [
       "  0%|          | 0/5391 [00:00<?, ?batch/s]"
      ]
     },
     "metadata": {},
     "output_type": "display_data"
    },
    {
     "data": {
      "application/vnd.jupyter.widget-view+json": {
       "model_id": "2d7b3992cd9245308963f157d7581fe0",
       "version_major": 2,
       "version_minor": 0
      },
      "text/plain": [
       "  0%|          | 0/5391 [00:00<?, ?batch/s]"
      ]
     },
     "metadata": {},
     "output_type": "display_data"
    },
    {
     "name": "stdout",
     "output_type": "stream",
     "text": [
      "Epoch 4 accuracy: total_price=88.17047226521515 unit_price=91.02539577645224 creation_date=85.99667263736964 purchase_date=80.98562973526019 quantity_dl=91.54044136827643\n"
     ]
    }
   ],
   "source": [
    "for i in range(5):\n",
    "    zipped_dls = zip(total_price_dl, unit_price_dl, creation_date_dl, purchase_date_dl, quantity_dl)\n",
    "    for j, ((batch_X_0, batch_y_0), (batch_X_1, batch_y_1), (batch_X_2, batch_y_2), (batch_X_3, batch_y_3), (batch_X_4, batch_y_4)) in (pbar := tqdm(enumerate(zipped_dls), unit=\"batch\", total=len(total_price_dl))):\n",
    "        preds_0 = model(batch_X_0, task_id=0)\n",
    "        loss_0 = loss_fn_0(preds_0, batch_y_0.float())\n",
    "        preds_1 = model(batch_X_1, task_id=1)\n",
    "        loss_1 = loss_fn_1(preds_1, batch_y_1.float())\n",
    "        preds_2 = model(batch_X_2, task_id=2)\n",
    "        loss_2 = loss_fn_2(preds_2, batch_y_2.float())\n",
    "        preds_3 = model(batch_X_3, task_id=3)\n",
    "        loss_3 = loss_fn_3(preds_3, batch_y_3.float())\n",
    "        preds_4 = model(batch_X_4, task_id=4)\n",
    "        loss_4 = loss_fn_4(preds_4, batch_y_4.float())\n",
    "        loss = loss_0 + loss_1 + loss_2 + loss_3 + loss_4\n",
    "        pbar.set_description(\"Loss = \" + f\"{loss:.4f}\"[:6])\n",
    "        \n",
    "        optimizer.zero_grad()\n",
    "        loss.backward()\n",
    "        optimizer.step()\n",
    "    n_correct = [0]*5\n",
    "    n_test = [0]*5\n",
    "    zipped_dls = zip(total_price_dl, unit_price_dl, creation_date_dl, purchase_date_dl, quantity_dl)\n",
    "    for j, ((batch_X_0, batch_y_0), (batch_X_1, batch_y_1), (batch_X_2, batch_y_2), (batch_X_3, batch_y_3), (batch_X_4, batch_y_4)) in (pbar := tqdm(enumerate(zipped_dls), unit=\"batch\", total=len(total_price_dl))):\n",
    "        preds_0 = model(batch_X_0, task_id=0)\n",
    "        preds_1 = model(batch_X_1, task_id=1)\n",
    "        preds_2 = model(batch_X_2, task_id=2)\n",
    "        preds_3 = model(batch_X_3, task_id=3)\n",
    "        preds_4 = model(batch_X_4, task_id=4)\n",
    "        n_correct[0] += (preds_0.detach().numpy().argmax(axis=1) == batch_y_0.numpy().argmax(axis=1)).sum()\n",
    "        n_correct[1] += (preds_1.detach().numpy().argmax(axis=1) == batch_y_1.numpy().argmax(axis=1)).sum()\n",
    "        n_correct[2] += (preds_2.detach().numpy().argmax(axis=1) == batch_y_2.numpy().argmax(axis=1)).sum()\n",
    "        n_correct[3] += (preds_3.detach().numpy().argmax(axis=1) == batch_y_3.numpy().argmax(axis=1)).sum()\n",
    "        n_correct[4] += (preds_4.detach().numpy().argmax(axis=1) == batch_y_4.numpy().argmax(axis=1)).sum()\n",
    "        n_test[0] += preds_0.shape[0]\n",
    "        n_test[1] += preds_1.shape[0]\n",
    "        n_test[2] += preds_2.shape[0]\n",
    "        n_test[3] += preds_3.shape[0]\n",
    "        n_test[4] += preds_4.shape[0]\n",
    "    print(f'Epoch {i} accuracy: total_price={n_correct[0]/n_test[0]*100} unit_price={n_correct[1]/n_test[1]*100} creation_date={n_correct[2]/n_test[2]*100} purchase_date={n_correct[3]/n_test[3]*100} quantity_dl={n_correct[4]/n_test[4]*100}')\n"
   ]
  },
  {
   "cell_type": "code",
   "execution_count": 14,
   "id": "3d8de59a-4876-4613-8a9d-e3a3b136fdec",
   "metadata": {
    "tags": []
   },
   "outputs": [
    {
     "data": {
      "application/vnd.jupyter.widget-view+json": {
       "model_id": "a62f37c045854d21ba40b4d52a3f3926",
       "version_major": 2,
       "version_minor": 0
      },
      "text/plain": [
       "  0%|          | 0/5391 [00:00<?, ?batch/s]"
      ]
     },
     "metadata": {},
     "output_type": "display_data"
    },
    {
     "data": {
      "application/vnd.jupyter.widget-view+json": {
       "model_id": "657734255bfb4f6faf68e8df06214061",
       "version_major": 2,
       "version_minor": 0
      },
      "text/plain": [
       "  0%|          | 0/5391 [00:00<?, ?batch/s]"
      ]
     },
     "metadata": {},
     "output_type": "display_data"
    },
    {
     "name": "stdout",
     "output_type": "stream",
     "text": [
      "Epoch 0 accuracy: total_price=90.52745074170043 unit_price=92.92964425044491 creation_date=87.35457280489713 purchase_date=82.15078633578537 quantity_dl=92.39865746134984\n"
     ]
    },
    {
     "data": {
      "application/vnd.jupyter.widget-view+json": {
       "model_id": "ff75b158beb948a6a2a45e9ca61425f0",
       "version_major": 2,
       "version_minor": 0
      },
      "text/plain": [
       "  0%|          | 0/5391 [00:00<?, ?batch/s]"
      ]
     },
     "metadata": {},
     "output_type": "display_data"
    },
    {
     "data": {
      "application/vnd.jupyter.widget-view+json": {
       "model_id": "5bc9d6bb0e7b4bd88c30868f3bc774c6",
       "version_major": 2,
       "version_minor": 0
      },
      "text/plain": [
       "  0%|          | 0/5391 [00:00<?, ?batch/s]"
      ]
     },
     "metadata": {},
     "output_type": "display_data"
    },
    {
     "name": "stdout",
     "output_type": "stream",
     "text": [
      "Epoch 1 accuracy: total_price=89.36461286077828 unit_price=91.74564805314506 creation_date=86.76185010637127 purchase_date=82.29802503057812 quantity_dl=91.81868772064065\n"
     ]
    },
    {
     "data": {
      "application/vnd.jupyter.widget-view+json": {
       "model_id": "9ee37a4008084ceaaeac0ace12f8304e",
       "version_major": 2,
       "version_minor": 0
      },
      "text/plain": [
       "  0%|          | 0/5391 [00:00<?, ?batch/s]"
      ]
     },
     "metadata": {},
     "output_type": "display_data"
    },
    {
     "data": {
      "application/vnd.jupyter.widget-view+json": {
       "model_id": "64af18c0374240eb86146468c8ed0a0b",
       "version_major": 2,
       "version_minor": 0
      },
      "text/plain": [
       "  0%|          | 0/5391 [00:00<?, ?batch/s]"
      ]
     },
     "metadata": {},
     "output_type": "display_data"
    },
    {
     "name": "stdout",
     "output_type": "stream",
     "text": [
      "Epoch 2 accuracy: total_price=85.39467506043164 unit_price=89.35417862256462 creation_date=87.38587551953812 purchase_date=82.84321397724177 quantity_dl=92.28851828020566\n"
     ]
    },
    {
     "data": {
      "application/vnd.jupyter.widget-view+json": {
       "model_id": "c2d43dfadfee4ca097f9dcd81d5bde9d",
       "version_major": 2,
       "version_minor": 0
      },
      "text/plain": [
       "  0%|          | 0/5391 [00:00<?, ?batch/s]"
      ]
     },
     "metadata": {},
     "output_type": "display_data"
    },
    {
     "data": {
      "application/vnd.jupyter.widget-view+json": {
       "model_id": "5e4b549aa80949919a98685ba3123d26",
       "version_major": 2,
       "version_minor": 0
      },
      "text/plain": [
       "  0%|          | 0/5391 [00:00<?, ?batch/s]"
      ]
     },
     "metadata": {},
     "output_type": "display_data"
    },
    {
     "name": "stdout",
     "output_type": "stream",
     "text": [
      "Epoch 3 accuracy: total_price=86.20361836194054 unit_price=85.73900492148235 creation_date=86.96183967213304 purchase_date=82.47772579981334 quantity_dl=91.17118527149309\n"
     ]
    },
    {
     "data": {
      "application/vnd.jupyter.widget-view+json": {
       "model_id": "8dc9e56f320f4890ac85a62605bbcfe8",
       "version_major": 2,
       "version_minor": 0
      },
      "text/plain": [
       "  0%|          | 0/5391 [00:00<?, ?batch/s]"
      ]
     },
     "metadata": {},
     "output_type": "display_data"
    },
    {
     "data": {
      "application/vnd.jupyter.widget-view+json": {
       "model_id": "9a29062c964044f884b26436b83e70da",
       "version_major": 2,
       "version_minor": 0
      },
      "text/plain": [
       "  0%|          | 0/5391 [00:00<?, ?batch/s]"
      ]
     },
     "metadata": {},
     "output_type": "display_data"
    },
    {
     "name": "stdout",
     "output_type": "stream",
     "text": [
      "Epoch 4 accuracy: total_price=91.16451895263435 unit_price=93.78959938322059 creation_date=89.08143922925761 purchase_date=84.68224846239907 quantity_dl=92.56618495266913\n"
     ]
    },
    {
     "data": {
      "application/vnd.jupyter.widget-view+json": {
       "model_id": "00d7419c5303443bbcd55bc030a84979",
       "version_major": 2,
       "version_minor": 0
      },
      "text/plain": [
       "  0%|          | 0/5391 [00:00<?, ?batch/s]"
      ]
     },
     "metadata": {},
     "output_type": "display_data"
    },
    {
     "data": {
      "application/vnd.jupyter.widget-view+json": {
       "model_id": "fdd6906a79b147b89eac0874253cab9d",
       "version_major": 2,
       "version_minor": 0
      },
      "text/plain": [
       "  0%|          | 0/5391 [00:00<?, ?batch/s]"
      ]
     },
     "metadata": {},
     "output_type": "display_data"
    },
    {
     "name": "stdout",
     "output_type": "stream",
     "text": [
      "Epoch 5 accuracy: total_price=90.02950570694863 unit_price=93.23107779883948 creation_date=89.73097055805785 purchase_date=83.9837341819847 quantity_dl=93.78872986336944\n"
     ]
    },
    {
     "data": {
      "application/vnd.jupyter.widget-view+json": {
       "model_id": "ffa7e868afa94941b76675e12de721b7",
       "version_major": 2,
       "version_minor": 0
      },
      "text/plain": [
       "  0%|          | 0/5391 [00:00<?, ?batch/s]"
      ]
     },
     "metadata": {},
     "output_type": "display_data"
    },
    {
     "data": {
      "application/vnd.jupyter.widget-view+json": {
       "model_id": "80bdae355ee948778134aa3fcac4b547",
       "version_major": 2,
       "version_minor": 0
      },
      "text/plain": [
       "  0%|          | 0/5391 [00:00<?, ?batch/s]"
      ]
     },
     "metadata": {},
     "output_type": "display_data"
    },
    {
     "name": "stdout",
     "output_type": "stream",
     "text": [
      "Epoch 6 accuracy: total_price=92.54792503579523 unit_price=93.88553640679616 creation_date=90.11037105310447 purchase_date=85.76103275771119 quantity_dl=91.97607081369668\n"
     ]
    },
    {
     "data": {
      "application/vnd.jupyter.widget-view+json": {
       "model_id": "2fcd07623ab14d578506a11ea952a412",
       "version_major": 2,
       "version_minor": 0
      },
      "text/plain": [
       "  0%|          | 0/5391 [00:00<?, ?batch/s]"
      ]
     },
     "metadata": {},
     "output_type": "display_data"
    },
    {
     "data": {
      "application/vnd.jupyter.widget-view+json": {
       "model_id": "da136bd088304ae29c60dc7a6ebfdca0",
       "version_major": 2,
       "version_minor": 0
      },
      "text/plain": [
       "  0%|          | 0/5391 [00:00<?, ?batch/s]"
      ]
     },
     "metadata": {},
     "output_type": "display_data"
    },
    {
     "name": "stdout",
     "output_type": "stream",
     "text": [
      "Epoch 7 accuracy: total_price=92.30619851717881 unit_price=94.66433635346561 creation_date=89.90922212754117 purchase_date=85.0926618321363 quantity_dl=93.7936571425259\n"
     ]
    },
    {
     "data": {
      "application/vnd.jupyter.widget-view+json": {
       "model_id": "3ae628eec2ad4899bc7b8980bf9ff09a",
       "version_major": 2,
       "version_minor": 0
      },
      "text/plain": [
       "  0%|          | 0/5391 [00:00<?, ?batch/s]"
      ]
     },
     "metadata": {},
     "output_type": "display_data"
    },
    {
     "data": {
      "application/vnd.jupyter.widget-view+json": {
       "model_id": "d97e98b0c0b548e2a0bddec192367d0c",
       "version_major": 2,
       "version_minor": 0
      },
      "text/plain": [
       "  0%|          | 0/5391 [00:00<?, ?batch/s]"
      ]
     },
     "metadata": {},
     "output_type": "display_data"
    },
    {
     "name": "stdout",
     "output_type": "stream",
     "text": [
      "Epoch 8 accuracy: total_price=92.61951550353893 unit_price=94.59477476537455 creation_date=91.01583105808973 purchase_date=86.14304181231124 quantity_dl=94.08030885345113\n"
     ]
    },
    {
     "data": {
      "application/vnd.jupyter.widget-view+json": {
       "model_id": "09bfcd357f7047f8923e2b218ee6ffbf",
       "version_major": 2,
       "version_minor": 0
      },
      "text/plain": [
       "  0%|          | 0/5391 [00:00<?, ?batch/s]"
      ]
     },
     "metadata": {},
     "output_type": "display_data"
    },
    {
     "data": {
      "application/vnd.jupyter.widget-view+json": {
       "model_id": "dca25acedc494274a6c4b1f1e514ca06",
       "version_major": 2,
       "version_minor": 0
      },
      "text/plain": [
       "  0%|          | 0/5391 [00:00<?, ?batch/s]"
      ]
     },
     "metadata": {},
     "output_type": "display_data"
    },
    {
     "name": "stdout",
     "output_type": "stream",
     "text": [
      "Epoch 9 accuracy: total_price=92.00447512883386 unit_price=94.37971352219304 creation_date=91.89955306679651 purchase_date=87.03806757908283 quantity_dl=94.39043760035707\n"
     ]
    }
   ],
   "source": [
    "for i in range(10):\n",
    "    zipped_dls = zip(total_price_dl, unit_price_dl, creation_date_dl, purchase_date_dl, quantity_dl)\n",
    "    for j, ((batch_X_0, batch_y_0), (batch_X_1, batch_y_1), (batch_X_2, batch_y_2), (batch_X_3, batch_y_3), (batch_X_4, batch_y_4)) in (pbar := tqdm(enumerate(zipped_dls), unit=\"batch\", total=len(total_price_dl))):\n",
    "        preds_0 = model(batch_X_0, task_id=0)\n",
    "        loss_0 = loss_fn_0(preds_0, batch_y_0.float())\n",
    "        preds_1 = model(batch_X_1, task_id=1)\n",
    "        loss_1 = loss_fn_1(preds_1, batch_y_1.float())\n",
    "        preds_2 = model(batch_X_2, task_id=2)\n",
    "        loss_2 = loss_fn_2(preds_2, batch_y_2.float())\n",
    "        preds_3 = model(batch_X_3, task_id=3)\n",
    "        loss_3 = loss_fn_3(preds_3, batch_y_3.float())\n",
    "        preds_4 = model(batch_X_4, task_id=4)\n",
    "        loss_4 = loss_fn_4(preds_4, batch_y_4.float())\n",
    "        loss = loss_0 + loss_1 + loss_2 + loss_3 + loss_4\n",
    "        pbar.set_description(\"Loss = \" + f\"{loss:.4f}\"[:6])\n",
    "        \n",
    "        optimizer.zero_grad()\n",
    "        loss.backward()\n",
    "        optimizer.step()\n",
    "    n_correct = [0]*5\n",
    "    n_test = [0]*5\n",
    "    zipped_dls = zip(total_price_dl, unit_price_dl, creation_date_dl, purchase_date_dl, quantity_dl)\n",
    "    for j, ((batch_X_0, batch_y_0), (batch_X_1, batch_y_1), (batch_X_2, batch_y_2), (batch_X_3, batch_y_3), (batch_X_4, batch_y_4)) in (pbar := tqdm(enumerate(zipped_dls), unit=\"batch\", total=len(total_price_dl))):\n",
    "        preds_0 = model(batch_X_0, task_id=0)\n",
    "        preds_1 = model(batch_X_1, task_id=1)\n",
    "        preds_2 = model(batch_X_2, task_id=2)\n",
    "        preds_3 = model(batch_X_3, task_id=3)\n",
    "        preds_4 = model(batch_X_4, task_id=4)\n",
    "        n_correct[0] += (preds_0.detach().numpy().argmax(axis=1) == batch_y_0.numpy().argmax(axis=1)).sum()\n",
    "        n_correct[1] += (preds_1.detach().numpy().argmax(axis=1) == batch_y_1.numpy().argmax(axis=1)).sum()\n",
    "        n_correct[2] += (preds_2.detach().numpy().argmax(axis=1) == batch_y_2.numpy().argmax(axis=1)).sum()\n",
    "        n_correct[3] += (preds_3.detach().numpy().argmax(axis=1) == batch_y_3.numpy().argmax(axis=1)).sum()\n",
    "        n_correct[4] += (preds_4.detach().numpy().argmax(axis=1) == batch_y_4.numpy().argmax(axis=1)).sum()\n",
    "        n_test[0] += preds_0.shape[0]\n",
    "        n_test[1] += preds_1.shape[0]\n",
    "        n_test[2] += preds_2.shape[0]\n",
    "        n_test[3] += preds_3.shape[0]\n",
    "        n_test[4] += preds_4.shape[0]\n",
    "    print(f'Epoch {i} accuracy: total_price={n_correct[0]/n_test[0]*100} unit_price={n_correct[1]/n_test[1]*100} creation_date={n_correct[2]/n_test[2]*100} purchase_date={n_correct[3]/n_test[3]*100} quantity_dl={n_correct[4]/n_test[4]*100}')\n"
   ]
  },
  {
   "cell_type": "code",
   "execution_count": 15,
   "id": "553be704-f4bc-4c0e-96f3-02eb7dd56990",
   "metadata": {
    "tags": []
   },
   "outputs": [
    {
     "data": {
      "application/vnd.jupyter.widget-view+json": {
       "model_id": "bc5c80a51c164cbaab25897993098817",
       "version_major": 2,
       "version_minor": 0
      },
      "text/plain": [
       "  0%|          | 0/5391 [00:00<?, ?batch/s]"
      ]
     },
     "metadata": {},
     "output_type": "display_data"
    },
    {
     "data": {
      "application/vnd.jupyter.widget-view+json": {
       "model_id": "5bea2860eb504b13b1b957d97699023a",
       "version_major": 2,
       "version_minor": 0
      },
      "text/plain": [
       "  0%|          | 0/5391 [00:00<?, ?batch/s]"
      ]
     },
     "metadata": {},
     "output_type": "display_data"
    },
    {
     "name": "stdout",
     "output_type": "stream",
     "text": [
      "Epoch 0 accuracy: total_price=93.06297062761942 unit_price=95.7663078448081 creation_date=91.79608020451107 purchase_date=87.76092841532905 quantity_dl=94.52985061648957\n"
     ]
    },
    {
     "data": {
      "application/vnd.jupyter.widget-view+json": {
       "model_id": "4f34df94ab65486c8b1c710b24780f8c",
       "version_major": 2,
       "version_minor": 0
      },
      "text/plain": [
       "  0%|          | 0/5391 [00:00<?, ?batch/s]"
      ]
     },
     "metadata": {},
     "output_type": "display_data"
    },
    {
     "data": {
      "application/vnd.jupyter.widget-view+json": {
       "model_id": "fd0f42e1a6fc43b7a3fb0bbf50451298",
       "version_major": 2,
       "version_minor": 0
      },
      "text/plain": [
       "  0%|          | 0/5391 [00:00<?, ?batch/s]"
      ]
     },
     "metadata": {},
     "output_type": "display_data"
    },
    {
     "name": "stdout",
     "output_type": "stream",
     "text": [
      "Epoch 1 accuracy: total_price=91.4578369824183 unit_price=93.86901552962455 creation_date=91.67579662510363 purchase_date=87.58209716594496 quantity_dl=93.6023627752755\n"
     ]
    },
    {
     "data": {
      "application/vnd.jupyter.widget-view+json": {
       "model_id": "56fe568a24a6463ab41d74f390c5bdd5",
       "version_major": 2,
       "version_minor": 0
      },
      "text/plain": [
       "  0%|          | 0/5391 [00:00<?, ?batch/s]"
      ]
     },
     "metadata": {},
     "output_type": "display_data"
    },
    {
     "data": {
      "application/vnd.jupyter.widget-view+json": {
       "model_id": "b9d832fd90c14b14889796dda406cccf",
       "version_major": 2,
       "version_minor": 0
      },
      "text/plain": [
       "  0%|          | 0/5391 [00:00<?, ?batch/s]"
      ]
     },
     "metadata": {},
     "output_type": "display_data"
    },
    {
     "name": "stdout",
     "output_type": "stream",
     "text": [
      "Epoch 2 accuracy: total_price=91.73463413503063 unit_price=95.5031331698636 creation_date=91.95636169707088 purchase_date=87.840344561733 quantity_dl=93.73568915245002\n"
     ]
    },
    {
     "data": {
      "application/vnd.jupyter.widget-view+json": {
       "model_id": "54e1a3e7352e49a1a4a35e87e485ab39",
       "version_major": 2,
       "version_minor": 0
      },
      "text/plain": [
       "  0%|          | 0/5391 [00:00<?, ?batch/s]"
      ]
     },
     "metadata": {},
     "output_type": "display_data"
    },
    {
     "data": {
      "application/vnd.jupyter.widget-view+json": {
       "model_id": "819b13e61043456f972cb72ef40849de",
       "version_major": 2,
       "version_minor": 0
      },
      "text/plain": [
       "  0%|          | 0/5391 [00:00<?, ?batch/s]"
      ]
     },
     "metadata": {},
     "output_type": "display_data"
    },
    {
     "name": "stdout",
     "output_type": "stream",
     "text": [
      "Epoch 3 accuracy: total_price=92.89109553704445 unit_price=95.3428516773038 creation_date=93.23194731869063 purchase_date=88.98550220568202 quantity_dl=95.38574798995995\n"
     ]
    },
    {
     "data": {
      "application/vnd.jupyter.widget-view+json": {
       "model_id": "8e7559b30d384de080e6281186d86054",
       "version_major": 2,
       "version_minor": 0
      },
      "text/plain": [
       "  0%|          | 0/5391 [00:00<?, ?batch/s]"
      ]
     },
     "metadata": {},
     "output_type": "display_data"
    },
    {
     "data": {
      "application/vnd.jupyter.widget-view+json": {
       "model_id": "49de1fcc0a6640838fdc4050747e9825",
       "version_major": 2,
       "version_minor": 0
      },
      "text/plain": [
       "  0%|          | 0/5391 [00:00<?, ?batch/s]"
      ]
     },
     "metadata": {},
     "output_type": "display_data"
    },
    {
     "name": "stdout",
     "output_type": "stream",
     "text": [
      "Epoch 4 accuracy: total_price=94.38232208174647 unit_price=96.37989901976128 creation_date=93.45802247998655 purchase_date=89.51098203571988 quantity_dl=95.57124555820276\n"
     ]
    },
    {
     "data": {
      "application/vnd.jupyter.widget-view+json": {
       "model_id": "802d4c98d3f14cf7b1f5d0b72742e2e2",
       "version_major": 2,
       "version_minor": 0
      },
      "text/plain": [
       "  0%|          | 0/5391 [00:00<?, ?batch/s]"
      ]
     },
     "metadata": {},
     "output_type": "display_data"
    },
    {
     "data": {
      "application/vnd.jupyter.widget-view+json": {
       "model_id": "0f5c30e951554ef4928424a98b49e5a8",
       "version_major": 2,
       "version_minor": 0
      },
      "text/plain": [
       "  0%|          | 0/5391 [00:00<?, ?batch/s]"
      ]
     },
     "metadata": {},
     "output_type": "display_data"
    },
    {
     "name": "stdout",
     "output_type": "stream",
     "text": [
      "Epoch 5 accuracy: total_price=93.72032763507991 unit_price=95.40690630633763 creation_date=93.79713522193045 purchase_date=89.66343784961944 quantity_dl=95.11329843660332\n"
     ]
    },
    {
     "data": {
      "application/vnd.jupyter.widget-view+json": {
       "model_id": "c271503ab02e45d7b4ecb48401f5af8d",
       "version_major": 2,
       "version_minor": 0
      },
      "text/plain": [
       "  0%|          | 0/5391 [00:00<?, ?batch/s]"
      ]
     },
     "metadata": {},
     "output_type": "display_data"
    },
    {
     "data": {
      "application/vnd.jupyter.widget-view+json": {
       "model_id": "7361dc811a974ac49ef4293fa3cb2b2b",
       "version_major": 2,
       "version_minor": 0
      },
      "text/plain": [
       "  0%|          | 0/5391 [00:00<?, ?batch/s]"
      ]
     },
     "metadata": {},
     "output_type": "display_data"
    },
    {
     "name": "stdout",
     "output_type": "stream",
     "text": [
      "Epoch 6 accuracy: total_price=94.40956703708213 unit_price=96.8975531711389 creation_date=93.49425247378397 purchase_date=89.55764626773096 quantity_dl=95.60370763264525\n"
     ]
    },
    {
     "data": {
      "application/vnd.jupyter.widget-view+json": {
       "model_id": "1b1fc27928db497d9441c2fed6322425",
       "version_major": 2,
       "version_minor": 0
      },
      "text/plain": [
       "  0%|          | 0/5391 [00:00<?, ?batch/s]"
      ]
     },
     "metadata": {},
     "output_type": "display_data"
    },
    {
     "data": {
      "application/vnd.jupyter.widget-view+json": {
       "model_id": "54c3620d795a44de971c1b41218869ed",
       "version_major": 2,
       "version_minor": 0
      },
      "text/plain": [
       "  0%|          | 0/5391 [00:00<?, ?batch/s]"
      ]
     },
     "metadata": {},
     "output_type": "display_data"
    },
    {
     "name": "stdout",
     "output_type": "stream",
     "text": [
      "Epoch 7 accuracy: total_price=95.03504165000088 unit_price=96.62365441803037 creation_date=94.42579807430337 purchase_date=89.89646916972448 quantity_dl=95.63414082743509\n"
     ]
    },
    {
     "data": {
      "application/vnd.jupyter.widget-view+json": {
       "model_id": "20390165e53b46cfaad84a33b8a9bca5",
       "version_major": 2,
       "version_minor": 0
      },
      "text/plain": [
       "  0%|          | 0/5391 [00:00<?, ?batch/s]"
      ]
     },
     "metadata": {},
     "output_type": "display_data"
    },
    {
     "data": {
      "application/vnd.jupyter.widget-view+json": {
       "model_id": "ae7ee92824224988b9a20d7e7dc6e5aa",
       "version_major": 2,
       "version_minor": 0
      },
      "text/plain": [
       "  0%|          | 0/5391 [00:00<?, ?batch/s]"
      ]
     },
     "metadata": {},
     "output_type": "display_data"
    },
    {
     "name": "stdout",
     "output_type": "stream",
     "text": [
      "Epoch 8 accuracy: total_price=94.91620727034532 unit_price=96.2657020793118 creation_date=93.1490530928821 purchase_date=89.44055092777768 quantity_dl=96.06571251355001\n"
     ]
    },
    {
     "data": {
      "application/vnd.jupyter.widget-view+json": {
       "model_id": "167ff16e5adf42df890ddff6264959e4",
       "version_major": 2,
       "version_minor": 0
      },
      "text/plain": [
       "  0%|          | 0/5391 [00:00<?, ?batch/s]"
      ]
     },
     "metadata": {},
     "output_type": "display_data"
    },
    {
     "data": {
      "application/vnd.jupyter.widget-view+json": {
       "model_id": "2d3b0901c40a4a1d9938d012565044e4",
       "version_major": 2,
       "version_minor": 0
      },
      "text/plain": [
       "  0%|          | 0/5391 [00:00<?, ?batch/s]"
      ]
     },
     "metadata": {},
     "output_type": "display_data"
    },
    {
     "name": "stdout",
     "output_type": "stream",
     "text": [
      "Epoch 9 accuracy: total_price=94.38319160159759 unit_price=96.49409596021077 creation_date=94.4394205519712 purchase_date=90.00776771067017 quantity_dl=95.30720136340712\n"
     ]
    }
   ],
   "source": [
    "for i in range(10):\n",
    "    zipped_dls = zip(total_price_dl, unit_price_dl, creation_date_dl, purchase_date_dl, quantity_dl)\n",
    "    for j, ((batch_X_0, batch_y_0), (batch_X_1, batch_y_1), (batch_X_2, batch_y_2), (batch_X_3, batch_y_3), (batch_X_4, batch_y_4)) in (pbar := tqdm(enumerate(zipped_dls), unit=\"batch\", total=len(total_price_dl))):\n",
    "        preds_0 = model(batch_X_0, task_id=0)\n",
    "        loss_0 = loss_fn_0(preds_0, batch_y_0.float())\n",
    "        preds_1 = model(batch_X_1, task_id=1)\n",
    "        loss_1 = loss_fn_1(preds_1, batch_y_1.float())\n",
    "        preds_2 = model(batch_X_2, task_id=2)\n",
    "        loss_2 = loss_fn_2(preds_2, batch_y_2.float())\n",
    "        preds_3 = model(batch_X_3, task_id=3)\n",
    "        loss_3 = loss_fn_3(preds_3, batch_y_3.float())\n",
    "        preds_4 = model(batch_X_4, task_id=4)\n",
    "        loss_4 = loss_fn_4(preds_4, batch_y_4.float())\n",
    "        loss = loss_0 + loss_1 + loss_2 + loss_3 + loss_4\n",
    "        pbar.set_description(\"Loss = \" + f\"{loss:.4f}\"[:6])\n",
    "        \n",
    "        optimizer.zero_grad()\n",
    "        loss.backward()\n",
    "        optimizer.step()\n",
    "    n_correct = [0]*5\n",
    "    n_test = [0]*5\n",
    "    zipped_dls = zip(total_price_dl, unit_price_dl, creation_date_dl, purchase_date_dl, quantity_dl)\n",
    "    for j, ((batch_X_0, batch_y_0), (batch_X_1, batch_y_1), (batch_X_2, batch_y_2), (batch_X_3, batch_y_3), (batch_X_4, batch_y_4)) in (pbar := tqdm(enumerate(zipped_dls), unit=\"batch\", total=len(total_price_dl))):\n",
    "        preds_0 = model(batch_X_0, task_id=0)\n",
    "        preds_1 = model(batch_X_1, task_id=1)\n",
    "        preds_2 = model(batch_X_2, task_id=2)\n",
    "        preds_3 = model(batch_X_3, task_id=3)\n",
    "        preds_4 = model(batch_X_4, task_id=4)\n",
    "        n_correct[0] += (preds_0.detach().numpy().argmax(axis=1) == batch_y_0.numpy().argmax(axis=1)).sum()\n",
    "        n_correct[1] += (preds_1.detach().numpy().argmax(axis=1) == batch_y_1.numpy().argmax(axis=1)).sum()\n",
    "        n_correct[2] += (preds_2.detach().numpy().argmax(axis=1) == batch_y_2.numpy().argmax(axis=1)).sum()\n",
    "        n_correct[3] += (preds_3.detach().numpy().argmax(axis=1) == batch_y_3.numpy().argmax(axis=1)).sum()\n",
    "        n_correct[4] += (preds_4.detach().numpy().argmax(axis=1) == batch_y_4.numpy().argmax(axis=1)).sum()\n",
    "        n_test[0] += preds_0.shape[0]\n",
    "        n_test[1] += preds_1.shape[0]\n",
    "        n_test[2] += preds_2.shape[0]\n",
    "        n_test[3] += preds_3.shape[0]\n",
    "        n_test[4] += preds_4.shape[0]\n",
    "    print(f'Epoch {i} accuracy: total_price={n_correct[0]/n_test[0]*100} unit_price={n_correct[1]/n_test[1]*100} creation_date={n_correct[2]/n_test[2]*100} purchase_date={n_correct[3]/n_test[3]*100} quantity_dl={n_correct[4]/n_test[4]*100}')\n"
   ]
  },
  {
   "cell_type": "code",
   "execution_count": 16,
   "id": "a95d2cb3-0971-415a-a653-730bf3e35e51",
   "metadata": {
    "tags": []
   },
   "outputs": [],
   "source": [
    "torch.save(model.state_dict(), './ckpt')"
   ]
  },
  {
   "cell_type": "code",
   "execution_count": 17,
   "id": "d0084c2f-b4ff-4895-aca1-1f4a1236d75a",
   "metadata": {
    "tags": []
   },
   "outputs": [
    {
     "data": {
      "application/vnd.jupyter.widget-view+json": {
       "model_id": "fdd85a32a2324028acdf2b865cd55828",
       "version_major": 2,
       "version_minor": 0
      },
      "text/plain": [
       "  0%|          | 0/5391 [00:00<?, ?batch/s]"
      ]
     },
     "metadata": {},
     "output_type": "display_data"
    },
    {
     "data": {
      "application/vnd.jupyter.widget-view+json": {
       "model_id": "420b1679fc484865a993245a0e84c572",
       "version_major": 2,
       "version_minor": 0
      },
      "text/plain": [
       "  0%|          | 0/5391 [00:00<?, ?batch/s]"
      ]
     },
     "metadata": {},
     "output_type": "display_data"
    },
    {
     "name": "stdout",
     "output_type": "stream",
     "text": [
      "Epoch 0 accuracy: total_price=95.83905767235332 unit_price=97.56302569721001 creation_date=94.5350677355964 purchase_date=91.48595145760511 quantity_dl=96.76596583366664\n"
     ]
    },
    {
     "data": {
      "application/vnd.jupyter.widget-view+json": {
       "model_id": "4c0b95da7bfd461a8ac0fd2100b8be68",
       "version_major": 2,
       "version_minor": 0
      },
      "text/plain": [
       "  0%|          | 0/5391 [00:00<?, ?batch/s]"
      ]
     },
     "metadata": {},
     "output_type": "display_data"
    },
    {
     "data": {
      "application/vnd.jupyter.widget-view+json": {
       "model_id": "0830d617a87d4da19eb75e0370cbab73",
       "version_major": 2,
       "version_minor": 0
      },
      "text/plain": [
       "  0%|          | 0/5391 [00:00<?, ?batch/s]"
      ]
     },
     "metadata": {},
     "output_type": "display_data"
    },
    {
     "name": "stdout",
     "output_type": "stream",
     "text": [
      "Epoch 1 accuracy: total_price=94.24725666486967 unit_price=96.28946895524292 creation_date=94.706652986221 purchase_date=91.34856732112527 quantity_dl=95.91528557930312\n"
     ]
    },
    {
     "data": {
      "application/vnd.jupyter.widget-view+json": {
       "model_id": "9915b61eee86488c9c86be7cb0bdbc0e",
       "version_major": 2,
       "version_minor": 0
      },
      "text/plain": [
       "  0%|          | 0/5391 [00:00<?, ?batch/s]"
      ]
     },
     "metadata": {},
     "output_type": "display_data"
    },
    {
     "data": {
      "application/vnd.jupyter.widget-view+json": {
       "model_id": "31d0eb87745e465a9115f43e76331f03",
       "version_major": 2,
       "version_minor": 0
      },
      "text/plain": [
       "  0%|          | 0/5391 [00:00<?, ?batch/s]"
      ]
     },
     "metadata": {},
     "output_type": "display_data"
    },
    {
     "name": "stdout",
     "output_type": "stream",
     "text": [
      "Epoch 2 accuracy: total_price=92.58647374919569 unit_price=94.30899257430048 creation_date=94.9515677442916 purchase_date=91.50189265487599 quantity_dl=96.41844773316176\n"
     ]
    },
    {
     "data": {
      "application/vnd.jupyter.widget-view+json": {
       "model_id": "78b2aff3db8648b39bb2bd1ebd77e930",
       "version_major": 2,
       "version_minor": 0
      },
      "text/plain": [
       "  0%|          | 0/5391 [00:00<?, ?batch/s]"
      ]
     },
     "metadata": {},
     "output_type": "display_data"
    },
    {
     "data": {
      "application/vnd.jupyter.widget-view+json": {
       "model_id": "94dea0d6f59245988ee10fb070bff5fa",
       "version_major": 2,
       "version_minor": 0
      },
      "text/plain": [
       "  0%|          | 0/5391 [00:00<?, ?batch/s]"
      ]
     },
     "metadata": {},
     "output_type": "display_data"
    },
    {
     "name": "stdout",
     "output_type": "stream",
     "text": [
      "Epoch 3 accuracy: total_price=94.73679634106047 unit_price=97.10073097635485 creation_date=93.96350335344823 purchase_date=91.07930600722281 quantity_dl=96.18338753340406\n"
     ]
    },
    {
     "data": {
      "application/vnd.jupyter.widget-view+json": {
       "model_id": "9ef84a67aec24565868374e9df61efaf",
       "version_major": 2,
       "version_minor": 0
      },
      "text/plain": [
       "  0%|          | 0/5391 [00:00<?, ?batch/s]"
      ]
     },
     "metadata": {},
     "output_type": "display_data"
    },
    {
     "data": {
      "application/vnd.jupyter.widget-view+json": {
       "model_id": "3b633bb6d6c64b45997430b271982c93",
       "version_major": 2,
       "version_minor": 0
      },
      "text/plain": [
       "  0%|          | 0/5391 [00:00<?, ?batch/s]"
      ]
     },
     "metadata": {},
     "output_type": "display_data"
    },
    {
     "name": "stdout",
     "output_type": "stream",
     "text": [
      "Epoch 4 accuracy: total_price=94.95736454329919 unit_price=97.39955596519601 creation_date=95.05504060657705 purchase_date=92.26330220452267 quantity_dl=96.82654238329594\n"
     ]
    },
    {
     "data": {
      "application/vnd.jupyter.widget-view+json": {
       "model_id": "a3f6d208f104476bb4ba628b37b022c7",
       "version_major": 2,
       "version_minor": 0
      },
      "text/plain": [
       "  0%|          | 0/5391 [00:00<?, ?batch/s]"
      ]
     },
     "metadata": {},
     "output_type": "display_data"
    },
    {
     "data": {
      "application/vnd.jupyter.widget-view+json": {
       "model_id": "c08f7f4e0f784c5393f28f4aeb8025e1",
       "version_major": 2,
       "version_minor": 0
      },
      "text/plain": [
       "  0%|          | 0/5391 [00:00<?, ?batch/s]"
      ]
     },
     "metadata": {},
     "output_type": "display_data"
    },
    {
     "name": "stdout",
     "output_type": "stream",
     "text": [
      "Epoch 5 accuracy: total_price=96.27149887831939 unit_price=98.0879258473471 creation_date=95.62573546887408 purchase_date=92.63893478021437 quantity_dl=97.44245227785217\n"
     ]
    },
    {
     "data": {
      "application/vnd.jupyter.widget-view+json": {
       "model_id": "255814af9c6d44bab0a71b3ccf73cfbf",
       "version_major": 2,
       "version_minor": 0
      },
      "text/plain": [
       "  0%|          | 0/5391 [00:00<?, ?batch/s]"
      ]
     },
     "metadata": {},
     "output_type": "display_data"
    },
    {
     "data": {
      "application/vnd.jupyter.widget-view+json": {
       "model_id": "3fad08be039242ac92e9b3d416eae8f1",
       "version_major": 2,
       "version_minor": 0
      },
      "text/plain": [
       "  0%|          | 0/5391 [00:00<?, ?batch/s]"
      ]
     },
     "metadata": {},
     "output_type": "display_data"
    },
    {
     "name": "stdout",
     "output_type": "stream",
     "text": [
      "Epoch 6 accuracy: total_price=95.4509619787953 unit_price=96.60075706195039 creation_date=95.84746303091433 purchase_date=92.71110492785883 quantity_dl=95.9871658869972\n"
     ]
    },
    {
     "data": {
      "application/vnd.jupyter.widget-view+json": {
       "model_id": "55e4ee09941c42ff9c7830811727fd22",
       "version_major": 2,
       "version_minor": 0
      },
      "text/plain": [
       "  0%|          | 0/5391 [00:00<?, ?batch/s]"
      ]
     },
     "metadata": {},
     "output_type": "display_data"
    },
    {
     "data": {
      "application/vnd.jupyter.widget-view+json": {
       "model_id": "17981152b39e46519501356a1e029a26",
       "version_major": 2,
       "version_minor": 0
      },
      "text/plain": [
       "  0%|          | 0/5391 [00:00<?, ?batch/s]"
      ]
     },
     "metadata": {},
     "output_type": "display_data"
    },
    {
     "name": "stdout",
     "output_type": "stream",
     "text": [
      "Epoch 7 accuracy: total_price=93.87973960778858 unit_price=96.29149783489557 creation_date=95.55153644157696 purchase_date=92.71400332736263 quantity_dl=97.17319096394971\n"
     ]
    },
    {
     "data": {
      "application/vnd.jupyter.widget-view+json": {
       "model_id": "f7baa0905aee4420aa103a4f8b7a9860",
       "version_major": 2,
       "version_minor": 0
      },
      "text/plain": [
       "  0%|          | 0/5391 [00:00<?, ?batch/s]"
      ]
     },
     "metadata": {},
     "output_type": "display_data"
    },
    {
     "data": {
      "application/vnd.jupyter.widget-view+json": {
       "model_id": "6e2dd243fad043f3ae453a9abf7fce24",
       "version_major": 2,
       "version_minor": 0
      },
      "text/plain": [
       "  0%|          | 0/5391 [00:00<?, ?batch/s]"
      ]
     },
     "metadata": {},
     "output_type": "display_data"
    },
    {
     "name": "stdout",
     "output_type": "stream",
     "text": [
      "Epoch 8 accuracy: total_price=96.48424140189788 unit_price=97.82822925180716 creation_date=95.61906915001536 purchase_date=92.60792190552377 quantity_dl=97.44708971705825\n"
     ]
    },
    {
     "data": {
      "application/vnd.jupyter.widget-view+json": {
       "model_id": "d4e962c8c9f0434da90bacf8a0486174",
       "version_major": 2,
       "version_minor": 0
      },
      "text/plain": [
       "  0%|          | 0/5391 [00:00<?, ?batch/s]"
      ]
     },
     "metadata": {},
     "output_type": "display_data"
    },
    {
     "data": {
      "application/vnd.jupyter.widget-view+json": {
       "model_id": "fd5296efa0c4445cb3674ff332330b7e",
       "version_major": 2,
       "version_minor": 0
      },
      "text/plain": [
       "  0%|          | 0/5391 [00:00<?, ?batch/s]"
      ]
     },
     "metadata": {},
     "output_type": "display_data"
    },
    {
     "name": "stdout",
     "output_type": "stream",
     "text": [
      "Epoch 9 accuracy: total_price=96.79958726791065 unit_price=97.95894706942826 creation_date=95.08576364131727 purchase_date=92.85544522314778 quantity_dl=97.53433154212244\n"
     ]
    }
   ],
   "source": [
    "for i in range(10):\n",
    "    zipped_dls = zip(total_price_dl, unit_price_dl, creation_date_dl, purchase_date_dl, quantity_dl)\n",
    "    for j, ((batch_X_0, batch_y_0), (batch_X_1, batch_y_1), (batch_X_2, batch_y_2), (batch_X_3, batch_y_3), (batch_X_4, batch_y_4)) in (pbar := tqdm(enumerate(zipped_dls), unit=\"batch\", total=len(total_price_dl))):\n",
    "        preds_0 = model(batch_X_0, task_id=0)\n",
    "        loss_0 = loss_fn_0(preds_0, batch_y_0.float())\n",
    "        preds_1 = model(batch_X_1, task_id=1)\n",
    "        loss_1 = loss_fn_1(preds_1, batch_y_1.float())\n",
    "        preds_2 = model(batch_X_2, task_id=2)\n",
    "        loss_2 = loss_fn_2(preds_2, batch_y_2.float())\n",
    "        preds_3 = model(batch_X_3, task_id=3)\n",
    "        loss_3 = loss_fn_3(preds_3, batch_y_3.float())\n",
    "        preds_4 = model(batch_X_4, task_id=4)\n",
    "        loss_4 = loss_fn_4(preds_4, batch_y_4.float())\n",
    "        loss = loss_0 + loss_1 + loss_2 + loss_3 + loss_4\n",
    "        pbar.set_description(\"Loss = \" + f\"{loss:.4f}\"[:6])\n",
    "        \n",
    "        optimizer.zero_grad()\n",
    "        loss.backward()\n",
    "        optimizer.step()\n",
    "    n_correct = [0]*5\n",
    "    n_test = [0]*5\n",
    "    zipped_dls = zip(total_price_dl, unit_price_dl, creation_date_dl, purchase_date_dl, quantity_dl)\n",
    "    for j, ((batch_X_0, batch_y_0), (batch_X_1, batch_y_1), (batch_X_2, batch_y_2), (batch_X_3, batch_y_3), (batch_X_4, batch_y_4)) in (pbar := tqdm(enumerate(zipped_dls), unit=\"batch\", total=len(total_price_dl))):\n",
    "        preds_0 = model(batch_X_0, task_id=0)\n",
    "        preds_1 = model(batch_X_1, task_id=1)\n",
    "        preds_2 = model(batch_X_2, task_id=2)\n",
    "        preds_3 = model(batch_X_3, task_id=3)\n",
    "        preds_4 = model(batch_X_4, task_id=4)\n",
    "        n_correct[0] += (preds_0.detach().numpy().argmax(axis=1) == batch_y_0.numpy().argmax(axis=1)).sum()\n",
    "        n_correct[1] += (preds_1.detach().numpy().argmax(axis=1) == batch_y_1.numpy().argmax(axis=1)).sum()\n",
    "        n_correct[2] += (preds_2.detach().numpy().argmax(axis=1) == batch_y_2.numpy().argmax(axis=1)).sum()\n",
    "        n_correct[3] += (preds_3.detach().numpy().argmax(axis=1) == batch_y_3.numpy().argmax(axis=1)).sum()\n",
    "        n_correct[4] += (preds_4.detach().numpy().argmax(axis=1) == batch_y_4.numpy().argmax(axis=1)).sum()\n",
    "        n_test[0] += preds_0.shape[0]\n",
    "        n_test[1] += preds_1.shape[0]\n",
    "        n_test[2] += preds_2.shape[0]\n",
    "        n_test[3] += preds_3.shape[0]\n",
    "        n_test[4] += preds_4.shape[0]\n",
    "    print(f'Epoch {i} accuracy: total_price={n_correct[0]/n_test[0]*100} unit_price={n_correct[1]/n_test[1]*100} creation_date={n_correct[2]/n_test[2]*100} purchase_date={n_correct[3]/n_test[3]*100} quantity_dl={n_correct[4]/n_test[4]*100}')\n"
   ]
  },
  {
   "cell_type": "code",
   "execution_count": 18,
   "id": "6dce853e-ebd0-4262-9e68-6c05e23c0d37",
   "metadata": {
    "tags": []
   },
   "outputs": [],
   "source": [
    "torch.save(model.state_dict(), './ckpt2')"
   ]
  }
 ],
 "metadata": {
  "kernelspec": {
   "display_name": "Python 3 (ipykernel)",
   "language": "python",
   "name": "python3"
  },
  "language_info": {
   "codemirror_mode": {
    "name": "ipython",
    "version": 3
   },
   "file_extension": ".py",
   "mimetype": "text/x-python",
   "name": "python",
   "nbconvert_exporter": "python",
   "pygments_lexer": "ipython3",
   "version": "3.9.6"
  }
 },
 "nbformat": 4,
 "nbformat_minor": 5
}
