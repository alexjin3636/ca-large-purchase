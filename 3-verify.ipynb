{
 "cells": [
  {
   "cell_type": "code",
   "execution_count": 17,
   "id": "6310f759-e832-4f23-b270-e6bde0ae2484",
   "metadata": {
    "tags": []
   },
   "outputs": [],
   "source": [
    "import pandas as pd\n",
    "import os\n",
    "import numpy as np\n",
    "from tqdm.notebook import tqdm"
   ]
  },
  {
   "cell_type": "code",
   "execution_count": 18,
   "id": "0cbf893c-70cc-4620-bf89-ac370a6b011d",
   "metadata": {
    "tags": []
   },
   "outputs": [],
   "source": [
    "df = pd.read_csv('train.csv', index_col=0)"
   ]
  },
  {
   "cell_type": "code",
   "execution_count": 25,
   "id": "7fac5c6d-8069-4316-a682-f4911f6e58ab",
   "metadata": {
    "tags": []
   },
   "outputs": [
    {
     "name": "stdout",
     "output_type": "stream",
     "text": [
      "Found 345018 embeddings\n"
     ]
    }
   ],
   "source": [
    "total_tasks = 3460\n",
    "embedding_indices = set()\n",
    "\n",
    "for i in range(total_tasks):\n",
    "    emb_f = f'training_embeddings/training_embeddings_{i}.npy'\n",
    "    if os.path.isfile(emb_f):\n",
    "        embedding = np.load(emb_f)\n",
    "        for j in embedding[:,0]:\n",
    "            embedding_indices.add(j)\n",
    "    else:\n",
    "        print(f'Missing embedding file: {emb_f}')\n",
    "\n",
    "print(f'Found {len(embedding_indices)} embeddings')"
   ]
  },
  {
   "cell_type": "code",
   "execution_count": 26,
   "id": "e9b1a586-1637-493f-8062-1050ea86ec63",
   "metadata": {
    "tags": []
   },
   "outputs": [],
   "source": [
    "for i in df.index:\n",
    "    if i not in embedding_indices:\n",
    "        print(f'Missing embedding {i}')"
   ]
  },
  {
   "cell_type": "code",
   "execution_count": null,
   "id": "9e855ba2-0116-4b25-bae2-668aa446c331",
   "metadata": {},
   "outputs": [],
   "source": []
  }
 ],
 "metadata": {
  "kernelspec": {
   "display_name": "Python 3 (ipykernel)",
   "language": "python",
   "name": "python3"
  },
  "language_info": {
   "codemirror_mode": {
    "name": "ipython",
    "version": 3
   },
   "file_extension": ".py",
   "mimetype": "text/x-python",
   "name": "python",
   "nbconvert_exporter": "python",
   "pygments_lexer": "ipython3",
   "version": "3.9.6"
  }
 },
 "nbformat": 4,
 "nbformat_minor": 5
}
