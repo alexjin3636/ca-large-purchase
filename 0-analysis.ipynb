{
 "cells": [
  {
   "cell_type": "code",
   "execution_count": 275,
   "id": "8f06d01d-60a6-4627-8826-4edb8bb5bec5",
   "metadata": {
    "tags": []
   },
   "outputs": [],
   "source": [
    "import pandas as pd\n",
    "import numpy as np\n",
    "import matplotlib.pyplot as plt\n",
    "from datetime import datetime\n",
    "from utils import price_to_float\n",
    "\n",
    "%matplotlib inline"
   ]
  },
  {
   "cell_type": "code",
   "execution_count": 182,
   "id": "cb53780c-9113-4fca-83f0-3d7af498c554",
   "metadata": {
    "tags": []
   },
   "outputs": [],
   "source": [
    "# df = pd.read_csv('PURCHASE ORDER DATA EXTRACT 2012-2015_0.csv', keep_default_na=False)\n",
    "df = pd.read_csv('PURCHASE ORDER DATA EXTRACT 2012-2015_0.csv', parse_dates=[\"Creation Date\", \"Purchase Date\"])"
   ]
  },
  {
   "cell_type": "code",
   "execution_count": 273,
   "id": "80cc5f3e-67fe-469e-bff9-d9ea9b0ac71b",
   "metadata": {
    "tags": []
   },
   "outputs": [
    {
     "data": {
      "text/html": [
       "<div>\n",
       "<style scoped>\n",
       "    .dataframe tbody tr th:only-of-type {\n",
       "        vertical-align: middle;\n",
       "    }\n",
       "\n",
       "    .dataframe tbody tr th {\n",
       "        vertical-align: top;\n",
       "    }\n",
       "\n",
       "    .dataframe thead th {\n",
       "        text-align: right;\n",
       "    }\n",
       "</style>\n",
       "<table border=\"1\" class=\"dataframe\">\n",
       "  <thead>\n",
       "    <tr style=\"text-align: right;\">\n",
       "      <th></th>\n",
       "      <th>Creation Date</th>\n",
       "      <th>Purchase Date</th>\n",
       "      <th>Fiscal Year</th>\n",
       "      <th>LPA Number</th>\n",
       "      <th>Purchase Order Number</th>\n",
       "      <th>Requisition Number</th>\n",
       "      <th>Acquisition Type</th>\n",
       "      <th>Sub-Acquisition Type</th>\n",
       "      <th>Acquisition Method</th>\n",
       "      <th>Sub-Acquisition Method</th>\n",
       "      <th>Department Name</th>\n",
       "      <th>Supplier Code</th>\n",
       "      <th>Supplier Name</th>\n",
       "      <th>Supplier Qualifications</th>\n",
       "      <th>Supplier Zip Code</th>\n",
       "      <th>CalCard</th>\n",
       "      <th>Item Name</th>\n",
       "      <th>Item Description</th>\n",
       "      <th>Quantity</th>\n",
       "      <th>Unit Price</th>\n",
       "      <th>Total Price</th>\n",
       "      <th>Classification Codes</th>\n",
       "      <th>Normalized UNSPSC</th>\n",
       "      <th>Commodity Title</th>\n",
       "      <th>Class</th>\n",
       "      <th>Class Title</th>\n",
       "      <th>Family</th>\n",
       "      <th>Family Title</th>\n",
       "      <th>Segment</th>\n",
       "      <th>Segment Title</th>\n",
       "      <th>Location</th>\n",
       "    </tr>\n",
       "  </thead>\n",
       "  <tbody>\n",
       "    <tr>\n",
       "      <th>0</th>\n",
       "      <td>2013-08-27</td>\n",
       "      <td>NaT</td>\n",
       "      <td>2013-2014</td>\n",
       "      <td>7-12-70-26</td>\n",
       "      <td>REQ0011118</td>\n",
       "      <td>REQ0011118</td>\n",
       "      <td>IT Goods</td>\n",
       "      <td>NaN</td>\n",
       "      <td>WSCA/Coop</td>\n",
       "      <td>NaN</td>\n",
       "      <td>Consumer Affairs, Department of</td>\n",
       "      <td>1740272.0</td>\n",
       "      <td>Pitney Bowes</td>\n",
       "      <td>NaN</td>\n",
       "      <td>NaN</td>\n",
       "      <td>NO</td>\n",
       "      <td>USB</td>\n",
       "      <td>USB</td>\n",
       "      <td>1.0</td>\n",
       "      <td>$1.00</td>\n",
       "      <td>$1.00</td>\n",
       "      <td>NaN</td>\n",
       "      <td>NaN</td>\n",
       "      <td>NaN</td>\n",
       "      <td>NaN</td>\n",
       "      <td>NaN</td>\n",
       "      <td>NaN</td>\n",
       "      <td>NaN</td>\n",
       "      <td>NaN</td>\n",
       "      <td>NaN</td>\n",
       "      <td>NaN</td>\n",
       "    </tr>\n",
       "    <tr>\n",
       "      <th>1</th>\n",
       "      <td>2014-01-29</td>\n",
       "      <td>NaT</td>\n",
       "      <td>2013-2014</td>\n",
       "      <td>NaN</td>\n",
       "      <td>REQ0011932</td>\n",
       "      <td>REQ0011932</td>\n",
       "      <td>NON-IT Goods</td>\n",
       "      <td>NaN</td>\n",
       "      <td>Informal Competitive</td>\n",
       "      <td>NaN</td>\n",
       "      <td>Consumer Affairs, Department of</td>\n",
       "      <td>1760085.0</td>\n",
       "      <td>Rodea Auto Tech</td>\n",
       "      <td>NaN</td>\n",
       "      <td>NaN</td>\n",
       "      <td>NO</td>\n",
       "      <td>Tire Disposal</td>\n",
       "      <td>Tire Disposal</td>\n",
       "      <td>2.0</td>\n",
       "      <td>$2.00</td>\n",
       "      <td>$4.00</td>\n",
       "      <td>76121504</td>\n",
       "      <td>76121504.0</td>\n",
       "      <td>NaN</td>\n",
       "      <td>NaN</td>\n",
       "      <td>NaN</td>\n",
       "      <td>NaN</td>\n",
       "      <td>NaN</td>\n",
       "      <td>NaN</td>\n",
       "      <td>NaN</td>\n",
       "      <td>NaN</td>\n",
       "    </tr>\n",
       "    <tr>\n",
       "      <th>2</th>\n",
       "      <td>2013-11-01</td>\n",
       "      <td>NaT</td>\n",
       "      <td>2013-2014</td>\n",
       "      <td>NaN</td>\n",
       "      <td>REQ0011476</td>\n",
       "      <td>REQ0011476</td>\n",
       "      <td>IT Services</td>\n",
       "      <td>NaN</td>\n",
       "      <td>Informal Competitive</td>\n",
       "      <td>NaN</td>\n",
       "      <td>Consumer Affairs, Department of</td>\n",
       "      <td>17224.0</td>\n",
       "      <td>Smile Business Products, Inc</td>\n",
       "      <td>NaN</td>\n",
       "      <td>95841</td>\n",
       "      <td>NO</td>\n",
       "      <td>Labor</td>\n",
       "      <td>Labor</td>\n",
       "      <td>4.5</td>\n",
       "      <td>$150.00</td>\n",
       "      <td>$675.00</td>\n",
       "      <td>NaN</td>\n",
       "      <td>NaN</td>\n",
       "      <td>NaN</td>\n",
       "      <td>NaN</td>\n",
       "      <td>NaN</td>\n",
       "      <td>NaN</td>\n",
       "      <td>NaN</td>\n",
       "      <td>NaN</td>\n",
       "      <td>NaN</td>\n",
       "      <td>95841\\n(38.662263, -121.346136)</td>\n",
       "    </tr>\n",
       "    <tr>\n",
       "      <th>3</th>\n",
       "      <td>2014-06-13</td>\n",
       "      <td>2014-06-05</td>\n",
       "      <td>2013-2014</td>\n",
       "      <td>NaN</td>\n",
       "      <td>4500236642</td>\n",
       "      <td>NaN</td>\n",
       "      <td>NON-IT Goods</td>\n",
       "      <td>NaN</td>\n",
       "      <td>Informal Competitive</td>\n",
       "      <td>NaN</td>\n",
       "      <td>Correctional Health Care Services</td>\n",
       "      <td>1754462.0</td>\n",
       "      <td>ASHAN INC</td>\n",
       "      <td>CA-MB CA-SB</td>\n",
       "      <td>91436</td>\n",
       "      <td>NO</td>\n",
       "      <td>NaN</td>\n",
       "      <td>NaN</td>\n",
       "      <td>NaN</td>\n",
       "      <td>NaN</td>\n",
       "      <td>NaN</td>\n",
       "      <td>NaN</td>\n",
       "      <td>NaN</td>\n",
       "      <td>NaN</td>\n",
       "      <td>NaN</td>\n",
       "      <td>NaN</td>\n",
       "      <td>NaN</td>\n",
       "      <td>NaN</td>\n",
       "      <td>NaN</td>\n",
       "      <td>NaN</td>\n",
       "      <td>91436\\n(34.151642, -118.49051)</td>\n",
       "    </tr>\n",
       "    <tr>\n",
       "      <th>4</th>\n",
       "      <td>2014-03-12</td>\n",
       "      <td>2014-03-12</td>\n",
       "      <td>2013-2014</td>\n",
       "      <td>1-10-75-60A</td>\n",
       "      <td>4500221028</td>\n",
       "      <td>NaN</td>\n",
       "      <td>NON-IT Goods</td>\n",
       "      <td>NaN</td>\n",
       "      <td>Statewide Contract</td>\n",
       "      <td>NaN</td>\n",
       "      <td>Corrections and Rehabilitation, Department of</td>\n",
       "      <td>1087660.0</td>\n",
       "      <td>Technology Integration Group</td>\n",
       "      <td>NaN</td>\n",
       "      <td>95814</td>\n",
       "      <td>NO</td>\n",
       "      <td>Toner</td>\n",
       "      <td>Toner</td>\n",
       "      <td>1.0</td>\n",
       "      <td>$6080.26</td>\n",
       "      <td>$6080.26</td>\n",
       "      <td>44103127</td>\n",
       "      <td>44103127.0</td>\n",
       "      <td>NaN</td>\n",
       "      <td>NaN</td>\n",
       "      <td>NaN</td>\n",
       "      <td>NaN</td>\n",
       "      <td>NaN</td>\n",
       "      <td>NaN</td>\n",
       "      <td>NaN</td>\n",
       "      <td>95814\\n(38.580427, -121.494396)</td>\n",
       "    </tr>\n",
       "  </tbody>\n",
       "</table>\n",
       "</div>"
      ],
      "text/plain": [
       "  Creation Date Purchase Date Fiscal Year   LPA Number Purchase Order Number  \\\n",
       "0    2013-08-27           NaT   2013-2014   7-12-70-26            REQ0011118   \n",
       "1    2014-01-29           NaT   2013-2014          NaN            REQ0011932   \n",
       "2    2013-11-01           NaT   2013-2014          NaN            REQ0011476   \n",
       "3    2014-06-13    2014-06-05   2013-2014          NaN            4500236642   \n",
       "4    2014-03-12    2014-03-12   2013-2014  1-10-75-60A            4500221028   \n",
       "\n",
       "  Requisition Number Acquisition Type Sub-Acquisition Type  \\\n",
       "0         REQ0011118         IT Goods                  NaN   \n",
       "1         REQ0011932     NON-IT Goods                  NaN   \n",
       "2         REQ0011476      IT Services                  NaN   \n",
       "3                NaN     NON-IT Goods                  NaN   \n",
       "4                NaN     NON-IT Goods                  NaN   \n",
       "\n",
       "     Acquisition Method Sub-Acquisition Method  \\\n",
       "0             WSCA/Coop                    NaN   \n",
       "1  Informal Competitive                    NaN   \n",
       "2  Informal Competitive                    NaN   \n",
       "3  Informal Competitive                    NaN   \n",
       "4    Statewide Contract                    NaN   \n",
       "\n",
       "                                 Department Name  Supplier Code  \\\n",
       "0                Consumer Affairs, Department of      1740272.0   \n",
       "1                Consumer Affairs, Department of      1760085.0   \n",
       "2                Consumer Affairs, Department of        17224.0   \n",
       "3              Correctional Health Care Services      1754462.0   \n",
       "4  Corrections and Rehabilitation, Department of      1087660.0   \n",
       "\n",
       "                  Supplier Name Supplier Qualifications Supplier Zip Code  \\\n",
       "0                  Pitney Bowes                     NaN               NaN   \n",
       "1               Rodea Auto Tech                     NaN               NaN   \n",
       "2  Smile Business Products, Inc                     NaN             95841   \n",
       "3                     ASHAN INC             CA-MB CA-SB             91436   \n",
       "4  Technology Integration Group                     NaN             95814   \n",
       "\n",
       "  CalCard      Item Name Item Description  Quantity Unit Price Total Price  \\\n",
       "0      NO            USB              USB       1.0      $1.00       $1.00   \n",
       "1      NO  Tire Disposal    Tire Disposal       2.0      $2.00       $4.00   \n",
       "2      NO          Labor            Labor       4.5    $150.00     $675.00   \n",
       "3      NO            NaN              NaN       NaN        NaN         NaN   \n",
       "4      NO          Toner            Toner       1.0   $6080.26    $6080.26   \n",
       "\n",
       "  Classification Codes  Normalized UNSPSC Commodity Title  Class Class Title  \\\n",
       "0                  NaN                NaN             NaN    NaN         NaN   \n",
       "1             76121504         76121504.0             NaN    NaN         NaN   \n",
       "2                  NaN                NaN             NaN    NaN         NaN   \n",
       "3                  NaN                NaN             NaN    NaN         NaN   \n",
       "4             44103127         44103127.0             NaN    NaN         NaN   \n",
       "\n",
       "   Family Family Title  Segment Segment Title                         Location  \n",
       "0     NaN          NaN      NaN           NaN                              NaN  \n",
       "1     NaN          NaN      NaN           NaN                              NaN  \n",
       "2     NaN          NaN      NaN           NaN  95841\\n(38.662263, -121.346136)  \n",
       "3     NaN          NaN      NaN           NaN   91436\\n(34.151642, -118.49051)  \n",
       "4     NaN          NaN      NaN           NaN  95814\\n(38.580427, -121.494396)  "
      ]
     },
     "execution_count": 273,
     "metadata": {},
     "output_type": "execute_result"
    }
   ],
   "source": [
    "df.head(5)"
   ]
  },
  {
   "cell_type": "code",
   "execution_count": 33,
   "id": "50d24e44-00e8-4285-b8f1-995e0db74e0a",
   "metadata": {
    "tags": []
   },
   "outputs": [
    {
     "name": "stdout",
     "output_type": "stream",
     "text": [
      "<class 'pandas.core.frame.DataFrame'>\n",
      "RangeIndex: 346018 entries, 0 to 346017\n",
      "Data columns (total 31 columns):\n",
      " #   Column                   Non-Null Count   Dtype         \n",
      "---  ------                   --------------   -----         \n",
      " 0   Creation Date            346018 non-null  datetime64[ns]\n",
      " 1   Purchase Date            328582 non-null  object        \n",
      " 2   Fiscal Year              346018 non-null  object        \n",
      " 3   LPA Number               92345 non-null   object        \n",
      " 4   Purchase Order Number    346018 non-null  object        \n",
      " 5   Requisition Number       14369 non-null   object        \n",
      " 6   Acquisition Type         346018 non-null  object        \n",
      " 7   Sub-Acquisition Type     68337 non-null   object        \n",
      " 8   Acquisition Method       346018 non-null  object        \n",
      " 9   Sub-Acquisition Method   30896 non-null   object        \n",
      " 10  Department Name          346018 non-null  object        \n",
      " 11  Supplier Code            345982 non-null  float64       \n",
      " 12  Supplier Name            345982 non-null  object        \n",
      " 13  Supplier Qualifications  141745 non-null  object        \n",
      " 14  Supplier Zip Code        275908 non-null  object        \n",
      " 15  CalCard                  346018 non-null  object        \n",
      " 16  Item Name                345987 non-null  object        \n",
      " 17  Item Description         345818 non-null  object        \n",
      " 18  Quantity                 345988 non-null  float64       \n",
      " 19  Unit Price               345988 non-null  object        \n",
      " 20  Total Price              345988 non-null  object        \n",
      " 21  Classification Codes     345001 non-null  object        \n",
      " 22  Normalized UNSPSC        345001 non-null  float64       \n",
      " 23  Commodity Title          342723 non-null  object        \n",
      " 24  Class                    342723 non-null  float64       \n",
      " 25  Class Title              342723 non-null  object        \n",
      " 26  Family                   342723 non-null  float64       \n",
      " 27  Family Title             342723 non-null  object        \n",
      " 28  Segment                  342723 non-null  float64       \n",
      " 29  Segment Title            342723 non-null  object        \n",
      " 30  Location                 275908 non-null  object        \n",
      "dtypes: datetime64[ns](1), float64(6), object(24)\n",
      "memory usage: 81.8+ MB\n"
     ]
    }
   ],
   "source": [
    "df.info()"
   ]
  },
  {
   "cell_type": "code",
   "execution_count": 35,
   "id": "7f550427-036c-4414-b1a1-2fa1853a8e04",
   "metadata": {
    "tags": []
   },
   "outputs": [
    {
     "data": {
      "text/html": [
       "<div>\n",
       "<style scoped>\n",
       "    .dataframe tbody tr th:only-of-type {\n",
       "        vertical-align: middle;\n",
       "    }\n",
       "\n",
       "    .dataframe tbody tr th {\n",
       "        vertical-align: top;\n",
       "    }\n",
       "\n",
       "    .dataframe thead th {\n",
       "        text-align: right;\n",
       "    }\n",
       "</style>\n",
       "<table border=\"1\" class=\"dataframe\">\n",
       "  <thead>\n",
       "    <tr style=\"text-align: right;\">\n",
       "      <th></th>\n",
       "      <th>Supplier Code</th>\n",
       "      <th>Quantity</th>\n",
       "      <th>Normalized UNSPSC</th>\n",
       "      <th>Class</th>\n",
       "      <th>Family</th>\n",
       "      <th>Segment</th>\n",
       "    </tr>\n",
       "  </thead>\n",
       "  <tbody>\n",
       "    <tr>\n",
       "      <th>count</th>\n",
       "      <td>3.459820e+05</td>\n",
       "      <td>3.459880e+05</td>\n",
       "      <td>3.450010e+05</td>\n",
       "      <td>3.427230e+05</td>\n",
       "      <td>3.427230e+05</td>\n",
       "      <td>3.427230e+05</td>\n",
       "    </tr>\n",
       "    <tr>\n",
       "      <th>mean</th>\n",
       "      <td>8.434345e+05</td>\n",
       "      <td>2.316154e+03</td>\n",
       "      <td>4.932197e+07</td>\n",
       "      <td>4.927633e+07</td>\n",
       "      <td>4.927219e+07</td>\n",
       "      <td>4.913283e+07</td>\n",
       "    </tr>\n",
       "    <tr>\n",
       "      <th>std</th>\n",
       "      <td>2.461186e+06</td>\n",
       "      <td>1.058259e+05</td>\n",
       "      <td>2.246967e+07</td>\n",
       "      <td>2.246105e+07</td>\n",
       "      <td>2.246430e+07</td>\n",
       "      <td>2.246636e+07</td>\n",
       "    </tr>\n",
       "    <tr>\n",
       "      <th>min</th>\n",
       "      <td>0.000000e+00</td>\n",
       "      <td>1.000000e-04</td>\n",
       "      <td>3.018170e+05</td>\n",
       "      <td>1.010150e+07</td>\n",
       "      <td>3.018000e+06</td>\n",
       "      <td>1.000000e+07</td>\n",
       "    </tr>\n",
       "    <tr>\n",
       "      <th>25%</th>\n",
       "      <td>2.729200e+04</td>\n",
       "      <td>1.000000e+00</td>\n",
       "      <td>3.911171e+07</td>\n",
       "      <td>3.911160e+07</td>\n",
       "      <td>3.911000e+07</td>\n",
       "      <td>3.900000e+07</td>\n",
       "    </tr>\n",
       "    <tr>\n",
       "      <th>50%</th>\n",
       "      <td>1.012531e+06</td>\n",
       "      <td>1.000000e+00</td>\n",
       "      <td>4.412160e+07</td>\n",
       "      <td>4.412150e+07</td>\n",
       "      <td>4.412000e+07</td>\n",
       "      <td>4.400000e+07</td>\n",
       "    </tr>\n",
       "    <tr>\n",
       "      <th>75%</th>\n",
       "      <td>1.482180e+06</td>\n",
       "      <td>6.000000e+00</td>\n",
       "      <td>7.210151e+07</td>\n",
       "      <td>7.116110e+07</td>\n",
       "      <td>7.116000e+07</td>\n",
       "      <td>7.100000e+07</td>\n",
       "    </tr>\n",
       "    <tr>\n",
       "      <th>max</th>\n",
       "      <td>9.548318e+08</td>\n",
       "      <td>2.000000e+07</td>\n",
       "      <td>9.514190e+07</td>\n",
       "      <td>9.514190e+07</td>\n",
       "      <td>9.514000e+07</td>\n",
       "      <td>9.500000e+07</td>\n",
       "    </tr>\n",
       "  </tbody>\n",
       "</table>\n",
       "</div>"
      ],
      "text/plain": [
       "       Supplier Code      Quantity  Normalized UNSPSC         Class  \\\n",
       "count   3.459820e+05  3.459880e+05       3.450010e+05  3.427230e+05   \n",
       "mean    8.434345e+05  2.316154e+03       4.932197e+07  4.927633e+07   \n",
       "std     2.461186e+06  1.058259e+05       2.246967e+07  2.246105e+07   \n",
       "min     0.000000e+00  1.000000e-04       3.018170e+05  1.010150e+07   \n",
       "25%     2.729200e+04  1.000000e+00       3.911171e+07  3.911160e+07   \n",
       "50%     1.012531e+06  1.000000e+00       4.412160e+07  4.412150e+07   \n",
       "75%     1.482180e+06  6.000000e+00       7.210151e+07  7.116110e+07   \n",
       "max     9.548318e+08  2.000000e+07       9.514190e+07  9.514190e+07   \n",
       "\n",
       "             Family       Segment  \n",
       "count  3.427230e+05  3.427230e+05  \n",
       "mean   4.927219e+07  4.913283e+07  \n",
       "std    2.246430e+07  2.246636e+07  \n",
       "min    3.018000e+06  1.000000e+07  \n",
       "25%    3.911000e+07  3.900000e+07  \n",
       "50%    4.412000e+07  4.400000e+07  \n",
       "75%    7.116000e+07  7.100000e+07  \n",
       "max    9.514000e+07  9.500000e+07  "
      ]
     },
     "execution_count": 35,
     "metadata": {},
     "output_type": "execute_result"
    }
   ],
   "source": [
    "df.describe()"
   ]
  },
  {
   "cell_type": "code",
   "execution_count": 44,
   "id": "455890e2-5b38-4a25-aa83-0751259e99fb",
   "metadata": {
    "tags": []
   },
   "outputs": [
    {
     "data": {
      "image/png": "[encoded data removed]",
      "text/plain": [
       "<Figure size 1200x1800 with 1 Axes>"
      ]
     },
     "metadata": {},
     "output_type": "display_data"
    }
   ],
   "source": [
    "missing_df = df.isnull().sum(axis=0).reset_index()\n",
    "missing_df.columns = ['column_name', 'missing_count']\n",
    "missing_df = missing_df.loc[missing_df['missing_count']>0]\n",
    "missing_df = missing_df.sort_values(by='missing_count')\n",
    "\n",
    "ind = np.arange(missing_df.shape[0])\n",
    "width = 0.9\n",
    "fig, ax = plt.subplots(figsize=(12,18))\n",
    "rects = ax.barh(ind, missing_df.missing_count.values, color='blue')\n",
    "ax.set_yticks(ind)\n",
    "ax.set_yticklabels(missing_df.column_name.values, rotation='horizontal')\n",
    "ax.set_xlabel(\"Count of missing values\")\n",
    "ax.set_title(\"Number of missing values in each column\")\n",
    "plt.show()"
   ]
  },
  {
   "cell_type": "code",
   "execution_count": 80,
   "id": "30cfcd50-66d6-4f15-a307-b37af1d89884",
   "metadata": {
    "tags": []
   },
   "outputs": [],
   "source": [
    "def histogram(df, name, bins=50, filter_nan=True, parser=None):\n",
    "    if filter_nan:\n",
    "        missing_df = df.isnull()\n",
    "        n_missing = missing_df[name].sum()\n",
    "        if n_missing > 0:\n",
    "            print(f'{n_missing}/{df.shape[0]} missing values for column: {name}')\n",
    "            df = df[missing_df[name] == False]\n",
    "            print(df.shape)\n",
    "    if parser:\n",
    "        df[name] = parser(df[name])\n",
    "    plt.hist(df[name], bins=bins, edgecolor='black')\n",
    "    plt.xlabel(name)\n",
    "    plt.ylabel('Frequency')\n",
    "    plt.title(f'{name} Histogram')\n",
    "    plt.xticks(fontsize=10, rotation=90)\n",
    "    plt.show()"
   ]
  },
  {
   "cell_type": "code",
   "execution_count": 79,
   "id": "fdcf4b00-7f01-43eb-9b21-627f4b20d005",
   "metadata": {
    "tags": []
   },
   "outputs": [
    {
     "data": {
      "image/png": "[encoded data removed]",
      "text/plain": [
       "<Figure size 640x480 with 1 Axes>"
      ]
     },
     "metadata": {},
     "output_type": "display_data"
    }
   ],
   "source": [
    "histogram(df, 'Creation Date')"
   ]
  },
  {
   "cell_type": "code",
   "execution_count": 188,
   "id": "cf8898ff-b2d3-40ec-a790-be31336e0eb8",
   "metadata": {
    "tags": []
   },
   "outputs": [
    {
     "data": {
      "text/html": [
       "<div>\n",
       "<style scoped>\n",
       "    .dataframe tbody tr th:only-of-type {\n",
       "        vertical-align: middle;\n",
       "    }\n",
       "\n",
       "    .dataframe tbody tr th {\n",
       "        vertical-align: top;\n",
       "    }\n",
       "\n",
       "    .dataframe thead th {\n",
       "        text-align: right;\n",
       "    }\n",
       "</style>\n",
       "<table border=\"1\" class=\"dataframe\">\n",
       "  <thead>\n",
       "    <tr style=\"text-align: right;\">\n",
       "      <th></th>\n",
       "      <th>Creation Date</th>\n",
       "      <th>Purchase Date</th>\n",
       "      <th>Fiscal Year</th>\n",
       "      <th>LPA Number</th>\n",
       "      <th>Purchase Order Number</th>\n",
       "      <th>Requisition Number</th>\n",
       "      <th>Acquisition Type</th>\n",
       "      <th>Sub-Acquisition Type</th>\n",
       "      <th>Acquisition Method</th>\n",
       "      <th>Sub-Acquisition Method</th>\n",
       "      <th>Department Name</th>\n",
       "      <th>Supplier Code</th>\n",
       "      <th>Supplier Name</th>\n",
       "      <th>Supplier Qualifications</th>\n",
       "      <th>Supplier Zip Code</th>\n",
       "      <th>CalCard</th>\n",
       "      <th>Item Name</th>\n",
       "      <th>Item Description</th>\n",
       "      <th>Quantity</th>\n",
       "      <th>Unit Price</th>\n",
       "      <th>Total Price</th>\n",
       "      <th>Classification Codes</th>\n",
       "      <th>Normalized UNSPSC</th>\n",
       "      <th>Commodity Title</th>\n",
       "      <th>Class</th>\n",
       "      <th>Class Title</th>\n",
       "      <th>Family</th>\n",
       "      <th>Family Title</th>\n",
       "      <th>Segment</th>\n",
       "      <th>Segment Title</th>\n",
       "      <th>Location</th>\n",
       "    </tr>\n",
       "  </thead>\n",
       "  <tbody>\n",
       "    <tr>\n",
       "      <th>736</th>\n",
       "      <td>2012-08-08</td>\n",
       "      <td>08/08/1912</td>\n",
       "      <td>2012-2013</td>\n",
       "      <td>NaN</td>\n",
       "      <td>S2869003</td>\n",
       "      <td>NaN</td>\n",
       "      <td>NON-IT Goods</td>\n",
       "      <td>NaN</td>\n",
       "      <td>Informal Competitive</td>\n",
       "      <td>NaN</td>\n",
       "      <td>Parks &amp; Recreation, Department of</td>\n",
       "      <td>1027255.0</td>\n",
       "      <td>Hayward Lumber &amp; Home Supply</td>\n",
       "      <td>NaN</td>\n",
       "      <td>93455</td>\n",
       "      <td>NO</td>\n",
       "      <td>Nails</td>\n",
       "      <td>Nails</td>\n",
       "      <td>1.0</td>\n",
       "      <td>$64.98</td>\n",
       "      <td>$64.98</td>\n",
       "      <td>31162002</td>\n",
       "      <td>31162002.0</td>\n",
       "      <td>Cap nails</td>\n",
       "      <td>31162000.0</td>\n",
       "      <td>Nails</td>\n",
       "      <td>31160000.0</td>\n",
       "      <td>Hardware</td>\n",
       "      <td>31000000.0</td>\n",
       "      <td>Manufacturing Components and Supplies</td>\n",
       "      <td>93455\\n(34.86075, -120.416107)</td>\n",
       "    </tr>\n",
       "    <tr>\n",
       "      <th>906</th>\n",
       "      <td>2012-08-08</td>\n",
       "      <td>08/08/1912</td>\n",
       "      <td>2012-2013</td>\n",
       "      <td>NaN</td>\n",
       "      <td>S2869003</td>\n",
       "      <td>NaN</td>\n",
       "      <td>NON-IT Goods</td>\n",
       "      <td>NaN</td>\n",
       "      <td>Informal Competitive</td>\n",
       "      <td>NaN</td>\n",
       "      <td>Parks &amp; Recreation, Department of</td>\n",
       "      <td>1027255.0</td>\n",
       "      <td>Hayward Lumber &amp; Home Supply</td>\n",
       "      <td>NaN</td>\n",
       "      <td>93455</td>\n",
       "      <td>NO</td>\n",
       "      <td>brackets</td>\n",
       "      <td>Simpson Brackets</td>\n",
       "      <td>150.0</td>\n",
       "      <td>$0.38</td>\n",
       "      <td>$57.00</td>\n",
       "      <td>31162501</td>\n",
       "      <td>31162501.0</td>\n",
       "      <td>Shelf brackets</td>\n",
       "      <td>31162500.0</td>\n",
       "      <td>Brackets and braces</td>\n",
       "      <td>31160000.0</td>\n",
       "      <td>Hardware</td>\n",
       "      <td>31000000.0</td>\n",
       "      <td>Manufacturing Components and Supplies</td>\n",
       "      <td>93455\\n(34.86075, -120.416107)</td>\n",
       "    </tr>\n",
       "    <tr>\n",
       "      <th>6451</th>\n",
       "      <td>2012-07-18</td>\n",
       "      <td>10/30/2510</td>\n",
       "      <td>2012-2013</td>\n",
       "      <td>7-11-51-01</td>\n",
       "      <td>4500187140</td>\n",
       "      <td>NaN</td>\n",
       "      <td>NON-IT Goods</td>\n",
       "      <td>NaN</td>\n",
       "      <td>WSCA/Coop</td>\n",
       "      <td>NaN</td>\n",
       "      <td>Water Resources, Department of</td>\n",
       "      <td>1013057.0</td>\n",
       "      <td>Fastenal</td>\n",
       "      <td>NaN</td>\n",
       "      <td>90640</td>\n",
       "      <td>NO</td>\n",
       "      <td>Facilities Maintenance</td>\n",
       "      <td>Facilities Maintenance</td>\n",
       "      <td>1.0</td>\n",
       "      <td>$9694.70</td>\n",
       "      <td>$9694.70</td>\n",
       "      <td>20122503</td>\n",
       "      <td>20122503.0</td>\n",
       "      <td>Coiled tubing units</td>\n",
       "      <td>20122500.0</td>\n",
       "      <td>Coiled tubing equipment</td>\n",
       "      <td>20120000.0</td>\n",
       "      <td>Oil and gas drilling and exploration equipment</td>\n",
       "      <td>20000000.0</td>\n",
       "      <td>Mining and Well Drilling Machinery and Accesso...</td>\n",
       "      <td>90640\\n(34.01573, -118.113367)</td>\n",
       "    </tr>\n",
       "    <tr>\n",
       "      <th>8707</th>\n",
       "      <td>2012-07-03</td>\n",
       "      <td>10/12/2729</td>\n",
       "      <td>2012-2013</td>\n",
       "      <td>NaN</td>\n",
       "      <td>5600003231</td>\n",
       "      <td>NaN</td>\n",
       "      <td>NON-IT Services</td>\n",
       "      <td>Personal Services</td>\n",
       "      <td>Formal Competitive</td>\n",
       "      <td>NaN</td>\n",
       "      <td>Corrections and Rehabilitation, Department of</td>\n",
       "      <td>1743557.0</td>\n",
       "      <td>Weingart Center</td>\n",
       "      <td>NaN</td>\n",
       "      <td>NaN</td>\n",
       "      <td>NO</td>\n",
       "      <td>Residential Multi Serivcer Center- Los Angeles...</td>\n",
       "      <td>The RMSC will provide housing, substance abuse...</td>\n",
       "      <td>1.0</td>\n",
       "      <td>$3720214.03</td>\n",
       "      <td>$3720214.03</td>\n",
       "      <td>60105426\\n86101810\\n86111602\\n85122103</td>\n",
       "      <td>60105426.0</td>\n",
       "      <td>Responsibility or Ddecision making skills inst...</td>\n",
       "      <td>60105400.0</td>\n",
       "      <td>Consumer economics and money management and in...</td>\n",
       "      <td>60100000.0</td>\n",
       "      <td>Developmental and professional teaching aids a...</td>\n",
       "      <td>60000000.0</td>\n",
       "      <td>Musical Instruments and Games and Toys and Art...</td>\n",
       "      <td>NaN</td>\n",
       "    </tr>\n",
       "    <tr>\n",
       "      <th>11590</th>\n",
       "      <td>2012-08-08</td>\n",
       "      <td>08/08/1912</td>\n",
       "      <td>2012-2013</td>\n",
       "      <td>NaN</td>\n",
       "      <td>S2869003</td>\n",
       "      <td>NaN</td>\n",
       "      <td>NON-IT Goods</td>\n",
       "      <td>NaN</td>\n",
       "      <td>Informal Competitive</td>\n",
       "      <td>NaN</td>\n",
       "      <td>Parks &amp; Recreation, Department of</td>\n",
       "      <td>1027255.0</td>\n",
       "      <td>Hayward Lumber &amp; Home Supply</td>\n",
       "      <td>NaN</td>\n",
       "      <td>93455</td>\n",
       "      <td>NO</td>\n",
       "      <td>Redwood</td>\n",
       "      <td>Redwood</td>\n",
       "      <td>210.0</td>\n",
       "      <td>$84.00</td>\n",
       "      <td>$17640.00</td>\n",
       "      <td>30103603</td>\n",
       "      <td>30103603.0</td>\n",
       "      <td>Framing lumber</td>\n",
       "      <td>30103600.0</td>\n",
       "      <td>Structural products</td>\n",
       "      <td>30100000.0</td>\n",
       "      <td>Structural components and basic shapes</td>\n",
       "      <td>30000000.0</td>\n",
       "      <td>Structures and Building and Construction and M...</td>\n",
       "      <td>93455\\n(34.86075, -120.416107)</td>\n",
       "    </tr>\n",
       "    <tr>\n",
       "      <th>...</th>\n",
       "      <td>...</td>\n",
       "      <td>...</td>\n",
       "      <td>...</td>\n",
       "      <td>...</td>\n",
       "      <td>...</td>\n",
       "      <td>...</td>\n",
       "      <td>...</td>\n",
       "      <td>...</td>\n",
       "      <td>...</td>\n",
       "      <td>...</td>\n",
       "      <td>...</td>\n",
       "      <td>...</td>\n",
       "      <td>...</td>\n",
       "      <td>...</td>\n",
       "      <td>...</td>\n",
       "      <td>...</td>\n",
       "      <td>...</td>\n",
       "      <td>...</td>\n",
       "      <td>...</td>\n",
       "      <td>...</td>\n",
       "      <td>...</td>\n",
       "      <td>...</td>\n",
       "      <td>...</td>\n",
       "      <td>...</td>\n",
       "      <td>...</td>\n",
       "      <td>...</td>\n",
       "      <td>...</td>\n",
       "      <td>...</td>\n",
       "      <td>...</td>\n",
       "      <td>...</td>\n",
       "      <td>...</td>\n",
       "    </tr>\n",
       "    <tr>\n",
       "      <th>328349</th>\n",
       "      <td>2014-04-07</td>\n",
       "      <td>03/31/3072</td>\n",
       "      <td>2013-2014</td>\n",
       "      <td>NaN</td>\n",
       "      <td>M494010</td>\n",
       "      <td>NaN</td>\n",
       "      <td>NON-IT Services</td>\n",
       "      <td>Personal Services</td>\n",
       "      <td>Services are specifically exempt by statute</td>\n",
       "      <td>NaN</td>\n",
       "      <td>Employment Development Department</td>\n",
       "      <td>1086741.0</td>\n",
       "      <td>Broadway Spring Center</td>\n",
       "      <td>NaN</td>\n",
       "      <td>90013</td>\n",
       "      <td>NO</td>\n",
       "      <td>parking space rental</td>\n",
       "      <td>parking space rental</td>\n",
       "      <td>1.0</td>\n",
       "      <td>$12700.00</td>\n",
       "      <td>$12700.00</td>\n",
       "      <td>78111807</td>\n",
       "      <td>78111807.0</td>\n",
       "      <td>Parking fees</td>\n",
       "      <td>78111800.0</td>\n",
       "      <td>Passenger road transportation</td>\n",
       "      <td>78110000.0</td>\n",
       "      <td>Passenger transport</td>\n",
       "      <td>78000000.0</td>\n",
       "      <td>Transportation and Storage and Mail Services</td>\n",
       "      <td>90013\\n(34.04469, -118.241599)</td>\n",
       "    </tr>\n",
       "    <tr>\n",
       "      <th>328631</th>\n",
       "      <td>2012-08-08</td>\n",
       "      <td>08/08/1912</td>\n",
       "      <td>2012-2013</td>\n",
       "      <td>NaN</td>\n",
       "      <td>S2869003</td>\n",
       "      <td>NaN</td>\n",
       "      <td>NON-IT Goods</td>\n",
       "      <td>NaN</td>\n",
       "      <td>Informal Competitive</td>\n",
       "      <td>NaN</td>\n",
       "      <td>Parks &amp; Recreation, Department of</td>\n",
       "      <td>1027255.0</td>\n",
       "      <td>Hayward Lumber &amp; Home Supply</td>\n",
       "      <td>NaN</td>\n",
       "      <td>93455</td>\n",
       "      <td>NO</td>\n",
       "      <td>Bracket</td>\n",
       "      <td>Bracket</td>\n",
       "      <td>28.0</td>\n",
       "      <td>$27.98</td>\n",
       "      <td>$783.44</td>\n",
       "      <td>31162506</td>\n",
       "      <td>31162506.0</td>\n",
       "      <td>Wall mount bracket</td>\n",
       "      <td>31162500.0</td>\n",
       "      <td>Brackets and braces</td>\n",
       "      <td>31160000.0</td>\n",
       "      <td>Hardware</td>\n",
       "      <td>31000000.0</td>\n",
       "      <td>Manufacturing Components and Supplies</td>\n",
       "      <td>93455\\n(34.86075, -120.416107)</td>\n",
       "    </tr>\n",
       "    <tr>\n",
       "      <th>339926</th>\n",
       "      <td>2014-05-29</td>\n",
       "      <td>11/01/2813</td>\n",
       "      <td>2013-2014</td>\n",
       "      <td>NaN</td>\n",
       "      <td>CBT13017</td>\n",
       "      <td>NaN</td>\n",
       "      <td>IT Goods</td>\n",
       "      <td>NaN</td>\n",
       "      <td>NCB</td>\n",
       "      <td>A single firm services a geographic region</td>\n",
       "      <td>Education, Department of</td>\n",
       "      <td>1015837.0</td>\n",
       "      <td>HUMANWARE</td>\n",
       "      <td>NaN</td>\n",
       "      <td>94520</td>\n",
       "      <td>NO</td>\n",
       "      <td>Oxford Dictionary &amp; Thesaurs</td>\n",
       "      <td>Oxford Dictionary &amp; Thesaurus</td>\n",
       "      <td>1.0</td>\n",
       "      <td>$169.15</td>\n",
       "      <td>$169.15</td>\n",
       "      <td>43232507</td>\n",
       "      <td>43232507.0</td>\n",
       "      <td>Dictionary software</td>\n",
       "      <td>43232500.0</td>\n",
       "      <td>Educational or reference software</td>\n",
       "      <td>43230000.0</td>\n",
       "      <td>Software</td>\n",
       "      <td>43000000.0</td>\n",
       "      <td>Information Technology Broadcasting and Teleco...</td>\n",
       "      <td>94520\\n(37.996066, -122.035862)</td>\n",
       "    </tr>\n",
       "    <tr>\n",
       "      <th>340389</th>\n",
       "      <td>2012-11-01</td>\n",
       "      <td>08/28/2912</td>\n",
       "      <td>2012-2013</td>\n",
       "      <td>NaN</td>\n",
       "      <td>HD250070</td>\n",
       "      <td>NaN</td>\n",
       "      <td>NON-IT Goods</td>\n",
       "      <td>NaN</td>\n",
       "      <td>Informal Competitive</td>\n",
       "      <td>NaN</td>\n",
       "      <td>Developmental Services, Department of</td>\n",
       "      <td>30811.0</td>\n",
       "      <td>T3 Toner LLC</td>\n",
       "      <td>CA-MB CA-SB CA-SBE</td>\n",
       "      <td>95742</td>\n",
       "      <td>NO</td>\n",
       "      <td>Toner Cartridge</td>\n",
       "      <td>Toner Cartridge</td>\n",
       "      <td>5.0</td>\n",
       "      <td>$18.00</td>\n",
       "      <td>$90.00</td>\n",
       "      <td>44103103</td>\n",
       "      <td>44103103.0</td>\n",
       "      <td>Printer or facsimile toner</td>\n",
       "      <td>44103100.0</td>\n",
       "      <td>Printer and facsimile and photocopier supplies</td>\n",
       "      <td>44100000.0</td>\n",
       "      <td>Office machines and their supplies and accesso...</td>\n",
       "      <td>44000000.0</td>\n",
       "      <td>Office Equipment and Accessories and Supplies</td>\n",
       "      <td>95742\\n(38.585855, -121.217204)</td>\n",
       "    </tr>\n",
       "    <tr>\n",
       "      <th>343149</th>\n",
       "      <td>2012-11-07</td>\n",
       "      <td>11/07/2112</td>\n",
       "      <td>2012-2013</td>\n",
       "      <td>NaN</td>\n",
       "      <td>4500191271</td>\n",
       "      <td>NaN</td>\n",
       "      <td>NON-IT Goods</td>\n",
       "      <td>NaN</td>\n",
       "      <td>Informal Competitive</td>\n",
       "      <td>NaN</td>\n",
       "      <td>Water Resources, Department of</td>\n",
       "      <td>26701.0</td>\n",
       "      <td>Traut Line Industrial</td>\n",
       "      <td>CA-MB CA-SB CA-SBE</td>\n",
       "      <td>93010</td>\n",
       "      <td>NO</td>\n",
       "      <td>CARRY BAG,DAVIT,#8518513</td>\n",
       "      <td>CARRY BAG,DAVIT,#8518513</td>\n",
       "      <td>1.0</td>\n",
       "      <td>$206.16</td>\n",
       "      <td>$206.16</td>\n",
       "      <td>24111508</td>\n",
       "      <td>24111508.0</td>\n",
       "      <td>Tent bag</td>\n",
       "      <td>24111500.0</td>\n",
       "      <td>Bags</td>\n",
       "      <td>24110000.0</td>\n",
       "      <td>Containers and storage</td>\n",
       "      <td>24000000.0</td>\n",
       "      <td>Material Handling and Conditioning and Storage...</td>\n",
       "      <td>93010\\n(34.230552, -119.057652)</td>\n",
       "    </tr>\n",
       "  </tbody>\n",
       "</table>\n",
       "<p>182 rows × 31 columns</p>\n",
       "</div>"
      ],
      "text/plain": [
       "       Creation Date Purchase Date Fiscal Year  LPA Number  \\\n",
       "736       2012-08-08    08/08/1912   2012-2013         NaN   \n",
       "906       2012-08-08    08/08/1912   2012-2013         NaN   \n",
       "6451      2012-07-18    10/30/2510   2012-2013  7-11-51-01   \n",
       "8707      2012-07-03    10/12/2729   2012-2013         NaN   \n",
       "11590     2012-08-08    08/08/1912   2012-2013         NaN   \n",
       "...              ...           ...         ...         ...   \n",
       "328349    2014-04-07    03/31/3072   2013-2014         NaN   \n",
       "328631    2012-08-08    08/08/1912   2012-2013         NaN   \n",
       "339926    2014-05-29    11/01/2813   2013-2014         NaN   \n",
       "340389    2012-11-01    08/28/2912   2012-2013         NaN   \n",
       "343149    2012-11-07    11/07/2112   2012-2013         NaN   \n",
       "\n",
       "       Purchase Order Number Requisition Number Acquisition Type  \\\n",
       "736                 S2869003                NaN     NON-IT Goods   \n",
       "906                 S2869003                NaN     NON-IT Goods   \n",
       "6451              4500187140                NaN     NON-IT Goods   \n",
       "8707              5600003231                NaN  NON-IT Services   \n",
       "11590               S2869003                NaN     NON-IT Goods   \n",
       "...                      ...                ...              ...   \n",
       "328349               M494010                NaN  NON-IT Services   \n",
       "328631              S2869003                NaN     NON-IT Goods   \n",
       "339926              CBT13017                NaN         IT Goods   \n",
       "340389              HD250070                NaN     NON-IT Goods   \n",
       "343149            4500191271                NaN     NON-IT Goods   \n",
       "\n",
       "       Sub-Acquisition Type                           Acquisition Method  \\\n",
       "736                     NaN                         Informal Competitive   \n",
       "906                     NaN                         Informal Competitive   \n",
       "6451                    NaN                                    WSCA/Coop   \n",
       "8707      Personal Services                           Formal Competitive   \n",
       "11590                   NaN                         Informal Competitive   \n",
       "...                     ...                                          ...   \n",
       "328349    Personal Services  Services are specifically exempt by statute   \n",
       "328631                  NaN                         Informal Competitive   \n",
       "339926                  NaN                                          NCB   \n",
       "340389                  NaN                         Informal Competitive   \n",
       "343149                  NaN                         Informal Competitive   \n",
       "\n",
       "                            Sub-Acquisition Method  \\\n",
       "736                                            NaN   \n",
       "906                                            NaN   \n",
       "6451                                           NaN   \n",
       "8707                                           NaN   \n",
       "11590                                          NaN   \n",
       "...                                            ...   \n",
       "328349                                         NaN   \n",
       "328631                                         NaN   \n",
       "339926  A single firm services a geographic region   \n",
       "340389                                         NaN   \n",
       "343149                                         NaN   \n",
       "\n",
       "                                      Department Name  Supplier Code  \\\n",
       "736                 Parks & Recreation, Department of      1027255.0   \n",
       "906                 Parks & Recreation, Department of      1027255.0   \n",
       "6451                   Water Resources, Department of      1013057.0   \n",
       "8707    Corrections and Rehabilitation, Department of      1743557.0   \n",
       "11590               Parks & Recreation, Department of      1027255.0   \n",
       "...                                               ...            ...   \n",
       "328349              Employment Development Department      1086741.0   \n",
       "328631              Parks & Recreation, Department of      1027255.0   \n",
       "339926                       Education, Department of      1015837.0   \n",
       "340389          Developmental Services, Department of        30811.0   \n",
       "343149                 Water Resources, Department of        26701.0   \n",
       "\n",
       "                       Supplier Name Supplier Qualifications  \\\n",
       "736     Hayward Lumber & Home Supply                     NaN   \n",
       "906     Hayward Lumber & Home Supply                     NaN   \n",
       "6451                        Fastenal                     NaN   \n",
       "8707                 Weingart Center                     NaN   \n",
       "11590   Hayward Lumber & Home Supply                     NaN   \n",
       "...                              ...                     ...   \n",
       "328349        Broadway Spring Center                     NaN   \n",
       "328631  Hayward Lumber & Home Supply                     NaN   \n",
       "339926                     HUMANWARE                     NaN   \n",
       "340389                  T3 Toner LLC      CA-MB CA-SB CA-SBE   \n",
       "343149         Traut Line Industrial      CA-MB CA-SB CA-SBE   \n",
       "\n",
       "       Supplier Zip Code CalCard  \\\n",
       "736                93455      NO   \n",
       "906                93455      NO   \n",
       "6451               90640      NO   \n",
       "8707                 NaN      NO   \n",
       "11590              93455      NO   \n",
       "...                  ...     ...   \n",
       "328349             90013      NO   \n",
       "328631             93455      NO   \n",
       "339926             94520      NO   \n",
       "340389             95742      NO   \n",
       "343149             93010      NO   \n",
       "\n",
       "                                                Item Name  \\\n",
       "736                                                 Nails   \n",
       "906                                              brackets   \n",
       "6451                               Facilities Maintenance   \n",
       "8707    Residential Multi Serivcer Center- Los Angeles...   \n",
       "11590                                             Redwood   \n",
       "...                                                   ...   \n",
       "328349                               parking space rental   \n",
       "328631                                            Bracket   \n",
       "339926                       Oxford Dictionary & Thesaurs   \n",
       "340389                                    Toner Cartridge   \n",
       "343149                           CARRY BAG,DAVIT,#8518513   \n",
       "\n",
       "                                         Item Description  Quantity  \\\n",
       "736                                                 Nails       1.0   \n",
       "906                                      Simpson Brackets     150.0   \n",
       "6451                               Facilities Maintenance       1.0   \n",
       "8707    The RMSC will provide housing, substance abuse...       1.0   \n",
       "11590                                             Redwood     210.0   \n",
       "...                                                   ...       ...   \n",
       "328349                               parking space rental       1.0   \n",
       "328631                                            Bracket      28.0   \n",
       "339926                      Oxford Dictionary & Thesaurus       1.0   \n",
       "340389                                    Toner Cartridge       5.0   \n",
       "343149                           CARRY BAG,DAVIT,#8518513       1.0   \n",
       "\n",
       "         Unit Price  Total Price                    Classification Codes  \\\n",
       "736          $64.98       $64.98                                31162002   \n",
       "906           $0.38       $57.00                                31162501   \n",
       "6451       $9694.70     $9694.70                                20122503   \n",
       "8707    $3720214.03  $3720214.03  60105426\\n86101810\\n86111602\\n85122103   \n",
       "11590        $84.00    $17640.00                                30103603   \n",
       "...             ...          ...                                     ...   \n",
       "328349    $12700.00    $12700.00                                78111807   \n",
       "328631       $27.98      $783.44                                31162506   \n",
       "339926      $169.15      $169.15                                43232507   \n",
       "340389       $18.00       $90.00                                44103103   \n",
       "343149      $206.16      $206.16                                24111508   \n",
       "\n",
       "        Normalized UNSPSC                                    Commodity Title  \\\n",
       "736            31162002.0                                          Cap nails   \n",
       "906            31162501.0                                     Shelf brackets   \n",
       "6451           20122503.0                                Coiled tubing units   \n",
       "8707           60105426.0  Responsibility or Ddecision making skills inst...   \n",
       "11590          30103603.0                                     Framing lumber   \n",
       "...                   ...                                                ...   \n",
       "328349         78111807.0                                       Parking fees   \n",
       "328631         31162506.0                                 Wall mount bracket   \n",
       "339926         43232507.0                                Dictionary software   \n",
       "340389         44103103.0                         Printer or facsimile toner   \n",
       "343149         24111508.0                                           Tent bag   \n",
       "\n",
       "             Class                                        Class Title  \\\n",
       "736     31162000.0                                              Nails   \n",
       "906     31162500.0                                Brackets and braces   \n",
       "6451    20122500.0                            Coiled tubing equipment   \n",
       "8707    60105400.0  Consumer economics and money management and in...   \n",
       "11590   30103600.0                                Structural products   \n",
       "...            ...                                                ...   \n",
       "328349  78111800.0                      Passenger road transportation   \n",
       "328631  31162500.0                                Brackets and braces   \n",
       "339926  43232500.0                  Educational or reference software   \n",
       "340389  44103100.0     Printer and facsimile and photocopier supplies   \n",
       "343149  24111500.0                                               Bags   \n",
       "\n",
       "            Family                                       Family Title  \\\n",
       "736     31160000.0                                           Hardware   \n",
       "906     31160000.0                                           Hardware   \n",
       "6451    20120000.0     Oil and gas drilling and exploration equipment   \n",
       "8707    60100000.0  Developmental and professional teaching aids a...   \n",
       "11590   30100000.0             Structural components and basic shapes   \n",
       "...            ...                                                ...   \n",
       "328349  78110000.0                                Passenger transport   \n",
       "328631  31160000.0                                           Hardware   \n",
       "339926  43230000.0                                           Software   \n",
       "340389  44100000.0  Office machines and their supplies and accesso...   \n",
       "343149  24110000.0                             Containers and storage   \n",
       "\n",
       "           Segment                                      Segment Title  \\\n",
       "736     31000000.0              Manufacturing Components and Supplies   \n",
       "906     31000000.0              Manufacturing Components and Supplies   \n",
       "6451    20000000.0  Mining and Well Drilling Machinery and Accesso...   \n",
       "8707    60000000.0  Musical Instruments and Games and Toys and Art...   \n",
       "11590   30000000.0  Structures and Building and Construction and M...   \n",
       "...            ...                                                ...   \n",
       "328349  78000000.0       Transportation and Storage and Mail Services   \n",
       "328631  31000000.0              Manufacturing Components and Supplies   \n",
       "339926  43000000.0  Information Technology Broadcasting and Teleco...   \n",
       "340389  44000000.0      Office Equipment and Accessories and Supplies   \n",
       "343149  24000000.0  Material Handling and Conditioning and Storage...   \n",
       "\n",
       "                               Location  \n",
       "736      93455\\n(34.86075, -120.416107)  \n",
       "906      93455\\n(34.86075, -120.416107)  \n",
       "6451     90640\\n(34.01573, -118.113367)  \n",
       "8707                                NaN  \n",
       "11590    93455\\n(34.86075, -120.416107)  \n",
       "...                                 ...  \n",
       "328349   90013\\n(34.04469, -118.241599)  \n",
       "328631   93455\\n(34.86075, -120.416107)  \n",
       "339926  94520\\n(37.996066, -122.035862)  \n",
       "340389  95742\\n(38.585855, -121.217204)  \n",
       "343149  93010\\n(34.230552, -119.057652)  \n",
       "\n",
       "[182 rows x 31 columns]"
      ]
     },
     "execution_count": 188,
     "metadata": {},
     "output_type": "execute_result"
    }
   ],
   "source": [
    "# erroneous purchase dates\n",
    "err_dates = []\n",
    "for date_str in df[df['Purchase Date'].isnull()==False]['Purchase Date']:\n",
    "    entry_date = datetime.strptime(date_str, '%m/%d/%Y')\n",
    "    if entry_date.year < 1990 or entry_date.year > 2025:\n",
    "        err_dates.append(date_str)\n",
    "\n",
    "err_condition = df['Purchase Date'] == err_dates[0]\n",
    "for err_date in err_dates[1:]:\n",
    "    err_condition |= df['Purchase Date'] == err_date\n",
    "df[err_condition]"
   ]
  },
  {
   "cell_type": "code",
   "execution_count": 192,
   "id": "a9cec764-be9b-473a-a140-dfdf39a037d4",
   "metadata": {
    "tags": []
   },
   "outputs": [],
   "source": [
    "df['Purchase Date'] = pd.to_datetime([date[:-4]+'20'+date[-2:] if type(date) != float else date for date in df['Purchase Date'].values])"
   ]
  },
  {
   "cell_type": "code",
   "execution_count": 193,
   "id": "7d12bac8-9c93-4799-8165-ed9247ca1268",
   "metadata": {
    "tags": []
   },
   "outputs": [
    {
     "name": "stdout",
     "output_type": "stream",
     "text": [
      "17436/346018 missing values for column: Purchase Date\n",
      "(328582, 31)\n"
     ]
    },
    {
     "name": "stderr",
     "output_type": "stream",
     "text": [
      "/var/folders/7w/gkxkn5vs7t3_lv3qlp7c094h0000gn/T/ipykernel_20250/4271015213.py:10: SettingWithCopyWarning: \n",
      "A value is trying to be set on a copy of a slice from a DataFrame.\n",
      "Try using .loc[row_indexer,col_indexer] = value instead\n",
      "\n",
      "See the caveats in the documentation: https://pandas.pydata.org/pandas-docs/stable/user_guide/indexing.html#returning-a-view-versus-a-copy\n",
      "  df[name] = parser(df[name])\n"
     ]
    },
    {
     "data": {
      "image/png": "[encoded data removed]",
      "text/plain": [
       "<Figure size 640x480 with 1 Axes>"
      ]
     },
     "metadata": {},
     "output_type": "display_data"
    }
   ],
   "source": [
    "def to_datetime(inputs):\n",
    "    return pd.to_datetime(inputs, format='%m/%d/%Y')\n",
    "histogram(df, 'Purchase Date', parser=to_datetime)"
   ]
  },
  {
   "cell_type": "code",
   "execution_count": 274,
   "id": "fce7af96-dabd-41e1-9106-7da242b9cef9",
   "metadata": {
    "tags": []
   },
   "outputs": [
    {
     "data": {
      "text/plain": [
       "2014-07-01    4500\n",
       "2013-07-01    4463\n",
       "2015-07-01    2757\n",
       "2012-07-01    2221\n",
       "2013-05-01    1221\n",
       "              ... \n",
       "2008-06-23       1\n",
       "2097-02-01       1\n",
       "2005-06-28       1\n",
       "2018-09-16       1\n",
       "2021-06-06       1\n",
       "Name: Purchase Date, Length: 2207, dtype: int64"
      ]
     },
     "execution_count": 274,
     "metadata": {},
     "output_type": "execute_result"
    }
   ],
   "source": [
    "df['Purchase Date'].value_counts()"
   ]
  },
  {
   "cell_type": "code",
   "execution_count": 194,
   "id": "b1791765-bffc-47d6-9933-09fd8010b502",
   "metadata": {
    "tags": []
   },
   "outputs": [
    {
     "data": {
      "text/plain": [
       "2013-2014    120636\n",
       "2014-2015    116537\n",
       "2012-2013    108845\n",
       "Name: Fiscal Year, dtype: int64"
      ]
     },
     "execution_count": 194,
     "metadata": {},
     "output_type": "execute_result"
    }
   ],
   "source": [
    "df['Fiscal Year'].value_counts()"
   ]
  },
  {
   "cell_type": "code",
   "execution_count": 195,
   "id": "84203bbf-804f-4519-94fd-2608b3e17647",
   "metadata": {
    "tags": []
   },
   "outputs": [
    {
     "data": {
      "text/plain": [
       "7-11-51-02         9267\n",
       "1-10-75-60A        3763\n",
       "1-12-65-65-01-E    3717\n",
       "1-11-70-04O        3097\n",
       "1-13-70-02A        2612\n",
       "                   ... \n",
       "1-14-65-54-A          1\n",
       "5137002-047           1\n",
       "3-11-70-0255Y         1\n",
       "5137002-127           1\n",
       "3-12-70-0040AR        1\n",
       "Name: LPA Number, Length: 1420, dtype: int64"
      ]
     },
     "execution_count": 195,
     "metadata": {},
     "output_type": "execute_result"
    }
   ],
   "source": [
    "df['LPA Number'].value_counts()"
   ]
  },
  {
   "cell_type": "code",
   "execution_count": 196,
   "id": "2d0331a6-c7bd-45b4-b811-35c390ffa8ca",
   "metadata": {
    "tags": []
   },
   "outputs": [
    {
     "data": {
      "text/plain": [
       "4500211314    602\n",
       "4500201426    579\n",
       "4500203794    578\n",
       "4500204899    578\n",
       "4500202454    564\n",
       "             ... \n",
       "A9-1314-29      1\n",
       "4500233137      1\n",
       "4500233243      1\n",
       "4500233121      1\n",
       "2ui3L262        1\n",
       "Name: Purchase Order Number, Length: 200533, dtype: int64"
      ]
     },
     "execution_count": 196,
     "metadata": {},
     "output_type": "execute_result"
    }
   ],
   "source": [
    "df['Purchase Order Number'].value_counts()"
   ]
  },
  {
   "cell_type": "code",
   "execution_count": 197,
   "id": "0bf5770c-c81d-4ddb-8ee8-ddcf9ad0fb82",
   "metadata": {
    "tags": []
   },
   "outputs": [
    {
     "data": {
      "text/plain": [
       "REQ0008872    123\n",
       "REQ0010655     81\n",
       "REQ0009177     65\n",
       "REQ0010201     62\n",
       "REQ0008985     59\n",
       "             ... \n",
       "REQ0013764      1\n",
       "REQ0013852      1\n",
       "REQ0013625      1\n",
       "REQ0013811      1\n",
       "REQ0010019      1\n",
       "Name: Requisition Number, Length: 5997, dtype: int64"
      ]
     },
     "execution_count": 197,
     "metadata": {},
     "output_type": "execute_result"
    }
   ],
   "source": [
    "df['Requisition Number'].value_counts()"
   ]
  },
  {
   "cell_type": "code",
   "execution_count": 198,
   "id": "c36fe5ca-b618-46c5-ac7a-962194133a7a",
   "metadata": {
    "tags": []
   },
   "outputs": [
    {
     "data": {
      "text/plain": [
       "NON-IT Goods             215083\n",
       "NON-IT Services           68372\n",
       "IT Goods                  50900\n",
       "IT Services               11516\n",
       "IT Telecommunications       147\n",
       "Name: Acquisition Type, dtype: int64"
      ]
     },
     "execution_count": 198,
     "metadata": {},
     "output_type": "execute_result"
    }
   ],
   "source": [
    "df['Acquisition Type'].value_counts()"
   ]
  },
  {
   "cell_type": "code",
   "execution_count": 199,
   "id": "db3a1fbd-b76d-4c13-bb44-2a12d8d95a10",
   "metadata": {
    "tags": []
   },
   "outputs": [
    {
     "data": {
      "text/plain": [
       "Personal Services                                                      16104\n",
       "Services are specifically exempt by statute                            11854\n",
       "Emergency Contract                                                      7913\n",
       "Subvention and Local Assistance                                         7048\n",
       "Public Works                                                            4791\n",
       "Expert Witneses                                                         3800\n",
       "Interagency Agreements                                                  3261\n",
       "Agreements with other governmental entities and public universities     2051\n",
       "Architectural and Engineering                                           1785\n",
       "Contracts with Local Governments                                        1562\n",
       "Nonprofit Organizations                                                 1345\n",
       "Printing Services                                                       1246\n",
       "Legal Services                                                          1167\n",
       "Consulting Services                                                     1150\n",
       "UC, CSU, Community Colleges, and foundations / auxiliaries              1104\n",
       "Convention and Conference Services                                       489\n",
       "Joint Power Agreement                                                    387\n",
       "Federally Funded                                                         315\n",
       "Hazardous Activities                                                     296\n",
       "Memberships                                                              227\n",
       "Commercial Office Moving Services                                        191\n",
       "Contracting for Students                                                  84\n",
       "Elevator Maintenance                                                      83\n",
       "Revenue Agreements                                                        61\n",
       "Fiscal Intermediaries                                                     23\n",
       "Name: Sub-Acquisition Type, dtype: int64"
      ]
     },
     "execution_count": 199,
     "metadata": {},
     "output_type": "execute_result"
    }
   ],
   "source": [
    "df['Sub-Acquisition Type'].value_counts()"
   ]
  },
  {
   "cell_type": "code",
   "execution_count": 200,
   "id": "1d53e9e5-23c5-443a-896e-abcc01456913",
   "metadata": {
    "tags": []
   },
   "outputs": [
    {
     "data": {
      "text/plain": [
       "Informal Competitive                           82083\n",
       "Statewide Contract                             63488\n",
       "SB/DVBE Option                                 38500\n",
       "Services are specifically exempt by statute    33045\n",
       "State Programs                                 27842\n",
       "Fair and Reasonable                            25400\n",
       "WSCA/Coop                                      19478\n",
       "Formal Competitive                             18479\n",
       "Services are specifically exempt by policy     11302\n",
       "Emergency Purchase                             10186\n",
       "NCB                                             4439\n",
       "CMAS                                            3514\n",
       "Master Service Agreement                        2309\n",
       "Software License Program                        1949\n",
       "Master Purchase/Price Agreement                 1528\n",
       "CRP                                              685\n",
       "Special Category Request (SCR)                   677\n",
       "Statement of Qualifications                      547\n",
       "LCB                                              488\n",
       "State Price Schedule                              79\n",
       "Name: Acquisition Method, dtype: int64"
      ]
     },
     "execution_count": 200,
     "metadata": {},
     "output_type": "execute_result"
    }
   ],
   "source": [
    "df['Acquisition Method'].value_counts()"
   ]
  },
  {
   "cell_type": "code",
   "execution_count": 201,
   "id": "dd7fc5c6-aab7-4b2b-b387-8106c1dc7add",
   "metadata": {
    "tags": []
   },
   "outputs": [
    {
     "data": {
      "text/plain": [
       "Fleet                                                         14148\n",
       "Prison Industry Authority (PIA)                               11602\n",
       "Only goods and services that meet needs of the State           1810\n",
       "Office of State Printing (OSP)                                  812\n",
       "Interagency Agreement                                           565\n",
       "Services are specifically exempt by statute                     521\n",
       "Other                                                           503\n",
       "Emergency acquisition for the protection of the public          334\n",
       "A single firm services a geographic region                      328\n",
       "Contract with other government agency                           117\n",
       "SB/DVBE Option                                                   83\n",
       "Subvention contracts with private/non-profit entity/agency       28\n",
       "Legal defense advice or services by an attorney or staff         18\n",
       "Master Service Agreement                                         15\n",
       "Transportation Management Unit (TMU)                             10\n",
       "Surplus                                                           2\n",
       "Name: Sub-Acquisition Method, dtype: int64"
      ]
     },
     "execution_count": 201,
     "metadata": {},
     "output_type": "execute_result"
    }
   ],
   "source": [
    "df['Sub-Acquisition Method'].value_counts()"
   ]
  },
  {
   "cell_type": "code",
   "execution_count": 202,
   "id": "718bc17a-ca46-49ca-89dc-fe2a87ee4fa2",
   "metadata": {
    "tags": []
   },
   "outputs": [
    {
     "data": {
      "text/plain": [
       "Corrections and Rehabilitation, Department of    57537\n",
       "Correctional Health Care Services                32250\n",
       "Water Resources, Department of                   28331\n",
       "Forestry and Fire Protection, Department of      23244\n",
       "State Hospitals, Department of                   18968\n",
       "                                                 ...  \n",
       "Building Standards Commission                        2\n",
       "CA Commission on Disability Access                   2\n",
       "Citizens Redistricting Commission                    1\n",
       "California Natural Resources Agency                  1\n",
       "State and Consumer Services Agency                   1\n",
       "Name: Department Name, Length: 111, dtype: int64"
      ]
     },
     "execution_count": 202,
     "metadata": {},
     "output_type": "execute_result"
    }
   ],
   "source": [
    "df['Department Name'].value_counts()"
   ]
  },
  {
   "cell_type": "code",
   "execution_count": 203,
   "id": "5fab66fd-adc1-422f-af1c-9daa064a37b6",
   "metadata": {
    "tags": []
   },
   "outputs": [
    {
     "data": {
      "text/plain": [
       "1743406.0    13756\n",
       "1001584.0     9441\n",
       "1065902.0     8508\n",
       "1008361.0     6991\n",
       "1087660.0     6709\n",
       "             ...  \n",
       "1754487.0        1\n",
       "1784194.0        1\n",
       "10116.0          1\n",
       "1784296.0        1\n",
       "1189245.0        1\n",
       "Name: Supplier Code, Length: 25239, dtype: int64"
      ]
     },
     "execution_count": 203,
     "metadata": {},
     "output_type": "execute_result"
    }
   ],
   "source": [
    "df['Supplier Code'].value_counts()"
   ]
  },
  {
   "cell_type": "code",
   "execution_count": 204,
   "id": "f2d75034-8d45-4f92-927e-64c59627711c",
   "metadata": {
    "tags": []
   },
   "outputs": [
    {
     "data": {
      "text/plain": [
       "Voyager Fleet Systems Inc         13756\n",
       "Grainger Industrial Supply         9441\n",
       "Prison Industry Authority          8979\n",
       "3B INDUSTRIES INC                  6991\n",
       "Technology Integration Group       6817\n",
       "                                  ...  \n",
       "Daniela Hernandez                     1\n",
       "Julie Jeffray                         1\n",
       "Padra Nourparvar                      1\n",
       "Veronica Chavez                       1\n",
       "Procare Janitorial Supply, INC        1\n",
       "Name: Supplier Name, Length: 24732, dtype: int64"
      ]
     },
     "execution_count": 204,
     "metadata": {},
     "output_type": "execute_result"
    }
   ],
   "source": [
    "df['Supplier Name'].value_counts()"
   ]
  },
  {
   "cell_type": "code",
   "execution_count": 205,
   "id": "5297ea32-b436-43a0-8651-0672f7600083",
   "metadata": {
    "tags": []
   },
   "outputs": [
    {
     "data": {
      "text/plain": [
       "CA-MB CA-SB                        53077\n",
       "CA-SB                              33221\n",
       "CA-MB CA-SB CA-SBE                  7744\n",
       "CA-DVBE CA-MB CA-SB                 5661\n",
       "CA-SB CA-SBE                        5630\n",
       "                                   ...  \n",
       "CA-SB CA-SBE DBE SB WBE WOSB           1\n",
       "CA-SB CA-SBE CDVBE DBE MOSB SB         1\n",
       "CA-MB CA-SB DBE MBE SB WBE WOSB        1\n",
       "CA-SBE DBE MBE SB                      1\n",
       "CA-MB CA-SB MBE MOSB WBE WOSB          1\n",
       "Name: Supplier Qualifications, Length: 278, dtype: int64"
      ]
     },
     "execution_count": 205,
     "metadata": {},
     "output_type": "execute_result"
    }
   ],
   "source": [
    "df['Supplier Qualifications'].value_counts()"
   ]
  },
  {
   "cell_type": "code",
   "execution_count": 206,
   "id": "efb6cdd2-9e8f-4231-9ead-29b9a7bc7138",
   "metadata": {
    "tags": []
   },
   "outputs": [
    {
     "data": {
      "text/plain": [
       "95691         11095\n",
       "95814         10921\n",
       "95696          8518\n",
       "95827          7159\n",
       "95841          7008\n",
       "              ...  \n",
       "08807-0911        1\n",
       "55416             1\n",
       "91367-6583        1\n",
       "21030             1\n",
       "94567             1\n",
       "Name: Supplier Zip Code, Length: 3993, dtype: int64"
      ]
     },
     "execution_count": 206,
     "metadata": {},
     "output_type": "execute_result"
    }
   ],
   "source": [
    "df['Supplier Zip Code'].value_counts()"
   ]
  },
  {
   "cell_type": "code",
   "execution_count": 207,
   "id": "78c2e932-8272-47fe-9bbd-7d7988e98bc4",
   "metadata": {
    "tags": []
   },
   "outputs": [
    {
     "data": {
      "text/plain": [
       "NO     340646\n",
       "YES      5372\n",
       "Name: CalCard, dtype: int64"
      ]
     },
     "execution_count": 207,
     "metadata": {},
     "output_type": "execute_result"
    }
   ],
   "source": [
    "df['CalCard'].value_counts()"
   ]
  },
  {
   "cell_type": "code",
   "execution_count": 208,
   "id": "4e6a9d16-11ba-41c7-94aa-5ae52a01c1ec",
   "metadata": {
    "tags": []
   },
   "outputs": [
    {
     "data": {
      "text/plain": [
       "Medical Supplies                                            2916\n",
       "Contract                                                    2092\n",
       "ew                                                          1539\n",
       "Expert Witness                                              1317\n",
       "medical vocational training                                 1092\n",
       "                                                            ... \n",
       "In-Custody substance abuse treatment programs (region I)       1\n",
       "Plaster Molds                                                  1\n",
       "TrendMicro Portal Protection Software Support                  1\n",
       "Avocado 70/CS                                                  1\n",
       "LOCAL GOVERNMENT-LABOR                                         1\n",
       "Name: Item Name, Length: 180030, dtype: int64"
      ]
     },
     "execution_count": 208,
     "metadata": {},
     "output_type": "execute_result"
    }
   ],
   "source": [
    "df['Item Name'].value_counts()"
   ]
  },
  {
   "cell_type": "code",
   "execution_count": 209,
   "id": "37667e4f-d2bd-4399-a4f4-c611d3713928",
   "metadata": {
    "tags": []
   },
   "outputs": [
    {
     "data": {
      "text/plain": [
       "confidential                            1637\n",
       "Medical Supplies                        1390\n",
       "medical vocational training             1084\n",
       "medical training                         857\n",
       "vest                                     780\n",
       "                                        ... \n",
       "Emergency Vehicle Detection                1\n",
       "BOOT,RUBBER,STEEL TOE,MUCK,SIZE 9-11       1\n",
       "soft cases for aed machines                1\n",
       "lactated rings                             1\n",
       "Dremel 120 Volt Engraver                   1\n",
       "Name: Item Description, Length: 219509, dtype: int64"
      ]
     },
     "execution_count": 209,
     "metadata": {},
     "output_type": "execute_result"
    }
   ],
   "source": [
    "df['Item Description'].value_counts()"
   ]
  },
  {
   "cell_type": "code",
   "execution_count": 210,
   "id": "586d5461-ff65-4706-8eaf-1edb102b05fc",
   "metadata": {
    "tags": []
   },
   "outputs": [
    {
     "data": {
      "text/plain": [
       "1.00        214019\n",
       "2.00         18383\n",
       "4.00          8794\n",
       "3.00          8288\n",
       "10.00         7053\n",
       "             ...  \n",
       "24952.00         1\n",
       "217.50           1\n",
       "2010.00          1\n",
       "3030.24          1\n",
       "80.40            1\n",
       "Name: Quantity, Length: 6131, dtype: int64"
      ]
     },
     "execution_count": 210,
     "metadata": {},
     "output_type": "execute_result"
    }
   ],
   "source": [
    "df['Quantity'].value_counts()"
   ]
  },
  {
   "cell_type": "code",
   "execution_count": 211,
   "id": "4e03bc00-9151-4411-a43d-ae94ab5c255c",
   "metadata": {
    "tags": []
   },
   "outputs": [
    {
     "data": {
      "text/plain": [
       "$0.00        7552\n",
       "$1.00        3616\n",
       "$10000.00    2205\n",
       "$50000.00    1222\n",
       "$4.00        1139\n",
       "             ... \n",
       "$6702.66        1\n",
       "$11352.35       1\n",
       "$21949.59       1\n",
       "$2073.96        1\n",
       "$17455.91       1\n",
       "Name: Unit Price, Length: 128167, dtype: int64"
      ]
     },
     "execution_count": 211,
     "metadata": {},
     "output_type": "execute_result"
    }
   ],
   "source": [
    "df['Unit Price'].value_counts()"
   ]
  },
  {
   "cell_type": "code",
   "execution_count": 307,
   "id": "81aea483-6dc7-4fa9-a712-7d7d263cb411",
   "metadata": {
    "tags": []
   },
   "outputs": [
    {
     "data": {
      "image/png": "[encoded data removed]",
      "text/plain": [
       "<Figure size 640x480 with 1 Axes>"
      ]
     },
     "metadata": {},
     "output_type": "display_data"
    }
   ],
   "source": [
    "df['Unit Price'] = df['Unit Price'].apply(price_to_float)\n",
    "histogram(df[(df['Unit Price']>-100)&(df['Unit Price']<10000)], 'Unit Price')"
   ]
  },
  {
   "cell_type": "code",
   "execution_count": 212,
   "id": "adec130f-2385-4467-804a-759aee8ced30",
   "metadata": {
    "tags": []
   },
   "outputs": [
    {
     "data": {
      "text/plain": [
       "$0.00        7519\n",
       "$10000.00    2290\n",
       "$50000.00    1261\n",
       "$15000.00    1150\n",
       "$20000.00    1005\n",
       "             ... \n",
       "$21646.26       1\n",
       "$2905.21        1\n",
       "$5668.70        1\n",
       "$10392.60       1\n",
       "$17455.91       1\n",
       "Name: Total Price, Length: 150305, dtype: int64"
      ]
     },
     "execution_count": 212,
     "metadata": {},
     "output_type": "execute_result"
    }
   ],
   "source": [
    "df['Total Price'].value_counts()"
   ]
  },
  {
   "cell_type": "code",
   "execution_count": 290,
   "id": "27c50fbe-762e-47ce-8711-298907a89e23",
   "metadata": {
    "tags": []
   },
   "outputs": [
    {
     "data": {
      "image/png": "[encoded data removed]",
      "text/plain": [
       "<Figure size 640x480 with 1 Axes>"
      ]
     },
     "metadata": {},
     "output_type": "display_data"
    }
   ],
   "source": [
    "df['Total Price'] = df['Total Price'].apply(price_to_float)\n",
    "histogram(df[(df['Total Price']>-100)&(df['Total Price']<10000)], 'Total Price')"
   ]
  },
  {
   "cell_type": "code",
   "execution_count": 286,
   "id": "722ff113-f960-49b3-9790-3ef8ec041bed",
   "metadata": {
    "tags": []
   },
   "outputs": [
    {
     "data": {
      "text/plain": [
       "0"
      ]
     },
     "execution_count": 286,
     "metadata": {},
     "output_type": "execute_result"
    }
   ],
   "source": [
    "(df['Total Price'] > 10000000000).sum()"
   ]
  },
  {
   "cell_type": "code",
   "execution_count": 213,
   "id": "3eaf18c1-5e84-4abe-b8ab-61f09de72c9f",
   "metadata": {
    "tags": []
   },
   "outputs": [
    {
     "data": {
      "text/plain": [
       "15101506                                                                                                                                                                    12679\n",
       "44103103                                                                                                                                                                     6905\n",
       "86101605                                                                                                                                                                     4769\n",
       "85101705                                                                                                                                                                     4198\n",
       "80121903                                                                                                                                                                     3622\n",
       "                                                                                                                                                                            ...  \n",
       "21101504\\n23151601\\n23241507\\n31162701\\n40142008\\n46191603\\n47121602\\n52141540                                                                                                  1\n",
       "41112505                                                                                                                                                                        1\n",
       "42311601\\n51142915                                                                                                                                                              1\n",
       "25202502                                                                                                                                                                        1\n",
       "15121503\\n15121505\\n23101512\\n23241616\\n24131601\\n25172907\\n26111710\\n31151512\\n31151906\\n31201502\\n39111610\\n39121441\\n40141735\\n43211707\\n27111760\\n27112746\\n26111816        1\n",
       "Name: Classification Codes, Length: 46049, dtype: int64"
      ]
     },
     "execution_count": 213,
     "metadata": {},
     "output_type": "execute_result"
    }
   ],
   "source": [
    "df['Classification Codes'].value_counts()"
   ]
  },
  {
   "cell_type": "code",
   "execution_count": 214,
   "id": "1802da08-ec56-4094-897c-0add20ed1b6e",
   "metadata": {
    "tags": []
   },
   "outputs": [
    {
     "data": {
      "text/plain": [
       "15101506.0    12776\n",
       "44103103.0     7274\n",
       "86101605.0     4783\n",
       "85101705.0     4204\n",
       "81112201.0     3745\n",
       "              ...  \n",
       "46182102.0        1\n",
       "50401820.0        1\n",
       "25201605.0        1\n",
       "12181602.0        1\n",
       "41123006.0        1\n",
       "Name: Normalized UNSPSC, Length: 13553, dtype: int64"
      ]
     },
     "execution_count": 214,
     "metadata": {},
     "output_type": "execute_result"
    }
   ],
   "source": [
    "df['Normalized UNSPSC'].value_counts()"
   ]
  },
  {
   "cell_type": "code",
   "execution_count": 215,
   "id": "a00aa8f8-7674-4386-b917-6d6de8d0ddbd",
   "metadata": {
    "tags": []
   },
   "outputs": [
    {
     "data": {
      "text/plain": [
       "Gasoline or Petrol                       12776\n",
       "Printer or facsimile toner                7274\n",
       "Medical vocational training services      4783\n",
       "Public health administration              4204\n",
       "Maintenance or support fees               3745\n",
       "                                         ...  \n",
       "Addressing machines                          1\n",
       "Beach towels                                 1\n",
       "Laboratory X ray equipment controller        1\n",
       "Flurbiprofen                                 1\n",
       "Cement floating equipment stage tools        1\n",
       "Name: Commodity Title, Length: 13220, dtype: int64"
      ]
     },
     "execution_count": 215,
     "metadata": {},
     "output_type": "execute_result"
    }
   ],
   "source": [
    "df['Commodity Title'].value_counts()"
   ]
  },
  {
   "cell_type": "code",
   "execution_count": 216,
   "id": "f660c279-c17b-4e6e-83e2-4a374b9743e5",
   "metadata": {
    "tags": []
   },
   "outputs": [
    {
     "data": {
      "text/plain": [
       "15101500.0    14584\n",
       "44103100.0     9457\n",
       "14111500.0     7190\n",
       "81112200.0     7026\n",
       "43211500.0     6974\n",
       "              ...  \n",
       "10323200.0        1\n",
       "81161600.0        1\n",
       "83112500.0        1\n",
       "86131600.0        1\n",
       "41123100.0        1\n",
       "Name: Class, Length: 2363, dtype: int64"
      ]
     },
     "execution_count": 216,
     "metadata": {},
     "output_type": "execute_result"
    }
   ],
   "source": [
    "df['Class'].value_counts()"
   ]
  },
  {
   "cell_type": "code",
   "execution_count": 217,
   "id": "983e333a-1ea9-4e5d-8e26-4dd5cc6dc770",
   "metadata": {
    "tags": []
   },
   "outputs": [
    {
     "data": {
      "text/plain": [
       "Petroleum and distillates                         14584\n",
       "Printer and facsimile and photocopier supplies     9457\n",
       "Printing and writing paper                         7190\n",
       "Software maintenance and support                   7026\n",
       "Computers                                          6974\n",
       "                                                  ...  \n",
       "Multilateral equipment                                1\n",
       "Dried organic lentils                                 1\n",
       "Industrial drilling tools                             1\n",
       "Mud removal mixtures                                  1\n",
       "Laboratory dialysis supplies                          1\n",
       "Name: Class Title, Length: 2360, dtype: int64"
      ]
     },
     "execution_count": 217,
     "metadata": {},
     "output_type": "execute_result"
    }
   ],
   "source": [
    "df['Class Title'].value_counts()"
   ]
  },
  {
   "cell_type": "code",
   "execution_count": 218,
   "id": "160ff736-5e9d-4ff0-8dea-3e92202c8c60",
   "metadata": {
    "tags": []
   },
   "outputs": [
    {
     "data": {
      "text/plain": [
       "44100000.0    16479\n",
       "15100000.0    14599\n",
       "81110000.0    13946\n",
       "43210000.0    13851\n",
       "14110000.0    10772\n",
       "              ...  \n",
       "31290000.0        1\n",
       "10230000.0        1\n",
       "31340000.0        1\n",
       "11180000.0        1\n",
       "31110000.0        1\n",
       "Name: Family, Length: 409, dtype: int64"
      ]
     },
     "execution_count": 218,
     "metadata": {},
     "output_type": "execute_result"
    }
   ],
   "source": [
    "df['Family'].value_counts()"
   ]
  },
  {
   "cell_type": "code",
   "execution_count": 219,
   "id": "cd6f47a5-a9cb-471e-9170-557d3d620e9c",
   "metadata": {
    "tags": []
   },
   "outputs": [
    {
     "data": {
      "text/plain": [
       "Office machines and their supplies and accessories    16479\n",
       "Fuels                                                 14599\n",
       "Computer services                                     13946\n",
       "Computer Equipment and Accessories                    13851\n",
       "Paper products                                        10772\n",
       "                                                      ...  \n",
       "Fabricated sheet assemblies                               1\n",
       "Machined extrusions                                       1\n",
       "Live chrysanthemums                                       1\n",
       "Metal oxide                                               1\n",
       "Extrusions                                                1\n",
       "Name: Family Title, Length: 411, dtype: int64"
      ]
     },
     "execution_count": 219,
     "metadata": {},
     "output_type": "execute_result"
    }
   ],
   "source": [
    "df['Family Title'].value_counts()"
   ]
  },
  {
   "cell_type": "code",
   "execution_count": 220,
   "id": "ff139a41-67e5-42ff-ba39-7afd00b91759",
   "metadata": {
    "tags": []
   },
   "outputs": [
    {
     "data": {
      "text/plain": [
       "43000000.0    32681\n",
       "50000000.0    27875\n",
       "44000000.0    27745\n",
       "81000000.0    17350\n",
       "42000000.0    16491\n",
       "15000000.0    16029\n",
       "14000000.0    11235\n",
       "25000000.0    10965\n",
       "86000000.0    10643\n",
       "46000000.0    10196\n",
       "80000000.0     9532\n",
       "85000000.0     7977\n",
       "56000000.0     7521\n",
       "41000000.0     6998\n",
       "76000000.0     6700\n",
       "30000000.0     6603\n",
       "72000000.0     6529\n",
       "26000000.0     6493\n",
       "24000000.0     5844\n",
       "78000000.0     5740\n",
       "39000000.0     5725\n",
       "93000000.0     5724\n",
       "31000000.0     5459\n",
       "55000000.0     5276\n",
       "40000000.0     5164\n",
       "53000000.0     4726\n",
       "47000000.0     4362\n",
       "60000000.0     4042\n",
       "52000000.0     3665\n",
       "27000000.0     3639\n",
       "10000000.0     3299\n",
       "20000000.0     3060\n",
       "23000000.0     2920\n",
       "73000000.0     2724\n",
       "12000000.0     2402\n",
       "82000000.0     2387\n",
       "45000000.0     2274\n",
       "11000000.0     2203\n",
       "92000000.0     2168\n",
       "70000000.0     2082\n",
       "32000000.0     2042\n",
       "83000000.0     1733\n",
       "48000000.0     1658\n",
       "90000000.0     1515\n",
       "77000000.0     1449\n",
       "22000000.0     1372\n",
       "51000000.0     1363\n",
       "49000000.0     1261\n",
       "84000000.0     1236\n",
       "71000000.0     1051\n",
       "95000000.0      953\n",
       "94000000.0      917\n",
       "21000000.0      548\n",
       "13000000.0      504\n",
       "54000000.0      418\n",
       "91000000.0      255\n",
       "Name: Segment, dtype: int64"
      ]
     },
     "execution_count": 220,
     "metadata": {},
     "output_type": "execute_result"
    }
   ],
   "source": [
    "df['Segment'].value_counts()"
   ]
  },
  {
   "cell_type": "code",
   "execution_count": 221,
   "id": "09d5dfb7-4d9b-4773-98eb-fbc701cf4a37",
   "metadata": {
    "tags": []
   },
   "outputs": [
    {
     "data": {
      "text/plain": [
       "Information Technology Broadcasting and Telecommunications                                                                         32681\n",
       "Food Beverage and Tobacco Products                                                                                                 27875\n",
       "Office Equipment and Accessories and Supplies                                                                                      27745\n",
       "Engineering and Research and Technology Based Services                                                                             17350\n",
       "Medical Equipment and Accessories and Supplies                                                                                     16491\n",
       "Fuels and Fuel Additives and Lubricants and Anti corrosive Materials                                                               16029\n",
       "Paper Materials and Products                                                                                                       11235\n",
       "Commercial and Military and Private Vehicles and their Accessories and Components                                                  10965\n",
       "Education and Training Services                                                                                                    10643\n",
       "Defense and Law Enforcement and Security and Safety Equipment and Supplies                                                         10196\n",
       "Management and Business Professionals and Administrative Services                                                                   9532\n",
       "Healthcare Services                                                                                                                 7977\n",
       "Furniture and Furnishings                                                                                                           7521\n",
       "Laboratory and Measuring and Observing and Testing Equipment                                                                        6998\n",
       "Industrial Cleaning Services                                                                                                        6700\n",
       "Structures and Building and Construction and Manufacturing Components and Supplies                                                  6603\n",
       "Building and Facility Construction and Maintenance Services                                                                         6529\n",
       "Power Generation and Distribution Machinery and Accessories                                                                         6493\n",
       "Material Handling and Conditioning and Storage Machinery and their Accessories and Supplies                                         5844\n",
       "Transportation and Storage and Mail Services                                                                                        5740\n",
       "Electrical Systems and Lighting and Components and Accessories and Supplies                                                         5725\n",
       "Politics and Civic Affairs Services                                                                                                 5724\n",
       "Manufacturing Components and Supplies                                                                                               5459\n",
       "Published Products                                                                                                                  5276\n",
       "Distribution and Conditioning Systems and Equipment and Components                                                                  5164\n",
       "Apparel and Luggage and Personal Care Products                                                                                      4726\n",
       "Cleaning Equipment and Supplies                                                                                                     4362\n",
       "Musical Instruments and Games and Toys and Arts and Crafts and Educational Equipment and Materials and Accessories and Supplies     4042\n",
       "Domestic Appliances and Supplies and Consumer Electronic Products                                                                   3665\n",
       "Tools and General Machinery                                                                                                         3639\n",
       "Live Plant and Animal Material and Accessories and Supplies                                                                         3299\n",
       "Mining and Well Drilling Machinery and Accessories                                                                                  3060\n",
       "Industrial Manufacturing and Processing Machinery and Accessories                                                                   2920\n",
       "Industrial Production and Manufacturing Services                                                                                    2724\n",
       "Chemicals including Bio Chemicals and Gas Materials                                                                                 2402\n",
       "Editorial and Design and Graphic and Fine Art Services                                                                              2387\n",
       "Printing and Photographic and Audio and Visual Equipment and Supplies                                                               2274\n",
       "Mineral and Textile and Inedible Plant and Animal Materials                                                                         2203\n",
       "National Defense and Public Order and Security and Safety Services                                                                  2168\n",
       "Farming and Fishing and Forestry and Wildlife Contracting Services                                                                  2082\n",
       "Electronic Components and Supplies                                                                                                  2042\n",
       "Public Utilities and Public Sector Related Services                                                                                 1733\n",
       "Service Industry Machinery and Equipment and Supplies                                                                               1658\n",
       "Travel and Food and Lodging and Entertainment Services                                                                              1515\n",
       "Environmental Services                                                                                                              1449\n",
       "Building and Construction Machinery and Accessories                                                                                 1372\n",
       "Drugs and Pharmaceutical Products                                                                                                   1363\n",
       "Sports and Recreational Equipment and Supplies and Accessories                                                                      1261\n",
       "Financial and Insurance Services                                                                                                    1236\n",
       "Mining and oil and gas services                                                                                                     1051\n",
       "Land and Buildings and Structures and Thoroughfares                                                                                  953\n",
       "Organizations and Clubs                                                                                                              917\n",
       "Farming and Fishing and Forestry and Wildlife Machinery and Accessories                                                              548\n",
       "Resin and Rosin and Rubber and Foam and Film and Elastomeric Materials                                                               504\n",
       "Timepieces and Jewelry and Gemstone Products                                                                                         418\n",
       "Personal and Domestic Services                                                                                                       255\n",
       "Name: Segment Title, dtype: int64"
      ]
     },
     "execution_count": 221,
     "metadata": {},
     "output_type": "execute_result"
    }
   ],
   "source": [
    "df['Segment Title'].value_counts()"
   ]
  },
  {
   "cell_type": "code",
   "execution_count": 222,
   "id": "c1a6f2cf-a7da-43bd-9e10-dcab57557b64",
   "metadata": {
    "tags": []
   },
   "outputs": [
    {
     "data": {
      "text/plain": [
       "95691\\n(38.575311, -121.560401)         11095\n",
       "95814\\n(38.580427, -121.494396)         10921\n",
       "95696\\n(38.43, -122.02)                  8518\n",
       "95827\\n(38.563097, -121.328511)          7159\n",
       "95841\\n(38.662263, -121.346136)          7008\n",
       "                                        ...  \n",
       "08807-0911\\n(40.593467, -74.625191)         1\n",
       "55416\\n(44.949147, -93.341905)              1\n",
       "91367-6583\\n(34.174327, -118.590055)        1\n",
       "21030\\n(39.48372, -76.653962)               1\n",
       "94567\\n(38.663508, -122.455222)             1\n",
       "Name: Location, Length: 3993, dtype: int64"
      ]
     },
     "execution_count": 222,
     "metadata": {},
     "output_type": "execute_result"
    }
   ],
   "source": [
    "df['Location'].value_counts()"
   ]
  },
  {
   "cell_type": "code",
   "execution_count": 262,
   "id": "de9a16c6-0f2f-42a9-8415-464e41c52cce",
   "metadata": {
    "tags": []
   },
   "outputs": [
    {
     "name": "stdout",
     "output_type": "stream",
     "text": [
      "94567\n",
      "(38.663508, -122.455222)\n"
     ]
    }
   ],
   "source": [
    "for entry in df['Location']:\n",
    "    if type(entry) == float and math.isnan(entry):\n",
    "        pass\n",
    "    elif '\\n' not in entry:\n",
    "        print(entry)\n",
    "    else:\n",
    "        if '94567' in entry:\n",
    "            print(entry)"
   ]
  },
  {
   "cell_type": "code",
   "execution_count": null,
   "id": "96075d64-06c2-4dcf-8b81-a66cf0f56eab",
   "metadata": {},
   "outputs": [],
   "source": []
  }
 ],
 "metadata": {
  "kernelspec": {
   "display_name": "Python 3 (ipykernel)",
   "language": "python",
   "name": "python3"
  },
  "language_info": {
   "codemirror_mode": {
    "name": "ipython",
    "version": 3
   },
   "file_extension": ".py",
   "mimetype": "text/x-python",
   "name": "python",
   "nbconvert_exporter": "python",
   "pygments_lexer": "ipython3",
   "version": "3.9.6"
  }
 },
 "nbformat": 4,
 "nbformat_minor": 5
}
