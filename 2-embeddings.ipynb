{
 "cells": [
  {
   "cell_type": "code",
   "execution_count": 101,
   "id": "b3de5356-f564-4e2a-afc3-21f4f767ed74",
   "metadata": {
    "tags": []
   },
   "outputs": [],
   "source": [
    "import pandas as pd\n",
    "import numpy as np\n",
    "import math\n",
    "import os\n",
    "from tqdm.notebook import tqdm"
   ]
  },
  {
   "cell_type": "code",
   "execution_count": 2,
   "id": "02de8597-95e4-4474-91fd-f217785fdb10",
   "metadata": {
    "tags": []
   },
   "outputs": [],
   "source": [
    "df = pd.read_csv('train.csv', index_col=0)"
   ]
  },
  {
   "cell_type": "code",
   "execution_count": 98,
   "id": "099ce3d0-fc6b-4271-87cd-218600fc54d3",
   "metadata": {
    "tags": []
   },
   "outputs": [],
   "source": [
    "from utils import entry_to_desc\n",
    "from openai import OpenAI\n",
    "client = OpenAI(api_key=os.environ['OPENAI_KEY'])\n",
    "\n",
    "def df_to_desc(df_):\n",
    "    descs = []\n",
    "    for i in notebook.tqdm(df_.index):\n",
    "        entry = df_.loc[i]\n",
    "        desc = entry_to_desc(entry)\n",
    "        descs.append((i, desc))\n",
    "    return descs"
   ]
  },
  {
   "cell_type": "code",
   "execution_count": 108,
   "id": "42569e19-67fa-45a9-b055-df2b68e2cc30",
   "metadata": {
    "tags": []
   },
   "outputs": [],
   "source": [
    "embedding_model = \"text-embedding-ada-002\"\n",
    "embedding_length = 1536\n",
    "\n",
    "def df_to_embeddings(df_, output):\n",
    "    if os.path.isfile(output):\n",
    "        return []\n",
    "    n_rows, _ = df_.shape\n",
    "    embeddings = np.empty((n_rows, embedding_length+1))\n",
    "    for row, i in enumerate(df_.index):\n",
    "        entry = df_.loc[i]\n",
    "        desc = entry_to_desc(entry)\n",
    "        response = client.embeddings.create(input=desc, model=embedding_model)\n",
    "        embeddings[row, 0] = i\n",
    "        embeddings[row, 1:] = np.array(response.data[0].embedding)\n",
    "    np.save(output, embeddings)\n",
    "    print(f'Processed {output}')\n",
    "    return embeddings"
   ]
  },
  {
   "cell_type": "code",
   "execution_count": 109,
   "id": "94a8791b-d694-4541-bfcc-e969a4699fb8",
   "metadata": {
    "tags": []
   },
   "outputs": [],
   "source": [
    "import multiprocess as mp\n",
    "\n",
    "with mp.Pool(20) as pool:\n",
    "    # Initialize tqdm with the total number of tasks\n",
    "    total_tasks = 3460\n",
    "    per_task = 100\n",
    "    args_list = [(df[j*per_task:(j+1)*per_task], f'training_embeddings/training_embeddings_{j}.npy') for j in range(total_tasks)]\n",
    "    result = pool.starmap_async(df_to_embeddings, args_list)\n",
    "    # Wait for all processes to finish\n",
    "    emb = result.get()"
   ]
  },
  {
   "cell_type": "code",
   "execution_count": null,
   "id": "47ca63b7-d775-428f-b7f2-ded8b93ee7ca",
   "metadata": {},
   "outputs": [],
   "source": []
  }
 ],
 "metadata": {
  "kernelspec": {
   "display_name": "Python 3 (ipykernel)",
   "language": "python",
   "name": "python3"
  },
  "language_info": {
   "codemirror_mode": {
    "name": "ipython",
    "version": 3
   },
   "file_extension": ".py",
   "mimetype": "text/x-python",
   "name": "python",
   "nbconvert_exporter": "python",
   "pygments_lexer": "ipython3",
   "version": "3.9.6"
  }
 },
 "nbformat": 4,
 "nbformat_minor": 5
}
